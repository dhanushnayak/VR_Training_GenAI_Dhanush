{
 "cells": [
  {
   "cell_type": "markdown",
   "metadata": {},
   "source": [
    "# Operators and Control Flow"
   ]
  },
  {
   "cell_type": "markdown",
   "metadata": {},
   "source": [
    "### Arithmetic Operators"
   ]
  },
  {
   "cell_type": "code",
   "execution_count": 13,
   "metadata": {},
   "outputs": [
    {
     "name": "stdout",
     "output_type": "stream",
     "text": [
      "Addition: 10 + 3 = 13\n",
      "Subtraction: 10 - 3 = 7\n",
      "Multiplication: 10 * 3 = 30\n",
      "Division: 10 / 3 = 3.3333333333333335\n",
      "Floor Division: Q 10 // 3 = 3\n",
      "Modulus: R 10 % 3 = 1\n",
      "Exponentiation: 10 ** 3 = 1000\n"
     ]
    }
   ],
   "source": [
    "a, b, c = 10, 3, 7\n",
    "\n",
    "print(f\"Addition: {a} + {b} = {a + b}\")\n",
    "print(f\"Subtraction: {a} - {b} = {a - b}\")\n",
    "print(f\"Multiplication: {a} * {b} = {a * b}\")\n",
    "print(f\"Division: {a} / {b} = {a / b}\")\n",
    "print(f\"Floor Division: Q {a} // {b} = {a // b}\") \n",
    "print(f\"Modulus: R {a} % {b} = {a % b}\")\n",
    "print(f\"Exponentiation: {a} ** {b} = {a ** b}\")"
   ]
  },
  {
   "cell_type": "code",
   "execution_count": 14,
   "metadata": {},
   "outputs": [
    {
     "data": {
      "text/plain": [
       "0"
      ]
     },
     "execution_count": 14,
     "metadata": {},
     "output_type": "execute_result"
    }
   ],
   "source": [
    " 2  ^ 3\n",
    "5 = 2 *2 * 2* 2 * 2"
   ]
  },
  {
   "cell_type": "code",
   "execution_count": 16,
   "metadata": {},
   "outputs": [
    {
     "data": {
      "text/plain": [
       "32"
      ]
     },
     "execution_count": 16,
     "metadata": {},
     "output_type": "execute_result"
    }
   ],
   "source": [
    "a = 2 \n",
    "b = 5\n",
    "a**b"
   ]
  },
  {
   "cell_type": "code",
   "execution_count": 12,
   "metadata": {},
   "outputs": [
    {
     "data": {
      "text/plain": [
       "3"
      ]
     },
     "execution_count": 12,
     "metadata": {},
     "output_type": "execute_result"
    }
   ],
   "source": [
    "a//b"
   ]
  },
  {
   "cell_type": "code",
   "execution_count": 2,
   "metadata": {},
   "outputs": [
    {
     "name": "stdout",
     "output_type": "stream",
     "text": [
      "Hello Dhanush - Vr\n"
     ]
    }
   ],
   "source": [
    "name=\"Dhanush - Vr\"\n",
    "print(f\"Hello {name}\")"
   ]
  },
  {
   "cell_type": "code",
   "execution_count": 30,
   "metadata": {},
   "outputs": [
    {
     "name": "stdout",
     "output_type": "stream",
     "text": [
      "CPU times: total: 0 ns\n",
      "Wall time: 0 ns\n"
     ]
    },
    {
     "data": {
      "text/plain": [
       "10715086071862673209484250490600018105614048117055336074437503883703510511249361224931983788156958581275946729175531468251871452856923140435984577574698574803934567774824230985421074605062371141877954182153046474983581941267398767559165543946077062914571196477686542167660429831652624386837205668069376"
      ]
     },
     "execution_count": 30,
     "metadata": {},
     "output_type": "execute_result"
    }
   ],
   "source": [
    "%%time\n",
    "2 ** 1000"
   ]
  },
  {
   "cell_type": "markdown",
   "metadata": {},
   "source": [
    "### Comparison Operators"
   ]
  },
  {
   "cell_type": "code",
   "execution_count": 17,
   "metadata": {},
   "outputs": [
    {
     "name": "stdout",
     "output_type": "stream",
     "text": [
      "5 == 8: False\n",
      "5 != 8: True\n",
      "5 < 8: True\n",
      "5 > 8: False\n",
      "5 <= 8: True\n",
      "5 >= 8: False\n"
     ]
    }
   ],
   "source": [
    "x, y, z  = 5, 8, 10\n",
    "\n",
    "print(f\"{x} == {y}: {x == y}\")\n",
    "print(f\"{x} != {y}: {x != y}\")\n",
    "print(f\"{x} < {y}: {x < y}\")\n",
    "print(f\"{x} > {y}: {x > y}\")\n",
    "print(f\"{x} <= {y}: {x <= y}\")\n",
    "print(f\"{x} >= {y}: {x >= y}\")"
   ]
  },
  {
   "cell_type": "code",
   "execution_count": 31,
   "metadata": {},
   "outputs": [
    {
     "data": {
      "text/plain": [
       "False"
      ]
     },
     "execution_count": 31,
     "metadata": {},
     "output_type": "execute_result"
    }
   ],
   "source": [
    "(x == y)\n",
    "(x != y)\n",
    "x < y\n",
    "x > z\n",
    "x <= y\n",
    "x >= y"
   ]
  },
  {
   "cell_type": "code",
   "execution_count": null,
   "metadata": {},
   "outputs": [],
   "source": []
  },
  {
   "cell_type": "code",
   "execution_count": null,
   "metadata": {},
   "outputs": [],
   "source": [
    "a = \"10\""
   ]
  },
  {
   "cell_type": "code",
   "execution_count": 62,
   "metadata": {},
   "outputs": [
    {
     "name": "stdout",
     "output_type": "stream",
     "text": [
      "<class 'str'> <class 'str'>\n"
     ]
    }
   ],
   "source": [
    "a = \"10\"\n",
    "b = \"3\"\n",
    "if (type(a) != int) or (type(b) !=int) : \n",
    "        print(\"Or Worked\")\n",
    "        a = int(a)\n",
    "        b = int(b\n",
    "else:\n",
    "    print(\"If not workedl, so took else\")\n",
    "\n",
    "\n",
    "print(type(a),type(b))\n"
   ]
  },
  {
   "cell_type": "code",
   "execution_count": null,
   "metadata": {},
   "outputs": [],
   "source": [
    "if cond:\n",
    "    logic1\n",
    "else:\n",
    "    logic2"
   ]
  },
  {
   "cell_type": "code",
   "execution_count": null,
   "metadata": {},
   "outputs": [],
   "source": [
    "if cond1:\n",
    "    logic1\n",
    "elif cond2:\n",
    "    logic2\n",
    "elif cond3:\n",
    "    logic3\n",
    "else:\n",
    "    logic4 / deafault"
   ]
  },
  {
   "cell_type": "code",
   "execution_count": 60,
   "metadata": {},
   "outputs": [
    {
     "data": {
      "text/plain": [
       "False"
      ]
     },
     "execution_count": 60,
     "metadata": {},
     "output_type": "execute_result"
    }
   ],
   "source": [
    "P = True\n",
    "not p"
   ]
  },
  {
   "cell_type": "markdown",
   "metadata": {},
   "source": [
    "### Logical Operators"
   ]
  },
  {
   "cell_type": "markdown",
   "metadata": {},
   "source": [
    "<h3> And </h3>\n",
    "\n",
    "a - True, B True = True\n",
    "\n",
    "a - False, B = True = False\n",
    "\n",
    "a - True, B= false = false\n",
    "\n",
    "a  and b both false = false\n",
    "\n",
    "<h3>OR</h3>\n",
    "\n",
    "a - True, B True = True\n",
    "\n",
    "a - False, B = True = True\n",
    "\n",
    "a - True, B= false = True\n",
    "\n",
    "a  and b both false = False"
   ]
  },
  {
   "cell_type": "code",
   "execution_count": 41,
   "metadata": {},
   "outputs": [
    {
     "name": "stdout",
     "output_type": "stream",
     "text": [
      "False and 1: False\n",
      "False or 1: True\n",
      "not False: True\n",
      "not 1: False\n"
     ]
    }
   ],
   "source": [
    "p, q = False, 1\n",
    "\n",
    "print(f\"{p} and {q}: {p and q}\")\n",
    "print(f\"{p} or {q}: {bool((p or q))}\")\n",
    "print(f\"not {p}: {not p}\")\n",
    "print(f\"not {q}: {not q}\")"
   ]
  },
  {
   "cell_type": "code",
   "execution_count": 8,
   "metadata": {},
   "outputs": [
    {
     "data": {
      "text/plain": [
       "4.0"
      ]
     },
     "execution_count": 8,
     "metadata": {},
     "output_type": "execute_result"
    }
   ],
   "source": [
    "2.0 ** 2.0"
   ]
  },
  {
   "cell_type": "code",
   "execution_count": null,
   "metadata": {},
   "outputs": [],
   "source": [
    "2 "
   ]
  },
  {
   "cell_type": "markdown",
   "metadata": {},
   "source": [
    "### Control Flow - If Statements"
   ]
  },
  {
   "cell_type": "raw",
   "metadata": {},
   "source": [
    "if (cond):\n",
    "    \"\"\"IF TRUE\"\"\"\n",
    "    path_a - > logic\n",
    "else:\n",
    "    path_b\n",
    "\n",
    "\n",
    "    "
   ]
  },
  {
   "cell_type": "code",
   "execution_count": 45,
   "metadata": {},
   "outputs": [
    {
     "name": "stdout",
     "output_type": "stream",
     "text": [
      "Scored: 50\n"
     ]
    }
   ],
   "source": [
    "score = 50\n",
    "if score >= 150:\n",
    "    print(\"150 Half Century\")\n",
    "\n",
    "elif score >=100 and score <= 200:\n",
    "    print(\"Century\")\n",
    "\n",
    "\n",
    "elif score >=200 and score <=300:\n",
    "    print(\"Double Century\")\n",
    "else:\n",
    "    print(f\"Scored: {score}\")\n",
    "    "
   ]
  },
  {
   "cell_type": "code",
   "execution_count": 44,
   "metadata": {},
   "outputs": [
    {
     "name": "stdout",
     "output_type": "stream",
     "text": [
      "Score: 60, Grade: D\n"
     ]
    }
   ],
   "source": [
    "score = 60\n",
    "\n",
    "if score >= 90:\n",
    "    grade = \"A\"\n",
    "elif score >= 80:\n",
    "    grade = \"B\"\n",
    "elif score >= 70:\n",
    "    grade = \"C\"\n",
    "elif score >= 60:\n",
    "    grade = \"D\"\n",
    "else:\n",
    "    grade = \"F\"\n",
    "\n",
    "print(f\"Score: {score}, Grade: {grade}\")"
   ]
  },
  {
   "cell_type": "code",
   "execution_count": null,
   "metadata": {},
   "outputs": [],
   "source": [
    "\n",
    "\n",
    " \n",
    "\n",
    "Example\n",
    "\n",
    "a = [10, 20, 30, 50, 40]\n",
    "\n",
    "a[3] = a[4]\n",
    "\n",
    "a[4] = a[3]\n",
    "\n",
    " \n",
    "\n",
    "i expect the output is \n",
    "\n",
    "a = [10, 20, 30, 40, 50]\n",
    "\n",
    " \n",
    "\n",
    "but its come \n",
    "\n",
    "a = [10, 20, 30, 40, 40]"
   ]
  },
  {
   "cell_type": "code",
   "execution_count": 71,
   "metadata": {},
   "outputs": [
    {
     "data": {
      "text/plain": [
       "[10, 20, 30, 40, 50]"
      ]
     },
     "execution_count": 71,
     "metadata": {},
     "output_type": "execute_result"
    }
   ],
   "source": [
    "a = [10, 20, 30, 50, 40]\n",
    "\n",
    "s1 = a[4]\n",
    "s2 = a[3]\n",
    "\n",
    "a[3] = s1\n",
    "a[4] = s2\n",
    "\n",
    "a\n"
   ]
  },
  {
   "cell_type": "code",
   "execution_count": 73,
   "metadata": {},
   "outputs": [],
   "source": [
    "del s1"
   ]
  },
  {
   "cell_type": "code",
   "execution_count": 74,
   "metadata": {},
   "outputs": [
    {
     "ename": "NameError",
     "evalue": "name 's1' is not defined",
     "output_type": "error",
     "traceback": [
      "\u001b[1;31m---------------------------------------------------------------------------\u001b[0m",
      "\u001b[1;31mNameError\u001b[0m                                 Traceback (most recent call last)",
      "Cell \u001b[1;32mIn[74], line 1\u001b[0m\n\u001b[1;32m----> 1\u001b[0m s1\n",
      "\u001b[1;31mNameError\u001b[0m: name 's1' is not defined"
     ]
    }
   ],
   "source": [
    "s1"
   ]
  },
  {
   "cell_type": "code",
   "execution_count": 9,
   "metadata": {},
   "outputs": [],
   "source": [
    "a = \"హాయ్\""
   ]
  },
  {
   "cell_type": "code",
   "execution_count": 10,
   "metadata": {},
   "outputs": [
    {
     "data": {
      "text/plain": [
       "'హాయ్'"
      ]
     },
     "execution_count": 10,
     "metadata": {},
     "output_type": "execute_result"
    }
   ],
   "source": [
    "a"
   ]
  },
  {
   "cell_type": "code",
   "execution_count": 75,
   "metadata": {},
   "outputs": [
    {
     "name": "stdout",
     "output_type": "stream",
     "text": [
      "[10, 20, 30, 50, 40] 1\n",
      "[10, 20, 30, 40, 40] 2\n",
      "[10, 20, 30, 40, 40] 3\n"
     ]
    }
   ],
   "source": [
    "a = [10, 20, 30, 50, 40]\n",
    "print(a,'1')\n",
    "a[3] = a[4]\n",
    "print(a,'2')\n",
    "a[4] = a[3]\n",
    "print(a,'3')\n",
    "\n",
    "name = \"dhanush\" # String is joined form of char "
   ]
  },
  {
   "cell_type": "markdown",
   "metadata": {},
   "source": [
    "** Loops can be performed only on list, string, tuple, dict, set **"
   ]
  },
  {
   "cell_type": "markdown",
   "metadata": {},
   "source": [
    "### Loops - For and While"
   ]
  },
  {
   "cell_type": "raw",
   "metadata": {},
   "source": [
    "for value in list | SET | DICT | STRING :\n",
    "    logic "
   ]
  },
  {
   "cell_type": "code",
   "execution_count": 10,
   "metadata": {},
   "outputs": [
    {
     "data": {
      "text/plain": [
       "1"
      ]
     },
     "execution_count": 10,
     "metadata": {},
     "output_type": "execute_result"
    }
   ],
   "source": [
    "5%2"
   ]
  },
  {
   "cell_type": "code",
   "execution_count": 7,
   "metadata": {},
   "outputs": [
    {
     "data": {
      "text/plain": [
       "True"
      ]
     },
     "execution_count": 7,
     "metadata": {},
     "output_type": "execute_result"
    }
   ],
   "source": [
    "i%2 == 0"
   ]
  },
  {
   "cell_type": "code",
   "execution_count": 11,
   "metadata": {},
   "outputs": [
    {
     "name": "stdout",
     "output_type": "stream",
     "text": [
      "0 odd\n",
      "2 even\n",
      "2 odd\n",
      "4 even\n",
      "4 odd\n",
      "6 even\n"
     ]
    }
   ],
   "source": [
    "l =  [1,2,3,4,5,6]\n",
    "for i in l:\n",
    "    if i%2==0: #(even)\n",
    "        print(i,'even')\n",
    "    else:\n",
    "        i=i-1\n",
    "        print(i,'odd')"
   ]
  },
  {
   "cell_type": "code",
   "execution_count": null,
   "metadata": {},
   "outputs": [],
   "source": []
  },
  {
   "cell_type": "code",
   "execution_count": 52,
   "metadata": {},
   "outputs": [
    {
     "data": {
      "text/plain": [
       "1"
      ]
     },
     "execution_count": 52,
     "metadata": {},
     "output_type": "execute_result"
    }
   ],
   "source": [
    "9 % 2"
   ]
  },
  {
   "cell_type": "code",
   "execution_count": 13,
   "metadata": {},
   "outputs": [
    {
     "name": "stdout",
     "output_type": "stream",
     "text": [
      "1\n",
      "Skipped\n",
      "3\n",
      "Skipped\n",
      "5\n",
      "Skipped\n",
      "7\n",
      "Skipped\n",
      "9\n",
      "Skipped\n"
     ]
    }
   ],
   "source": [
    "a = [1,2,3,4,5,6,7,8,9,10]\n",
    "\n",
    "for value in a:\n",
    "    if (value%2) == 1:\n",
    "        print(value)\n",
    "    else:\n",
    "        print(\"Skipped\")\n",
    "    "
   ]
  },
  {
   "cell_type": "code",
   "execution_count": 22,
   "metadata": {},
   "outputs": [
    {
     "data": {
      "text/plain": [
       "'a'"
      ]
     },
     "execution_count": 22,
     "metadata": {},
     "output_type": "execute_result"
    }
   ],
   "source": [
    "p,q = (0, 'a')\n",
    "q"
   ]
  },
  {
   "cell_type": "code",
   "execution_count": 25,
   "metadata": {},
   "outputs": [
    {
     "name": "stdout",
     "output_type": "stream",
     "text": [
      "['a', 'b', 'c', 'd', 'e', 'f', 'g', 'h']\n",
      "Index = 0, we got value a\n",
      "Index = 1, we got value b\n",
      "Index = 2, we got value c\n",
      "Index = 3, we got value d\n",
      "Index = 4, we got value e\n",
      "Index = 5, we got value f\n",
      "Index = 6, we got value g\n",
      "Index = 7, we got value h\n"
     ]
    }
   ],
   "source": [
    "a = list(\"abcdefgh\")\n",
    "print(a)\n",
    "\n",
    "for i,v  in enumerate(a):\n",
    "    print(f\"Index = {i}, we got value {v}\")\n",
    "    "
   ]
  },
  {
   "cell_type": "code",
   "execution_count": 29,
   "metadata": {},
   "outputs": [
    {
     "data": {
      "text/plain": [
       "0"
      ]
     },
     "execution_count": 29,
     "metadata": {},
     "output_type": "execute_result"
    }
   ],
   "source": [
    "5%5"
   ]
  },
  {
   "cell_type": "code",
   "execution_count": 26,
   "metadata": {},
   "outputs": [
    {
     "name": "stdout",
     "output_type": "stream",
     "text": [
      "Index = 0, value = 1\n",
      "Else\n",
      "Index = 1, value = 2\n",
      "Else\n",
      "Index = 2, value = 3\n",
      "Else\n",
      "Index = 3, value = 4\n",
      "Else\n",
      "Index = 4, value = 5\n",
      "Else\n",
      "Index = 5, value = 6\n",
      "5th index 5 - 6\n",
      "Index = 6, value = 7\n",
      "Else\n",
      "Index = 7, value = 8\n",
      "Else\n",
      "Index = 8, value = 9\n",
      "Else\n",
      "Index = 9, value = 10\n",
      "Else\n"
     ]
    }
   ],
   "source": [
    "a = [1,2,3,4,5,6,7,8,9,10]\n",
    "for i,j in enumerate(a):\n",
    "    print(f\"Index = {i}, value = {j}\")\n",
    "    if i%5 == 0 and i >0:\n",
    "        print(\"5th index \" + f\"{i} - {j}\")\n",
    "    else:\n",
    "        print(\"Else\")\n",
    "    "
   ]
  },
  {
   "cell_type": "code",
   "execution_count": 30,
   "metadata": {},
   "outputs": [
    {
     "name": "stdout",
     "output_type": "stream",
     "text": [
      "9\n",
      "19\n",
      "29\n",
      "49\n",
      "39\n"
     ]
    }
   ],
   "source": [
    "a = [10, 20, 30, 50, 40]\n",
    "\n",
    "for value in a:\n",
    "    value2 = value-1\n",
    "    print(value2)"
   ]
  },
  {
   "cell_type": "code",
   "execution_count": 40,
   "metadata": {},
   "outputs": [
    {
     "data": {
      "text/plain": [
       "[2, 3, 4, 5, 6, 7, 8, 9]"
      ]
     },
     "execution_count": 40,
     "metadata": {},
     "output_type": "execute_result"
    }
   ],
   "source": [
    "list(range(2,10))"
   ]
  },
  {
   "cell_type": "code",
   "execution_count": 44,
   "metadata": {},
   "outputs": [
    {
     "data": {
      "text/plain": [
       "[10, 8, 6, 4]"
      ]
     },
     "execution_count": 44,
     "metadata": {},
     "output_type": "execute_result"
    }
   ],
   "source": [
    "#range(start,end,skip)\n",
    "\n",
    "list(range(2,-2,-1))\n",
    "list(range(10,2,-2))"
   ]
  },
  {
   "cell_type": "code",
   "execution_count": 31,
   "metadata": {},
   "outputs": [
    {
     "data": {
      "text/plain": [
       "5"
      ]
     },
     "execution_count": 31,
     "metadata": {},
     "output_type": "execute_result"
    }
   ],
   "source": [
    "len(a) ## function helps know the lenght of list or set or dict or string"
   ]
  },
  {
   "cell_type": "code",
   "execution_count": 46,
   "metadata": {},
   "outputs": [
    {
     "data": {
      "text/plain": [
       "50"
      ]
     },
     "execution_count": 46,
     "metadata": {},
     "output_type": "execute_result"
    }
   ],
   "source": [
    "i = 3\n",
    "a = [10, 20, 30, 50, 40]\n",
    "a[i]"
   ]
  },
  {
   "cell_type": "code",
   "execution_count": 51,
   "metadata": {},
   "outputs": [
    {
     "data": {
      "text/plain": [
       "50"
      ]
     },
     "execution_count": 51,
     "metadata": {},
     "output_type": "execute_result"
    }
   ],
   "source": [
    "list(range(len(a)))\n",
    "a[i]"
   ]
  },
  {
   "cell_type": "code",
   "execution_count": 52,
   "metadata": {},
   "outputs": [
    {
     "name": "stdout",
     "output_type": "stream",
     "text": [
      "0 10\n",
      "1 20\n",
      "2 30\n",
      "3 50\n",
      "4 40\n"
     ]
    }
   ],
   "source": [
    "for i in range(len(a)):\n",
    "    print(i,a[i])"
   ]
  },
  {
   "cell_type": "code",
   "execution_count": 87,
   "metadata": {},
   "outputs": [
    {
     "name": "stdout",
     "output_type": "stream",
     "text": [
      "For loop with range:\n",
      "Number: 0\n",
      "Number: 1\n",
      "Number: 2\n",
      "Number: 3\n",
      "Number: 4\n",
      "\n",
      "For loop with list:\n",
      "Fruit: apple\n",
      "Fruit: banana\n",
      "Fruit: cherry\n",
      "0 10\n",
      "1 20\n",
      "2 30\n",
      "3 50\n",
      "4 40\n"
     ]
    }
   ],
   "source": [
    "# For loop\n",
    "print(\"For loop with range:\")\n",
    "for i in range(5):\n",
    "    print(f\"Number: {i}\")\n",
    "\n",
    "print(\"\\nFor loop with list:\")\n",
    "fruits = [\"apple\", \"banana\", \"cherry\"]\n",
    "for fruit in fruits:\n",
    "    print(f\"Fruit: {fruit}\")\n",
    "\n",
    "a = [10, 20, 30, 50, 40] # 5mb \n",
    "range(len(a)) # 3mb\n",
    "for i in range(len(a)):\n",
    "    print(i,a[i])"
   ]
  },
  {
   "cell_type": "raw",
   "metadata": {},
   "source": [
    "declr=var\n",
    "while (cond):\n",
    "    logic\n",
    "    decrement / increment of decl var\n",
    "\n"
   ]
  },
  {
   "cell_type": "code",
   "execution_count": null,
   "metadata": {},
   "outputs": [],
   "source": [
    "a=a+5\n",
    "a+=5"
   ]
  },
  {
   "cell_type": "code",
   "execution_count": 1,
   "metadata": {},
   "outputs": [
    {
     "name": "stdout",
     "output_type": "stream",
     "text": [
      "While loop:\n",
      "Count: 0\n",
      "Count: 1\n",
      "Count: 2\n"
     ]
    }
   ],
   "source": [
    "# While loop\n",
    "print(\"While loop:\")\n",
    "count = 0 \n",
    "while count < 3:\n",
    "    print(f\"Count: {count}\") # logic \n",
    "    count += 1 # count = count + 1 \n"
   ]
  },
  {
   "cell_type": "markdown",
   "metadata": {},
   "source": [
    "### Loop Control - Break and Continue"
   ]
  },
  {
   "cell_type": "code",
   "execution_count": 2,
   "metadata": {},
   "outputs": [],
   "source": [
    "list_of_words = ['start','play','donot','ok','end','quit']"
   ]
  },
  {
   "cell_type": "code",
   "execution_count": 7,
   "metadata": {},
   "outputs": [
    {
     "name": "stdout",
     "output_type": "stream",
     "text": [
      "start\n",
      "donot\n",
      "ok\n",
      "end\n",
      "quit\n"
     ]
    }
   ],
   "source": [
    "for i in list_of_words:\n",
    " \n",
    "    if i == 'play':\n",
    "        continue\n",
    "    print(i)\n",
    "        \n",
    "    "
   ]
  },
  {
   "cell_type": "code",
   "execution_count": 6,
   "metadata": {},
   "outputs": [
    {
     "name": "stdout",
     "output_type": "stream",
     "text": [
      "Break example:\n",
      "0\n",
      "1\n",
      "2\n",
      "3\n",
      "4\n",
      "\n",
      "Continue example:\n",
      "0\n",
      "1\n",
      "3\n",
      "4\n",
      "5\n",
      "6\n",
      "7\n",
      "8\n",
      "9\n"
     ]
    }
   ],
   "source": [
    "# Break example\n",
    "print(\"Break example:\")\n",
    "for i in range(10):\n",
    "    if i == 5:\n",
    "        break\n",
    "    print(i)\n",
    "\n",
    "# Continue example\n",
    "print(\"\\nContinue example:\")\n",
    "for i in range(10):\n",
    "    if i == 2:\n",
    "        continue\n",
    "    print(i)"
   ]
  },
  {
   "cell_type": "code",
   "execution_count": null,
   "metadata": {},
   "outputs": [],
   "source": []
  },
  {
   "cell_type": "code",
   "execution_count": 11,
   "metadata": {},
   "outputs": [
    {
     "name": "stdout",
     "output_type": "stream",
     "text": [
      "0 1\n",
      "1 2\n",
      "2 3\n",
      "3 4\n",
      "4 5\n",
      "5 6\n",
      "6 7\n",
      "7 8\n"
     ]
    }
   ],
   "source": [
    "a = [1,2,3,4,5,6,7,8]\n",
    "for i in enumerate(a): \n",
    "    print(i[0], i[1])"
   ]
  },
  {
   "cell_type": "code",
   "execution_count": 12,
   "metadata": {},
   "outputs": [
    {
     "data": {
      "text/plain": [
       "(1, 2, 3)"
      ]
     },
     "execution_count": 12,
     "metadata": {},
     "output_type": "execute_result"
    }
   ],
   "source": [
    "(1,2,3)"
   ]
  },
  {
   "cell_type": "code",
   "execution_count": 18,
   "metadata": {},
   "outputs": [],
   "source": [
    "a,b,c = (1,2,3)  #unpacking"
   ]
  },
  {
   "cell_type": "code",
   "execution_count": 21,
   "metadata": {},
   "outputs": [
    {
     "name": "stdout",
     "output_type": "stream",
     "text": [
      "0 --> 1\n",
      "1 --> 2\n",
      "2 --> 3\n",
      "3 --> 4\n",
      "4 --> 5\n",
      "5 --> 6\n",
      "6 --> 7\n",
      "7 --> 8\n"
     ]
    }
   ],
   "source": [
    "a = [1,2,3,4,5,6,7,8]\n",
    "for i,j in enumerate(a): \n",
    "    print(f\"{i} --> {j}\")\n",
    "    "
   ]
  },
  {
   "cell_type": "code",
   "execution_count": null,
   "metadata": {},
   "outputs": [],
   "source": [
    "#append #extend #list compressive "
   ]
  },
  {
   "cell_type": "code",
   "execution_count": null,
   "metadata": {},
   "outputs": [],
   "source": []
  }
 ],
 "metadata": {
  "kernelspec": {
   "display_name": "Python [conda env:base] *",
   "language": "python",
   "name": "conda-base-py"
  },
  "language_info": {
   "codemirror_mode": {
    "name": "ipython",
    "version": 3
   },
   "file_extension": ".py",
   "mimetype": "text/x-python",
   "name": "python",
   "nbconvert_exporter": "python",
   "pygments_lexer": "ipython3",
   "version": "3.12.7"
  }
 },
 "nbformat": 4,
 "nbformat_minor": 4
}
