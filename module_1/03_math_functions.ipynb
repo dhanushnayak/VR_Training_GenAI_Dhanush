{
 "cells": [
  {
   "cell_type": "markdown",
   "metadata": {},
   "source": [
    "# Math, Trigonometric, and Random Functions"
   ]
  },
  {
   "cell_type": "markdown",
   "metadata": {},
   "source": [
    "import ---package---\n"
   ]
  },
  {
   "cell_type": "markdown",
   "metadata": {},
   "source": [
    "pip install --package--"
   ]
  },
  {
   "cell_type": "code",
   "execution_count": 1,
   "metadata": {},
   "outputs": [
    {
     "name": "stdout",
     "output_type": "stream",
     "text": [
      "^C\n",
      "Defaulting to user installation because normal site-packages is not writeable\n",
      "Collecting db2table\n",
      "  Obtaining dependency information for db2table from https://files.pythonhosted.org/packages/89/d9/df540dad5340f1e2065da5738dbe424cdf3f0a5cf46ada72e69c1ad4c63e/db2table-0.2.1-py3-none-any.whl.metadata\n",
      "  Downloading db2table-0.2.1-py3-none-any.whl.metadata (575 bytes)\n",
      "Requirement already satisfied: Click>=6.0 in c:\\users\\dhanu\\appdata\\roaming\\python\\python312\\site-packages (from db2table) (8.2.1)\n",
      "Collecting awesome-slugify==1.6.5 (from db2table)\n",
      "  Downloading awesome-slugify-1.6.5.tar.gz (8.4 kB)\n",
      "  Installing build dependencies: started\n",
      "  Installing build dependencies: finished with status 'done'\n",
      "  Getting requirements to build wheel: started\n",
      "  Getting requirements to build wheel: finished with status 'done'\n",
      "  Preparing metadata (pyproject.toml): started\n",
      "  Preparing metadata (pyproject.toml): finished with status 'done'\n",
      "Requirement already satisfied: Jinja2 in c:\\users\\dhanu\\appdata\\roaming\\python\\python312\\site-packages (from db2table) (3.1.6)\n",
      "Collecting sqlalchemy (from db2table)\n",
      "  Obtaining dependency information for sqlalchemy from https://files.pythonhosted.org/packages/bc/09/405c915a974814b90aa591280623adc6ad6b322f61fd5cff80aeaef216c9/sqlalchemy-2.0.43-cp312-cp312-win_amd64.whl.metadata\n",
      "  Downloading sqlalchemy-2.0.43-cp312-cp312-win_amd64.whl.metadata (9.8 kB)\n",
      "Collecting regex (from awesome-slugify==1.6.5->db2table)\n",
      "  Obtaining dependency information for regex from https://files.pythonhosted.org/packages/3b/39/bd922b55a4fc5ad5c13753274e5b536f5b06ec8eb9747675668491c7ab7a/regex-2025.7.34-cp312-cp312-win_amd64.whl.metadata\n",
      "  Downloading regex-2025.7.34-cp312-cp312-win_amd64.whl.metadata (41 kB)\n",
      "     ---------------------------------------- 0.0/41.5 kB ? eta -:--:--\n",
      "     --------- ------------------------------ 10.2/41.5 kB ? eta -:--:--\n",
      "     -------------------------------------  41.0/41.5 kB 393.8 kB/s eta 0:00:01\n",
      "     -------------------------------------- 41.5/41.5 kB 332.8 kB/s eta 0:00:00\n",
      "Collecting Unidecode<0.05,>=0.04.14 (from awesome-slugify==1.6.5->db2table)\n",
      "  Obtaining dependency information for Unidecode<0.05,>=0.04.14 from https://files.pythonhosted.org/packages/01/a1/9d7f3138ee3d79a1ab865a2cb38200ca778d85121db19fe264c76c981184/Unidecode-0.04.21-py2.py3-none-any.whl.metadata\n",
      "  Downloading Unidecode-0.04.21-py2.py3-none-any.whl.metadata (7.0 kB)\n",
      "Requirement already satisfied: colorama in c:\\users\\dhanu\\appdata\\roaming\\python\\python312\\site-packages (from Click>=6.0->db2table) (0.4.6)\n",
      "Requirement already satisfied: MarkupSafe>=2.0 in c:\\users\\dhanu\\appdata\\roaming\\python\\python312\\site-packages (from Jinja2->db2table) (3.0.2)\n",
      "Requirement already satisfied: greenlet>=1 in c:\\users\\dhanu\\appdata\\roaming\\python\\python312\\site-packages (from sqlalchemy->db2table) (3.2.3)\n",
      "Requirement already satisfied: typing-extensions>=4.6.0 in c:\\users\\dhanu\\appdata\\roaming\\python\\python312\\site-packages (from sqlalchemy->db2table) (4.14.1)\n",
      "Downloading db2table-0.2.1-py3-none-any.whl (4.0 kB)\n",
      "Downloading sqlalchemy-2.0.43-cp312-cp312-win_amd64.whl (2.1 MB)\n",
      "   ---------------------------------------- 0.0/2.1 MB ? eta -:--:--\n",
      "    --------------------------------------- 0.0/2.1 MB 660.6 kB/s eta 0:00:04\n",
      "   - -------------------------------------- 0.1/2.1 MB 787.7 kB/s eta 0:00:03\n",
      "   - -------------------------------------- 0.1/2.1 MB 751.6 kB/s eta 0:00:03\n",
      "   -- ------------------------------------- 0.1/2.1 MB 718.6 kB/s eta 0:00:03\n",
      "   -- ------------------------------------- 0.2/2.1 MB 706.2 kB/s eta 0:00:03\n",
      "   --- ------------------------------------ 0.2/2.1 MB 656.9 kB/s eta 0:00:03\n",
      "   ---- ----------------------------------- 0.2/2.1 MB 656.4 kB/s eta 0:00:03\n",
      "   ---- ----------------------------------- 0.2/2.1 MB 627.5 kB/s eta 0:00:04\n",
      "   ---- ----------------------------------- 0.2/2.1 MB 603.9 kB/s eta 0:00:04\n",
      "   ----- ---------------------------------- 0.3/2.1 MB 610.3 kB/s eta 0:00:04\n",
      "   ----- ---------------------------------- 0.3/2.1 MB 610.3 kB/s eta 0:00:04\n",
      "   ----- ---------------------------------- 0.3/2.1 MB 556.7 kB/s eta 0:00:04\n",
      "   ----- ---------------------------------- 0.3/2.1 MB 518.0 kB/s eta 0:00:04\n",
      "   ------ --------------------------------- 0.3/2.1 MB 507.9 kB/s eta 0:00:04\n",
      "   ------ --------------------------------- 0.3/2.1 MB 491.9 kB/s eta 0:00:04\n",
      "   ------ --------------------------------- 0.4/2.1 MB 509.8 kB/s eta 0:00:04\n",
      "   ------- -------------------------------- 0.4/2.1 MB 481.9 kB/s eta 0:00:04\n",
      "   ------- -------------------------------- 0.4/2.1 MB 470.0 kB/s eta 0:00:04\n",
      "   ------- -------------------------------- 0.4/2.1 MB 470.0 kB/s eta 0:00:04\n",
      "   -------- ------------------------------- 0.4/2.1 MB 455.9 kB/s eta 0:00:04\n",
      "   -------- ------------------------------- 0.4/2.1 MB 455.9 kB/s eta 0:00:04\n",
      "   -------- ------------------------------- 0.5/2.1 MB 443.9 kB/s eta 0:00:04\n",
      "   -------- ------------------------------- 0.5/2.1 MB 443.9 kB/s eta 0:00:04\n",
      "   --------- ------------------------------ 0.5/2.1 MB 437.0 kB/s eta 0:00:04\n",
      "   --------- ------------------------------ 0.5/2.1 MB 422.2 kB/s eta 0:00:04\n",
      "   --------- ------------------------------ 0.5/2.1 MB 422.2 kB/s eta 0:00:04\n",
      "   --------- ------------------------------ 0.5/2.1 MB 412.0 kB/s eta 0:00:04\n",
      "   --------- ------------------------------ 0.5/2.1 MB 412.0 kB/s eta 0:00:04\n",
      "   ---------- ----------------------------- 0.5/2.1 MB 393.3 kB/s eta 0:00:05\n",
      "   ---------- ----------------------------- 0.5/2.1 MB 387.3 kB/s eta 0:00:05\n",
      "   ---------- ----------------------------- 0.5/2.1 MB 387.3 kB/s eta 0:00:05\n",
      "   ---------- ----------------------------- 0.6/2.1 MB 376.7 kB/s eta 0:00:05\n",
      "   ---------- ----------------------------- 0.6/2.1 MB 371.7 kB/s eta 0:00:05\n",
      "   ----------- ---------------------------- 0.6/2.1 MB 373.7 kB/s eta 0:00:05\n",
      "   ----------- ---------------------------- 0.6/2.1 MB 374.6 kB/s eta 0:00:05\n",
      "   ----------- ---------------------------- 0.6/2.1 MB 374.6 kB/s eta 0:00:05\n",
      "   ------------ --------------------------- 0.6/2.1 MB 372.8 kB/s eta 0:00:04\n",
      "   ------------ --------------------------- 0.6/2.1 MB 372.8 kB/s eta 0:00:04\n",
      "   ------------ --------------------------- 0.7/2.1 MB 362.2 kB/s eta 0:00:05\n",
      "   ------------- -------------------------- 0.7/2.1 MB 365.9 kB/s eta 0:00:04\n",
      "   ------------- -------------------------- 0.7/2.1 MB 362.5 kB/s eta 0:00:04\n",
      "   ------------- -------------------------- 0.7/2.1 MB 362.5 kB/s eta 0:00:04\n",
      "   ------------- -------------------------- 0.7/2.1 MB 358.4 kB/s eta 0:00:04\n",
      "   ------------- -------------------------- 0.7/2.1 MB 352.6 kB/s eta 0:00:04\n",
      "   ------------- -------------------------- 0.7/2.1 MB 352.6 kB/s eta 0:00:04\n",
      "   -------------- ------------------------- 0.8/2.1 MB 358.9 kB/s eta 0:00:04\n",
      "   -------------- ------------------------- 0.8/2.1 MB 353.3 kB/s eta 0:00:04\n",
      "   --------------- ------------------------ 0.8/2.1 MB 357.5 kB/s eta 0:00:04\n",
      "   --------------- ------------------------ 0.8/2.1 MB 357.2 kB/s eta 0:00:04\n",
      "   ---------------- ----------------------- 0.9/2.1 MB 365.1 kB/s eta 0:00:04\n",
      "   ---------------- ----------------------- 0.9/2.1 MB 362.2 kB/s eta 0:00:04\n",
      "   ---------------- ----------------------- 0.9/2.1 MB 366.0 kB/s eta 0:00:04\n",
      "   ---------------- ----------------------- 0.9/2.1 MB 363.2 kB/s eta 0:00:04\n",
      "   ----------------- ---------------------- 0.9/2.1 MB 368.2 kB/s eta 0:00:04\n",
      "   ----------------- ---------------------- 1.0/2.1 MB 367.7 kB/s eta 0:00:04\n",
      "   ------------------ --------------------- 1.0/2.1 MB 371.2 kB/s eta 0:00:04\n",
      "   ------------------ --------------------- 1.0/2.1 MB 371.9 kB/s eta 0:00:04\n",
      "   ------------------- -------------------- 1.0/2.1 MB 378.8 kB/s eta 0:00:03\n",
      "   ------------------- -------------------- 1.1/2.1 MB 379.8 kB/s eta 0:00:03\n",
      "   -------------------- ------------------- 1.1/2.1 MB 375.1 kB/s eta 0:00:03\n",
      "   -------------------- ------------------- 1.1/2.1 MB 378.2 kB/s eta 0:00:03\n",
      "   -------------------- ------------------- 1.1/2.1 MB 379.1 kB/s eta 0:00:03\n",
      "   -------------------- ------------------- 1.1/2.1 MB 374.5 kB/s eta 0:00:03\n",
      "   --------------------- ------------------ 1.1/2.1 MB 375.5 kB/s eta 0:00:03\n",
      "   --------------------- ------------------ 1.1/2.1 MB 375.0 kB/s eta 0:00:03\n",
      "   ---------------------- ----------------- 1.2/2.1 MB 380.7 kB/s eta 0:00:03\n",
      "   ---------------------- ----------------- 1.2/2.1 MB 380.1 kB/s eta 0:00:03\n",
      "   ---------------------- ----------------- 1.2/2.1 MB 381.1 kB/s eta 0:00:03\n",
      "   ----------------------- ---------------- 1.2/2.1 MB 376.8 kB/s eta 0:00:03\n",
      "   ----------------------- ---------------- 1.2/2.1 MB 379.5 kB/s eta 0:00:03\n",
      "   ----------------------- ---------------- 1.3/2.1 MB 380.3 kB/s eta 0:00:03\n",
      "   ------------------------ --------------- 1.3/2.1 MB 378.0 kB/s eta 0:00:03\n",
      "   ------------------------ --------------- 1.3/2.1 MB 378.8 kB/s eta 0:00:03\n",
      "   ------------------------ --------------- 1.3/2.1 MB 376.6 kB/s eta 0:00:03\n",
      "   ------------------------- -------------- 1.3/2.1 MB 377.4 kB/s eta 0:00:03\n",
      "   ------------------------- -------------- 1.4/2.1 MB 376.6 kB/s eta 0:00:03\n",
      "   ------------------------- -------------- 1.4/2.1 MB 374.5 kB/s eta 0:00:03\n",
      "   -------------------------- ------------- 1.4/2.1 MB 377.0 kB/s eta 0:00:02\n",
      "   -------------------------- ------------- 1.4/2.1 MB 376.6 kB/s eta 0:00:02\n",
      "   -------------------------- ------------- 1.4/2.1 MB 378.1 kB/s eta 0:00:02\n",
      "   --------------------------- ------------ 1.4/2.1 MB 377.7 kB/s eta 0:00:02\n",
      "   --------------------------- ------------ 1.5/2.1 MB 379.9 kB/s eta 0:00:02\n",
      "   --------------------------- ------------ 1.5/2.1 MB 377.9 kB/s eta 0:00:02\n",
      "   ---------------------------- ----------- 1.5/2.1 MB 377.1 kB/s eta 0:00:02\n",
      "   ---------------------------- ----------- 1.5/2.1 MB 377.1 kB/s eta 0:00:02\n",
      "   ---------------------------- ----------- 1.5/2.1 MB 374.6 kB/s eta 0:00:02\n",
      "   ----------------------------- ---------- 1.5/2.1 MB 376.7 kB/s eta 0:00:02\n",
      "   ----------------------------- ---------- 1.6/2.1 MB 374.8 kB/s eta 0:00:02\n",
      "   ----------------------------- ---------- 1.6/2.1 MB 377.0 kB/s eta 0:00:02\n",
      "   ------------------------------ --------- 1.6/2.1 MB 377.3 kB/s eta 0:00:02\n",
      "   ------------------------------ --------- 1.6/2.1 MB 377.3 kB/s eta 0:00:02\n",
      "   ------------------------------ --------- 1.6/2.1 MB 376.6 kB/s eta 0:00:02\n",
      "   ------------------------------ --------- 1.6/2.1 MB 374.9 kB/s eta 0:00:02\n",
      "   ------------------------------- -------- 1.7/2.1 MB 377.5 kB/s eta 0:00:02\n",
      "   ------------------------------- -------- 1.7/2.1 MB 375.9 kB/s eta 0:00:02\n",
      "   -------------------------------- ------- 1.7/2.1 MB 379.1 kB/s eta 0:00:02\n",
      "   -------------------------------- ------- 1.7/2.1 MB 377.4 kB/s eta 0:00:02\n",
      "   -------------------------------- ------- 1.7/2.1 MB 376.8 kB/s eta 0:00:02\n",
      "   --------------------------------- ------ 1.8/2.1 MB 378.6 kB/s eta 0:00:01\n",
      "   --------------------------------- ------ 1.8/2.1 MB 378.6 kB/s eta 0:00:01\n",
      "   --------------------------------- ------ 1.8/2.1 MB 373.3 kB/s eta 0:00:01\n",
      "   --------------------------------- ------ 1.8/2.1 MB 372.7 kB/s eta 0:00:01\n",
      "   --------------------------------- ------ 1.8/2.1 MB 371.2 kB/s eta 0:00:01\n",
      "   ---------------------------------- ----- 1.8/2.1 MB 371.8 kB/s eta 0:00:01\n",
      "   ---------------------------------- ----- 1.8/2.1 MB 372.5 kB/s eta 0:00:01\n",
      "   ---------------------------------- ----- 1.8/2.1 MB 372.5 kB/s eta 0:00:01\n",
      "   ----------------------------------- ---- 1.9/2.1 MB 371.6 kB/s eta 0:00:01\n",
      "   ----------------------------------- ---- 1.9/2.1 MB 369.0 kB/s eta 0:00:01\n",
      "   ----------------------------------- ---- 1.9/2.1 MB 369.6 kB/s eta 0:00:01\n",
      "   ------------------------------------ --- 1.9/2.1 MB 370.3 kB/s eta 0:00:01\n",
      "   ------------------------------------ --- 1.9/2.1 MB 370.3 kB/s eta 0:00:01\n",
      "   ------------------------------------ --- 1.9/2.1 MB 367.8 kB/s eta 0:00:01\n",
      "   ------------------------------------ --- 2.0/2.1 MB 366.3 kB/s eta 0:00:01\n",
      "   ------------------------------------ --- 2.0/2.1 MB 366.3 kB/s eta 0:00:01\n",
      "   ------------------------------------ --- 2.0/2.1 MB 363.9 kB/s eta 0:00:01\n",
      "   ------------------------------------- -- 2.0/2.1 MB 363.5 kB/s eta 0:00:01\n",
      "   ------------------------------------- -- 2.0/2.1 MB 363.5 kB/s eta 0:00:01\n",
      "   ------------------------------------- -- 2.0/2.1 MB 363.5 kB/s eta 0:00:01\n",
      "   ------------------------------------- -- 2.0/2.1 MB 359.0 kB/s eta 0:00:01\n",
      "   ------------------------------------- -- 2.0/2.1 MB 359.0 kB/s eta 0:00:01\n",
      "   ------------------------------------- -- 2.0/2.1 MB 354.9 kB/s eta 0:00:01\n",
      "   -------------------------------------- - 2.0/2.1 MB 355.5 kB/s eta 0:00:01\n",
      "   -------------------------------------- - 2.0/2.1 MB 355.5 kB/s eta 0:00:01\n",
      "   -------------------------------------- - 2.0/2.1 MB 351.6 kB/s eta 0:00:01\n",
      "   -------------------------------------- - 2.1/2.1 MB 351.3 kB/s eta 0:00:01\n",
      "   ---------------------------------------  2.1/2.1 MB 351.1 kB/s eta 0:00:01\n",
      "   ---------------------------------------  2.1/2.1 MB 349.1 kB/s eta 0:00:01\n",
      "   ---------------------------------------  2.1/2.1 MB 349.8 kB/s eta 0:00:01\n",
      "   ---------------------------------------- 2.1/2.1 MB 350.0 kB/s eta 0:00:00\n",
      "Downloading Unidecode-0.04.21-py2.py3-none-any.whl (228 kB)\n",
      "   ---------------------------------------- 0.0/228.3 kB ? eta -:--:--\n",
      "   ---------------------------------------- 0.0/228.3 kB ? eta -:--:--\n",
      "   - -------------------------------------- 10.2/228.3 kB ? eta -:--:--\n",
      "   ----- --------------------------------- 30.7/228.3 kB 325.1 kB/s eta 0:00:01\n",
      "   ----- --------------------------------- 30.7/228.3 kB 325.1 kB/s eta 0:00:01\n",
      "   ----- --------------------------------- 30.7/228.3 kB 325.1 kB/s eta 0:00:01\n",
      "   ------ -------------------------------- 41.0/228.3 kB 178.6 kB/s eta 0:00:02\n",
      "   ------ -------------------------------- 41.0/228.3 kB 178.6 kB/s eta 0:00:02\n",
      "   ---------- ---------------------------- 61.4/228.3 kB 182.2 kB/s eta 0:00:01\n",
      "   ---------- ---------------------------- 61.4/228.3 kB 182.2 kB/s eta 0:00:01\n",
      "   ------------- ------------------------- 81.9/228.3 kB 183.3 kB/s eta 0:00:01\n",
      "   ------------- ------------------------- 81.9/228.3 kB 183.3 kB/s eta 0:00:01\n",
      "   --------------- ----------------------- 92.2/228.3 kB 180.8 kB/s eta 0:00:01\n",
      "   ------------------ ------------------- 112.6/228.3 kB 198.4 kB/s eta 0:00:01\n",
      "   -------------------- ----------------- 122.9/228.3 kB 189.6 kB/s eta 0:00:01\n",
      "   -------------------- ----------------- 122.9/228.3 kB 189.6 kB/s eta 0:00:01\n",
      "   ----------------------- -------------- 143.4/228.3 kB 198.1 kB/s eta 0:00:01\n",
      "   ----------------------- -------------- 143.4/228.3 kB 198.1 kB/s eta 0:00:01\n",
      "   --------------------------- ---------- 163.8/228.3 kB 200.5 kB/s eta 0:00:01\n",
      "   ---------------------------- --------- 174.1/228.3 kB 197.9 kB/s eta 0:00:01\n",
      "   ---------------------------- --------- 174.1/228.3 kB 197.9 kB/s eta 0:00:01\n",
      "   -------------------------------- ----- 194.6/228.3 kB 206.9 kB/s eta 0:00:01\n",
      "   -------------------------------- ----- 194.6/228.3 kB 206.9 kB/s eta 0:00:01\n",
      "   ---------------------------------- --- 204.8/228.3 kB 194.6 kB/s eta 0:00:01\n",
      "   ---------------------------------- --- 204.8/228.3 kB 194.6 kB/s eta 0:00:01\n",
      "   -------------------------------------- 228.3/228.3 kB 196.4 kB/s eta 0:00:00\n",
      "Downloading regex-2025.7.34-cp312-cp312-win_amd64.whl (275 kB)\n",
      "   ---------------------------------------- 0.0/275.4 kB ? eta -:--:--\n",
      "   ---------------------------------------- 0.0/275.4 kB ? eta -:--:--\n",
      "   - -------------------------------------- 10.2/275.4 kB ? eta -:--:--\n",
      "   ---- ---------------------------------- 30.7/275.4 kB 660.6 kB/s eta 0:00:01\n",
      "   ----- --------------------------------- 41.0/275.4 kB 393.8 kB/s eta 0:00:01\n",
      "   ----------- --------------------------- 81.9/275.4 kB 459.5 kB/s eta 0:00:01\n",
      "   ------------- ------------------------- 92.2/275.4 kB 403.5 kB/s eta 0:00:01\n",
      "   ---------------- --------------------- 122.9/275.4 kB 423.5 kB/s eta 0:00:01\n",
      "   ------------------- ------------------ 143.4/275.4 kB 448.2 kB/s eta 0:00:01\n",
      "   ------------------------ ------------- 174.1/275.4 kB 476.3 kB/s eta 0:00:01\n",
      "   ---------------------------- --------- 204.8/275.4 kB 479.2 kB/s eta 0:00:01\n",
      "   ------------------------------- ------ 225.3/275.4 kB 509.6 kB/s eta 0:00:01\n",
      "   ------------------------------------ - 266.2/275.4 kB 512.0 kB/s eta 0:00:01\n",
      "   -------------------------------------- 275.4/275.4 kB 530.3 kB/s eta 0:00:00\n",
      "Building wheels for collected packages: awesome-slugify\n",
      "  Building wheel for awesome-slugify (pyproject.toml): started\n",
      "  Building wheel for awesome-slugify (pyproject.toml): finished with status 'done'\n",
      "  Created wheel for awesome-slugify: filename=awesome_slugify-1.6.5-py3-none-any.whl size=8390 sha256=3418fd3293450bc0c26cc970b962db7613c1b1ab68c5928e67be90cfe3fa8905\n",
      "  Stored in directory: c:\\users\\dhanu\\appdata\\local\\pip\\cache\\wheels\\01\\77\\14\\2684d6572791569829fe5d48d59c54cf92189418aced4259bf\n",
      "Successfully built awesome-slugify\n",
      "Installing collected packages: Unidecode, sqlalchemy, regex, awesome-slugify, db2table\n",
      "Successfully installed Unidecode-0.4.21 awesome-slugify-1.6.5 db2table-0.2.1 regex-2025.7.34 sqlalchemy-2.0.43\n"
     ]
    },
    {
     "name": "stderr",
     "output_type": "stream",
     "text": [
      "  WARNING: The script unidecode.exe is installed in 'C:\\Users\\dhanu\\AppData\\Roaming\\Python\\Python312\\Scripts' which is not on PATH.\n",
      "  Consider adding this directory to PATH or, if you prefer to suppress this warning, use --no-warn-script-location.\n",
      "  WARNING: The script db2table.exe is installed in 'C:\\Users\\dhanu\\AppData\\Roaming\\Python\\Python312\\Scripts' which is not on PATH.\n",
      "  Consider adding this directory to PATH or, if you prefer to suppress this warning, use --no-warn-script-location.\n",
      "ERROR: pip's dependency resolver does not currently take into account all the packages that are installed. This behaviour is the source of the following dependency conflicts.\n",
      "transformers 4.52.4 requires tokenizers<0.22,>=0.21, but you have tokenizers 0.20.3 which is incompatible.\n",
      "\n",
      "[notice] A new release of pip is available: 23.2.1 -> 25.2\n",
      "[notice] To update, run: python.exe -m pip install --upgrade pip\n"
     ]
    }
   ],
   "source": [
    "!pip install db2table"
   ]
  },
  {
   "cell_type": "code",
   "execution_count": 7,
   "metadata": {},
   "outputs": [
    {
     "name": "stdout",
     "output_type": "stream",
     "text": [
      "Help on module db2table:\n",
      "\n",
      "NAME\n",
      "    db2table - # -*- coding: utf-8 -*-\n",
      "\n",
      "FUNCTIONS\n",
      "    to_dict(engine)\n",
      "        Convert database table to a Pythonic structure\n",
      "\n",
      "        Parameters\n",
      "        ----------\n",
      "        engine:sqlalchemy.engine.Engine\n",
      "\n",
      "        Returns\n",
      "        -------\n",
      "        dict\n",
      "            keys are table name 'slugified'\n",
      "            values are a list of dict\n",
      "\n",
      "    to_html(rows, title, _id='data', _class='table')\n",
      "        records rows to html\n",
      "\n",
      "        Parameters\n",
      "        ----------\n",
      "        rows:records.rows\n",
      "        _title:str\n",
      "        _id:str\n",
      "        _class:str\n",
      "\n",
      "        Returns\n",
      "        -------\n",
      "        str\n",
      "            html as text\n",
      "\n",
      "DATA\n",
      "    TEMPLATE = '\\n<!DOCTYPE html>\\n<html>\\n  <head>\\n    <meta chars... } ...\n",
      "    cli = <Command cli>\n",
      "        Convert sqlite db to html : one file per table\n",
      "\n",
      "    logger = <Logger __name__ (WARNING)>\n",
      "    slugify = <slugify.main.Slugify object>\n",
      "\n",
      "FILE\n",
      "    c:\\users\\dhanu\\appdata\\roaming\\python\\python312\\site-packages\\db2table.py\n",
      "\n",
      "\n"
     ]
    }
   ],
   "source": [
    "import db2table\n",
    "help(db2table)"
   ]
  },
  {
   "cell_type": "code",
   "execution_count": 3,
   "metadata": {},
   "outputs": [],
   "source": [
    "import math\n",
    "import random   # import --- it helps to pull the library"
   ]
  },
  {
   "cell_type": "code",
   "execution_count": 5,
   "metadata": {},
   "outputs": [
    {
     "data": {
      "text/plain": [
       "['__doc__',\n",
       " '__loader__',\n",
       " '__name__',\n",
       " '__package__',\n",
       " '__spec__',\n",
       " 'acos',\n",
       " 'acosh',\n",
       " 'asin',\n",
       " 'asinh',\n",
       " 'atan',\n",
       " 'atan2',\n",
       " 'atanh',\n",
       " 'cbrt',\n",
       " 'ceil',\n",
       " 'comb',\n",
       " 'copysign',\n",
       " 'cos',\n",
       " 'cosh',\n",
       " 'degrees',\n",
       " 'dist',\n",
       " 'e',\n",
       " 'erf',\n",
       " 'erfc',\n",
       " 'exp',\n",
       " 'exp2',\n",
       " 'expm1',\n",
       " 'fabs',\n",
       " 'factorial',\n",
       " 'floor',\n",
       " 'fmod',\n",
       " 'frexp',\n",
       " 'fsum',\n",
       " 'gamma',\n",
       " 'gcd',\n",
       " 'hypot',\n",
       " 'inf',\n",
       " 'isclose',\n",
       " 'isfinite',\n",
       " 'isinf',\n",
       " 'isnan',\n",
       " 'isqrt',\n",
       " 'lcm',\n",
       " 'ldexp',\n",
       " 'lgamma',\n",
       " 'log',\n",
       " 'log10',\n",
       " 'log1p',\n",
       " 'log2',\n",
       " 'modf',\n",
       " 'nan',\n",
       " 'nextafter',\n",
       " 'perm',\n",
       " 'pi',\n",
       " 'pow',\n",
       " 'prod',\n",
       " 'radians',\n",
       " 'remainder',\n",
       " 'sin',\n",
       " 'sinh',\n",
       " 'sqrt',\n",
       " 'sumprod',\n",
       " 'tan',\n",
       " 'tanh',\n",
       " 'tau',\n",
       " 'trunc',\n",
       " 'ulp']"
      ]
     },
     "execution_count": 5,
     "metadata": {},
     "output_type": "execute_result"
    }
   ],
   "source": [
    "dir(math)"
   ]
  },
  {
   "cell_type": "markdown",
   "metadata": {},
   "source": [
    "help(math)"
   ]
  },
  {
   "cell_type": "markdown",
   "metadata": {},
   "source": [
    "pip install lib_name # command"
   ]
  },
  {
   "cell_type": "code",
   "execution_count": 8,
   "metadata": {},
   "outputs": [],
   "source": [
    "import math "
   ]
  },
  {
   "cell_type": "code",
   "execution_count": 9,
   "metadata": {},
   "outputs": [],
   "source": [
    "numbers = [1,2,3,4,5,6]"
   ]
  },
  {
   "cell_type": "code",
   "execution_count": 10,
   "metadata": {},
   "outputs": [
    {
     "data": {
      "text/plain": [
       "6"
      ]
     },
     "execution_count": 10,
     "metadata": {},
     "output_type": "execute_result"
    }
   ],
   "source": [
    "len(numbers)"
   ]
  },
  {
   "cell_type": "code",
   "execution_count": 11,
   "metadata": {},
   "outputs": [
    {
     "data": {
      "text/plain": [
       "21"
      ]
     },
     "execution_count": 11,
     "metadata": {},
     "output_type": "execute_result"
    }
   ],
   "source": [
    "sum(numbers)"
   ]
  },
  {
   "cell_type": "code",
   "execution_count": 14,
   "metadata": {},
   "outputs": [
    {
     "data": {
      "text/plain": [
       "6"
      ]
     },
     "execution_count": 14,
     "metadata": {},
     "output_type": "execute_result"
    }
   ],
   "source": [
    "max(numbers)"
   ]
  },
  {
   "cell_type": "code",
   "execution_count": 15,
   "metadata": {},
   "outputs": [
    {
     "data": {
      "text/plain": [
       "1"
      ]
     },
     "execution_count": 15,
     "metadata": {},
     "output_type": "execute_result"
    }
   ],
   "source": [
    "min(numbers)"
   ]
  },
  {
   "cell_type": "raw",
   "metadata": {},
   "source": [
    "mean(numbers)\n",
    "\n",
    "sum_all_the_number / number of elements in list"
   ]
  },
  {
   "cell_type": "code",
   "execution_count": 16,
   "metadata": {},
   "outputs": [
    {
     "data": {
      "text/plain": [
       "3.5"
      ]
     },
     "execution_count": 16,
     "metadata": {},
     "output_type": "execute_result"
    }
   ],
   "source": [
    "sum(numbers)/len(numbers)"
   ]
  },
  {
   "cell_type": "markdown",
   "metadata": {},
   "source": [
    "numpy >> math"
   ]
  },
  {
   "cell_type": "markdown",
   "metadata": {},
   "source": [
    "[12,34]  --> [[12,34],[23,45]]"
   ]
  },
  {
   "cell_type": "markdown",
   "metadata": {},
   "source": [
    "### Basic Math Functions"
   ]
  },
  {
   "cell_type": "code",
   "execution_count": 11,
   "metadata": {},
   "outputs": [
    {
     "name": "stdout",
     "output_type": "stream",
     "text": [
      "1 1\n",
      "2 3\n",
      "3 6\n",
      "4 10\n",
      "5 15\n"
     ]
    },
    {
     "data": {
      "text/plain": [
       "15"
      ]
     },
     "execution_count": 11,
     "metadata": {},
     "output_type": "execute_result"
    }
   ],
   "source": [
    "len(numbers)\n",
    "sum(numbers)\n",
    "s = 0\n",
    "for i in numbers:\n",
    "    s=s+i\n",
    "    print(i,s)\n",
    "\n",
    "sum(numbers)"
   ]
  },
  {
   "cell_type": "code",
   "execution_count": 17,
   "metadata": {},
   "outputs": [
    {
     "data": {
      "text/plain": [
       "11.6"
      ]
     },
     "execution_count": 17,
     "metadata": {},
     "output_type": "execute_result"
    }
   ],
   "source": [
    "ar = [1,2,3,5.6]\n",
    "sum(ar)"
   ]
  },
  {
   "cell_type": "code",
   "execution_count": 20,
   "metadata": {},
   "outputs": [
    {
     "data": {
      "text/plain": [
       "6"
      ]
     },
     "execution_count": 20,
     "metadata": {},
     "output_type": "execute_result"
    }
   ],
   "source": [
    "max(numbers)\n",
    "min(numbers)\n",
    "len(numbers)\n",
    "#---write code for computing mean of that list"
   ]
  },
  {
   "cell_type": "raw",
   "metadata": {},
   "source": [
    "absoluate --->> -10 ---> 10"
   ]
  },
  {
   "cell_type": "code",
   "execution_count": 23,
   "metadata": {},
   "outputs": [
    {
     "data": {
      "text/plain": [
       "(254, -254)"
      ]
     },
     "execution_count": 23,
     "metadata": {},
     "output_type": "execute_result"
    }
   ],
   "source": [
    "a = -254\n",
    "a_abs = abs(a)\n",
    "a_abs,a"
   ]
  },
  {
   "cell_type": "code",
   "execution_count": 36,
   "metadata": {},
   "outputs": [],
   "source": [
    "#b = 9.8865\n",
    "b = 9.4587"
   ]
  },
  {
   "cell_type": "code",
   "execution_count": 40,
   "metadata": {},
   "outputs": [
    {
     "data": {
      "text/plain": [
       "9.46"
      ]
     },
     "execution_count": 40,
     "metadata": {},
     "output_type": "execute_result"
    }
   ],
   "source": [
    "round(b,2)"
   ]
  },
  {
   "cell_type": "code",
   "execution_count": 28,
   "metadata": {},
   "outputs": [
    {
     "data": {
      "text/plain": [
       "9.886"
      ]
     },
     "execution_count": 28,
     "metadata": {},
     "output_type": "execute_result"
    }
   ],
   "source": [
    "round(b)"
   ]
  },
  {
   "cell_type": "code",
   "execution_count": 29,
   "metadata": {},
   "outputs": [
    {
     "name": "stdout",
     "output_type": "stream",
     "text": [
      "Help on built-in function round in module builtins:\n",
      "\n",
      "round(number, ndigits=None)\n",
      "    Round a number to a given precision in decimal digits.\n",
      "\n",
      "    The return value is an integer if ndigits is omitted or None.  Otherwise\n",
      "    the return value has the same type as the number.  ndigits may be negative.\n",
      "\n"
     ]
    }
   ],
   "source": [
    "help(round)"
   ]
  },
  {
   "cell_type": "code",
   "execution_count": 30,
   "metadata": {},
   "outputs": [
    {
     "data": {
      "text/plain": [
       "(1, 9)"
      ]
     },
     "execution_count": 30,
     "metadata": {},
     "output_type": "execute_result"
    }
   ],
   "source": [
    "2 ^ 3, 3 ^ 10"
   ]
  },
  {
   "cell_type": "code",
   "execution_count": 34,
   "metadata": {},
   "outputs": [
    {
     "name": "stdout",
     "output_type": "stream",
     "text": [
      "Help on built-in function pow in module builtins:\n",
      "\n",
      "pow(base, exp, mod=None)\n",
      "    Equivalent to base**exp with 2 arguments or base**exp % mod with 3 arguments\n",
      "\n",
      "    Some types, such as ints, are able to use a more efficient algorithm when\n",
      "    invoked using the three argument form.\n",
      "\n"
     ]
    }
   ],
   "source": [
    "help(pow)"
   ]
  },
  {
   "cell_type": "code",
   "execution_count": 33,
   "metadata": {},
   "outputs": [
    {
     "data": {
      "text/plain": [
       "9"
      ]
     },
     "execution_count": 33,
     "metadata": {},
     "output_type": "execute_result"
    }
   ],
   "source": [
    "2 ** 3\n",
    "\n",
    "pow(3,2)"
   ]
  },
  {
   "cell_type": "code",
   "execution_count": 5,
   "metadata": {},
   "outputs": [
    {
     "name": "stdout",
     "output_type": "stream",
     "text": [
      "Sum: 15\n",
      "Min: 1\n",
      "Max: 5\n",
      "Length: 5\n",
      "Absolute value of -5: 5\n",
      "Round 3.7: 4\n",
      "Power 2^3: 8\n"
     ]
    }
   ],
   "source": [
    "# Built-in math functions\n",
    "numbers = [1, 2, 3, 4, 5]\n",
    "\n",
    "print(f\"Sum: {sum(numbers)}\")  ## len\n",
    "print(f\"Min: {min(numbers)}\")\n",
    "print(f\"Max: {max(numbers)}\")\n",
    "print(f\"Length: {len(numbers)}\")\n",
    "print(f\"Absolute value of -5: {abs(-5)}\")\n",
    "print(f\"Round 3.7: {round(3.7)}\")\n",
    "print(f\"Power 2^3: {pow(2, 3)}\")"
   ]
  },
  {
   "cell_type": "code",
   "execution_count": 22,
   "metadata": {},
   "outputs": [
    {
     "data": {
      "text/plain": [
       "8"
      ]
     },
     "execution_count": 22,
     "metadata": {},
     "output_type": "execute_result"
    }
   ],
   "source": [
    "2 ** 3"
   ]
  },
  {
   "cell_type": "code",
   "execution_count": 23,
   "metadata": {},
   "outputs": [
    {
     "data": {
      "text/plain": [
       "8"
      ]
     },
     "execution_count": 23,
     "metadata": {},
     "output_type": "execute_result"
    }
   ],
   "source": [
    "pow(2, 3)"
   ]
  },
  {
   "cell_type": "code",
   "execution_count": 20,
   "metadata": {},
   "outputs": [
    {
     "data": {
      "text/plain": [
       "95.35"
      ]
     },
     "execution_count": 20,
     "metadata": {},
     "output_type": "execute_result"
    }
   ],
   "source": [
    "a = 95.34521\n",
    "round(a,2)"
   ]
  },
  {
   "cell_type": "markdown",
   "metadata": {},
   "source": [
    "### Math Module Functions"
   ]
  },
  {
   "cell_type": "code",
   "execution_count": 42,
   "metadata": {},
   "outputs": [
    {
     "name": "stdout",
     "output_type": "stream",
     "text": [
      "Help on built-in module math:\n",
      "\n",
      "NAME\n",
      "    math\n",
      "\n",
      "DESCRIPTION\n",
      "    This module provides access to the mathematical functions\n",
      "    defined by the C standard.\n",
      "\n",
      "FUNCTIONS\n",
      "    acos(x, /)\n",
      "        Return the arc cosine (measured in radians) of x.\n",
      "\n",
      "        The result is between 0 and pi.\n",
      "\n",
      "    acosh(x, /)\n",
      "        Return the inverse hyperbolic cosine of x.\n",
      "\n",
      "    asin(x, /)\n",
      "        Return the arc sine (measured in radians) of x.\n",
      "\n",
      "        The result is between -pi/2 and pi/2.\n",
      "\n",
      "    asinh(x, /)\n",
      "        Return the inverse hyperbolic sine of x.\n",
      "\n",
      "    atan(x, /)\n",
      "        Return the arc tangent (measured in radians) of x.\n",
      "\n",
      "        The result is between -pi/2 and pi/2.\n",
      "\n",
      "    atan2(y, x, /)\n",
      "        Return the arc tangent (measured in radians) of y/x.\n",
      "\n",
      "        Unlike atan(y/x), the signs of both x and y are considered.\n",
      "\n",
      "    atanh(x, /)\n",
      "        Return the inverse hyperbolic tangent of x.\n",
      "\n",
      "    cbrt(x, /)\n",
      "        Return the cube root of x.\n",
      "\n",
      "    ceil(x, /)\n",
      "        Return the ceiling of x as an Integral.\n",
      "\n",
      "        This is the smallest integer >= x.\n",
      "\n",
      "    comb(n, k, /)\n",
      "        Number of ways to choose k items from n items without repetition and without order.\n",
      "\n",
      "        Evaluates to n! / (k! * (n - k)!) when k <= n and evaluates\n",
      "        to zero when k > n.\n",
      "\n",
      "        Also called the binomial coefficient because it is equivalent\n",
      "        to the coefficient of k-th term in polynomial expansion of the\n",
      "        expression (1 + x)**n.\n",
      "\n",
      "        Raises TypeError if either of the arguments are not integers.\n",
      "        Raises ValueError if either of the arguments are negative.\n",
      "\n",
      "    copysign(x, y, /)\n",
      "        Return a float with the magnitude (absolute value) of x but the sign of y.\n",
      "\n",
      "        On platforms that support signed zeros, copysign(1.0, -0.0)\n",
      "        returns -1.0.\n",
      "\n",
      "    cos(x, /)\n",
      "        Return the cosine of x (measured in radians).\n",
      "\n",
      "    cosh(x, /)\n",
      "        Return the hyperbolic cosine of x.\n",
      "\n",
      "    degrees(x, /)\n",
      "        Convert angle x from radians to degrees.\n",
      "\n",
      "    dist(p, q, /)\n",
      "        Return the Euclidean distance between two points p and q.\n",
      "\n",
      "        The points should be specified as sequences (or iterables) of\n",
      "        coordinates.  Both inputs must have the same dimension.\n",
      "\n",
      "        Roughly equivalent to:\n",
      "            sqrt(sum((px - qx) ** 2.0 for px, qx in zip(p, q)))\n",
      "\n",
      "    erf(x, /)\n",
      "        Error function at x.\n",
      "\n",
      "    erfc(x, /)\n",
      "        Complementary error function at x.\n",
      "\n",
      "    exp(x, /)\n",
      "        Return e raised to the power of x.\n",
      "\n",
      "    exp2(x, /)\n",
      "        Return 2 raised to the power of x.\n",
      "\n",
      "    expm1(x, /)\n",
      "        Return exp(x)-1.\n",
      "\n",
      "        This function avoids the loss of precision involved in the direct evaluation of exp(x)-1 for small x.\n",
      "\n",
      "    fabs(x, /)\n",
      "        Return the absolute value of the float x.\n",
      "\n",
      "    factorial(n, /)\n",
      "        Find n!.\n",
      "\n",
      "        Raise a ValueError if x is negative or non-integral.\n",
      "\n",
      "    floor(x, /)\n",
      "        Return the floor of x as an Integral.\n",
      "\n",
      "        This is the largest integer <= x.\n",
      "\n",
      "    fmod(x, y, /)\n",
      "        Return fmod(x, y), according to platform C.\n",
      "\n",
      "        x % y may differ.\n",
      "\n",
      "    frexp(x, /)\n",
      "        Return the mantissa and exponent of x, as pair (m, e).\n",
      "\n",
      "        m is a float and e is an int, such that x = m * 2.**e.\n",
      "        If x is 0, m and e are both 0.  Else 0.5 <= abs(m) < 1.0.\n",
      "\n",
      "    fsum(seq, /)\n",
      "        Return an accurate floating-point sum of values in the iterable seq.\n",
      "\n",
      "        Assumes IEEE-754 floating-point arithmetic.\n",
      "\n",
      "    gamma(x, /)\n",
      "        Gamma function at x.\n",
      "\n",
      "    gcd(*integers)\n",
      "        Greatest Common Divisor.\n",
      "\n",
      "    hypot(...)\n",
      "        hypot(*coordinates) -> value\n",
      "\n",
      "        Multidimensional Euclidean distance from the origin to a point.\n",
      "\n",
      "        Roughly equivalent to:\n",
      "            sqrt(sum(x**2 for x in coordinates))\n",
      "\n",
      "        For a two dimensional point (x, y), gives the hypotenuse\n",
      "        using the Pythagorean theorem:  sqrt(x*x + y*y).\n",
      "\n",
      "        For example, the hypotenuse of a 3/4/5 right triangle is:\n",
      "\n",
      "            >>> hypot(3.0, 4.0)\n",
      "            5.0\n",
      "\n",
      "    isclose(a, b, *, rel_tol=1e-09, abs_tol=0.0)\n",
      "        Determine whether two floating-point numbers are close in value.\n",
      "\n",
      "          rel_tol\n",
      "            maximum difference for being considered \"close\", relative to the\n",
      "            magnitude of the input values\n",
      "          abs_tol\n",
      "            maximum difference for being considered \"close\", regardless of the\n",
      "            magnitude of the input values\n",
      "\n",
      "        Return True if a is close in value to b, and False otherwise.\n",
      "\n",
      "        For the values to be considered close, the difference between them\n",
      "        must be smaller than at least one of the tolerances.\n",
      "\n",
      "        -inf, inf and NaN behave similarly to the IEEE 754 Standard.  That\n",
      "        is, NaN is not close to anything, even itself.  inf and -inf are\n",
      "        only close to themselves.\n",
      "\n",
      "    isfinite(x, /)\n",
      "        Return True if x is neither an infinity nor a NaN, and False otherwise.\n",
      "\n",
      "    isinf(x, /)\n",
      "        Return True if x is a positive or negative infinity, and False otherwise.\n",
      "\n",
      "    isnan(x, /)\n",
      "        Return True if x is a NaN (not a number), and False otherwise.\n",
      "\n",
      "    isqrt(n, /)\n",
      "        Return the integer part of the square root of the input.\n",
      "\n",
      "    lcm(*integers)\n",
      "        Least Common Multiple.\n",
      "\n",
      "    ldexp(x, i, /)\n",
      "        Return x * (2**i).\n",
      "\n",
      "        This is essentially the inverse of frexp().\n",
      "\n",
      "    lgamma(x, /)\n",
      "        Natural logarithm of absolute value of Gamma function at x.\n",
      "\n",
      "    log(...)\n",
      "        log(x, [base=math.e])\n",
      "        Return the logarithm of x to the given base.\n",
      "\n",
      "        If the base is not specified, returns the natural logarithm (base e) of x.\n",
      "\n",
      "    log10(x, /)\n",
      "        Return the base 10 logarithm of x.\n",
      "\n",
      "    log1p(x, /)\n",
      "        Return the natural logarithm of 1+x (base e).\n",
      "\n",
      "        The result is computed in a way which is accurate for x near zero.\n",
      "\n",
      "    log2(x, /)\n",
      "        Return the base 2 logarithm of x.\n",
      "\n",
      "    modf(x, /)\n",
      "        Return the fractional and integer parts of x.\n",
      "\n",
      "        Both results carry the sign of x and are floats.\n",
      "\n",
      "    nextafter(x, y, /, *, steps=None)\n",
      "        Return the floating-point value the given number of steps after x towards y.\n",
      "\n",
      "        If steps is not specified or is None, it defaults to 1.\n",
      "\n",
      "        Raises a TypeError, if x or y is not a double, or if steps is not an integer.\n",
      "        Raises ValueError if steps is negative.\n",
      "\n",
      "    perm(n, k=None, /)\n",
      "        Number of ways to choose k items from n items without repetition and with order.\n",
      "\n",
      "        Evaluates to n! / (n - k)! when k <= n and evaluates\n",
      "        to zero when k > n.\n",
      "\n",
      "        If k is not specified or is None, then k defaults to n\n",
      "        and the function returns n!.\n",
      "\n",
      "        Raises TypeError if either of the arguments are not integers.\n",
      "        Raises ValueError if either of the arguments are negative.\n",
      "\n",
      "    pow(x, y, /)\n",
      "        Return x**y (x to the power of y).\n",
      "\n",
      "    prod(iterable, /, *, start=1)\n",
      "        Calculate the product of all the elements in the input iterable.\n",
      "\n",
      "        The default start value for the product is 1.\n",
      "\n",
      "        When the iterable is empty, return the start value.  This function is\n",
      "        intended specifically for use with numeric values and may reject\n",
      "        non-numeric types.\n",
      "\n",
      "    radians(x, /)\n",
      "        Convert angle x from degrees to radians.\n",
      "\n",
      "    remainder(x, y, /)\n",
      "        Difference between x and the closest integer multiple of y.\n",
      "\n",
      "        Return x - n*y where n*y is the closest integer multiple of y.\n",
      "        In the case where x is exactly halfway between two multiples of\n",
      "        y, the nearest even value of n is used. The result is always exact.\n",
      "\n",
      "    sin(x, /)\n",
      "        Return the sine of x (measured in radians).\n",
      "\n",
      "    sinh(x, /)\n",
      "        Return the hyperbolic sine of x.\n",
      "\n",
      "    sqrt(x, /)\n",
      "        Return the square root of x.\n",
      "\n",
      "    sumprod(p, q, /)\n",
      "        Return the sum of products of values from two iterables p and q.\n",
      "\n",
      "        Roughly equivalent to:\n",
      "\n",
      "            sum(itertools.starmap(operator.mul, zip(p, q, strict=True)))\n",
      "\n",
      "        For float and mixed int/float inputs, the intermediate products\n",
      "        and sums are computed with extended precision.\n",
      "\n",
      "    tan(x, /)\n",
      "        Return the tangent of x (measured in radians).\n",
      "\n",
      "    tanh(x, /)\n",
      "        Return the hyperbolic tangent of x.\n",
      "\n",
      "    trunc(x, /)\n",
      "        Truncates the Real x to the nearest Integral toward 0.\n",
      "\n",
      "        Uses the __trunc__ magic method.\n",
      "\n",
      "    ulp(x, /)\n",
      "        Return the value of the least significant bit of the float x.\n",
      "\n",
      "DATA\n",
      "    e = 2.718281828459045\n",
      "    inf = inf\n",
      "    nan = nan\n",
      "    pi = 3.141592653589793\n",
      "    tau = 6.283185307179586\n",
      "\n",
      "FILE\n",
      "    (built-in)\n",
      "\n",
      "\n"
     ]
    }
   ],
   "source": [
    "help(math)"
   ]
  },
  {
   "cell_type": "code",
   "execution_count": null,
   "metadata": {},
   "outputs": [],
   "source": []
  },
  {
   "cell_type": "code",
   "execution_count": 45,
   "metadata": {},
   "outputs": [
    {
     "data": {
      "text/plain": [
       "2.718281828459045"
      ]
     },
     "execution_count": 45,
     "metadata": {},
     "output_type": "execute_result"
    }
   ],
   "source": [
    "math.pi\n",
    "math.e"
   ]
  },
  {
   "cell_type": "code",
   "execution_count": 48,
   "metadata": {},
   "outputs": [
    {
     "data": {
      "text/plain": [
       "2.718281828459045"
      ]
     },
     "execution_count": 48,
     "metadata": {},
     "output_type": "execute_result"
    }
   ],
   "source": [
    "math.e"
   ]
  },
  {
   "cell_type": "code",
   "execution_count": null,
   "metadata": {},
   "outputs": [],
   "source": [
    "4.07797 -> 5"
   ]
  },
  {
   "cell_type": "code",
   "execution_count": 66,
   "metadata": {},
   "outputs": [
    {
     "data": {
      "text/plain": [
       "2.6434526764861874"
      ]
     },
     "execution_count": 66,
     "metadata": {},
     "output_type": "execute_result"
    }
   ],
   "source": [
    "math.cbrt(64)\n",
    "math.sqrt(4)\n",
    "math.ceil(4.02)\n",
    "math.log10(440)"
   ]
  },
  {
   "cell_type": "code",
   "execution_count": null,
   "metadata": {},
   "outputs": [],
   "source": []
  },
  {
   "cell_type": "code",
   "execution_count": 41,
   "metadata": {},
   "outputs": [
    {
     "name": "stdout",
     "output_type": "stream",
     "text": [
      "Pi: 3.141592653589793\n",
      "E: 2.718281828459045\n",
      "Square root of 16: 4.0\n",
      "Ceiling of 4.3: 5\n",
      "Floor of 4.7: 4\n",
      "Factorial of 5: 120\n",
      "Log of 10: 1.0\n",
      "Natural log of e: 1.0\n"
     ]
    }
   ],
   "source": [
    "# Math module constants\n",
    "print(f\"Pi: {math.pi}\")\n",
    "print(f\"E: {math.e}\")\n",
    "\n",
    "# Math functions\n",
    "x = 16\n",
    "print(f\"Square root of {x}: {math.sqrt(x)}\")\n",
    "print(f\"Ceiling of 4.3: {math.ceil(4.3)}\")\n",
    "print(f\"Floor of 4.7: {math.floor(4.7)}\")\n",
    "print(f\"Factorial of 5: {math.factorial(5)}\")\n",
    "print(f\"Log of 10: {math.log10(10)}\")\n",
    "print(f\"Natural log of e: {math.log(math.e)}\")"
   ]
  },
  {
   "cell_type": "code",
   "execution_count": 43,
   "metadata": {},
   "outputs": [
    {
     "name": "stdout",
     "output_type": "stream",
     "text": [
      "i: 1, o: 1\n",
      "i: 2, o: 2\n",
      "i: 3, o: 6\n",
      "i: 4, o: 24\n",
      "i: 5, o: 120\n",
      "i: 6, o: 720\n",
      "i: 7, o: 5040\n",
      "i: 8, o: 40320\n",
      "i: 9, o: 362880\n",
      "i: 10, o: 3628800\n",
      "i: 11, o: 39916800\n",
      "i: 12, o: 479001600\n",
      "i: 13, o: 6227020800\n",
      "i: 14, o: 87178291200\n",
      "i: 15, o: 1307674368000\n",
      "i: 16, o: 20922789888000\n",
      "i: 17, o: 355687428096000\n",
      "i: 18, o: 6402373705728000\n",
      "i: 19, o: 121645100408832000\n",
      "i: 20, o: 2432902008176640000\n",
      "i: 21, o: 51090942171709440000\n",
      "i: 22, o: 1124000727777607680000\n",
      "i: 23, o: 25852016738884976640000\n",
      "i: 24, o: 620448401733239439360000\n",
      "i: 25, o: 15511210043330985984000000\n",
      "i: 26, o: 403291461126605635584000000\n",
      "i: 27, o: 10888869450418352160768000000\n",
      "i: 28, o: 304888344611713860501504000000\n",
      "i: 29, o: 8841761993739701954543616000000\n",
      "i: 30, o: 265252859812191058636308480000000\n",
      "i: 31, o: 8222838654177922817725562880000000\n",
      "i: 32, o: 263130836933693530167218012160000000\n",
      "i: 33, o: 8683317618811886495518194401280000000\n",
      "i: 34, o: 295232799039604140847618609643520000000\n",
      "i: 35, o: 10333147966386144929666651337523200000000\n",
      "i: 36, o: 371993326789901217467999448150835200000000\n",
      "i: 37, o: 13763753091226345046315979581580902400000000\n",
      "i: 38, o: 523022617466601111760007224100074291200000000\n",
      "i: 39, o: 20397882081197443358640281739902897356800000000\n",
      "i: 40, o: 815915283247897734345611269596115894272000000000\n",
      "i: 41, o: 33452526613163807108170062053440751665152000000000\n",
      "i: 42, o: 1405006117752879898543142606244511569936384000000000\n",
      "i: 43, o: 60415263063373835637355132068513997507264512000000000\n",
      "i: 44, o: 2658271574788448768043625811014615890319638528000000000\n",
      "i: 45, o: 119622220865480194561963161495657715064383733760000000000\n",
      "i: 46, o: 5502622159812088949850305428800254892961651752960000000000\n",
      "i: 47, o: 258623241511168180642964355153611979969197632389120000000000\n",
      "i: 48, o: 12413915592536072670862289047373375038521486354677760000000000\n",
      "i: 49, o: 608281864034267560872252163321295376887552831379210240000000000\n",
      "i: 50, o: 30414093201713378043612608166064768844377641568960512000000000000\n",
      "i: 51, o: 1551118753287382280224243016469303211063259720016986112000000000000\n",
      "i: 52, o: 80658175170943878571660636856403766975289505440883277824000000000000\n",
      "i: 53, o: 4274883284060025564298013753389399649690343788366813724672000000000000\n",
      "i: 54, o: 230843697339241380472092742683027581083278564571807941132288000000000000\n",
      "i: 55, o: 12696403353658275925965100847566516959580321051449436762275840000000000000\n",
      "i: 56, o: 710998587804863451854045647463724949736497978881168458687447040000000000000\n",
      "i: 57, o: 40526919504877216755680601905432322134980384796226602145184481280000000000000\n",
      "i: 58, o: 2350561331282878571829474910515074683828862318181142924420699914240000000000000\n",
      "i: 59, o: 138683118545689835737939019720389406345902876772687432540821294940160000000000000\n",
      "i: 60, o: 8320987112741390144276341183223364380754172606361245952449277696409600000000000000\n",
      "i: 61, o: 507580213877224798800856812176625227226004528988036003099405939480985600000000000000\n",
      "i: 62, o: 31469973260387937525653122354950764088012280797258232192163168247821107200000000000000\n",
      "i: 63, o: 1982608315404440064116146708361898137544773690227268628106279599612729753600000000000000\n",
      "i: 64, o: 126886932185884164103433389335161480802865516174545192198801894375214704230400000000000000\n",
      "i: 65, o: 8247650592082470666723170306785496252186258551345437492922123134388955774976000000000000000\n",
      "i: 66, o: 544344939077443064003729240247842752644293064388798874532860126869671081148416000000000000000\n",
      "i: 67, o: 36471110918188685288249859096605464427167635314049524593701628500267962436943872000000000000000\n",
      "i: 68, o: 2480035542436830599600990418569171581047399201355367672371710738018221445712183296000000000000000\n",
      "i: 69, o: 171122452428141311372468338881272839092270544893520369393648040923257279754140647424000000000000000\n",
      "i: 70, o: 11978571669969891796072783721689098736458938142546425857555362864628009582789845319680000000000000000\n",
      "i: 71, o: 850478588567862317521167644239926010288584608120796235886430763388588680378079017697280000000000000000\n",
      "i: 72, o: 61234458376886086861524070385274672740778091784697328983823014963978384987221689274204160000000000000000\n",
      "i: 73, o: 4470115461512684340891257138125051110076800700282905015819080092370422104067183317016903680000000000000000\n",
      "i: 74, o: 330788544151938641225953028221253782145683251820934971170611926835411235700971565459250872320000000000000000\n",
      "i: 75, o: 24809140811395398091946477116594033660926243886570122837795894512655842677572867409443815424000000000000000000\n",
      "i: 76, o: 1885494701666050254987932260861146558230394535379329335672487982961844043495537923117729972224000000000000000000\n",
      "i: 77, o: 145183092028285869634070784086308284983740379224208358846781574688061991349156420080065207861248000000000000000000\n",
      "i: 78, o: 11324281178206297831457521158732046228731749579488251990048962825668835325234200766245086213177344000000000000000000\n",
      "i: 79, o: 894618213078297528685144171539831652069808216779571907213868063227837990693501860533361810841010176000000000000000000\n",
      "i: 80, o: 71569457046263802294811533723186532165584657342365752577109445058227039255480148842668944867280814080000000000000000000\n",
      "i: 81, o: 5797126020747367985879734231578109105412357244731625958745865049716390179693892056256184534249745940480000000000000000000\n",
      "i: 82, o: 475364333701284174842138206989404946643813294067993328617160934076743994734899148613007131808479167119360000000000000000000\n",
      "i: 83, o: 39455239697206586511897471180120610571436503407643446275224357528369751562996629334879591940103770870906880000000000000000000\n",
      "i: 84, o: 3314240134565353266999387579130131288000666286242049487118846032383059131291716864129885722968716753156177920000000000000000000\n",
      "i: 85, o: 281710411438055027694947944226061159480056634330574206405101912752560026159795933451040286452340924018275123200000000000000000000\n",
      "i: 86, o: 24227095383672732381765523203441259715284870552429381750838764496720162249742450276789464634901319465571660595200000000000000000000\n",
      "i: 87, o: 2107757298379527717213600518699389595229783738061356212322972511214654115727593174080683423236414793504734471782400000000000000000000\n",
      "i: 88, o: 185482642257398439114796845645546284380220968949399346684421580986889562184028199319100141244804501828416633516851200000000000000000000\n",
      "i: 89, o: 16507955160908461081216919262453619309839666236496541854913520707833171034378509739399912570787600662729080382999756800000000000000000000\n"
     ]
    }
   ],
   "source": [
    "o = 1\n",
    "for i in list(range(1,90)):\n",
    "    o = i*o\n",
    "    print(f\"i: {i}, o: {o}\")\n",
    "    "
   ]
  },
  {
   "cell_type": "code",
   "execution_count": 44,
   "metadata": {},
   "outputs": [
    {
     "name": "stdout",
     "output_type": "stream",
     "text": [
      "x:  16507955160908461081216919262453619309839666236496541854913520707833171034378509739399912570787600662729080382999756800000000000000000000\n",
      "Used log 10\n",
      "136.21769328057147\n"
     ]
    }
   ],
   "source": [
    "x = math.factorial(89)\n",
    "print(\"x: \",x)\n",
    "if x>100:\n",
    "    log =  math.log10(x)\n",
    "    print(\"Used log 10\")\n",
    "else:\n",
    "    log = math.log2(x)\n",
    "    print(\"Used log 2\")\n",
    "print(log)"
   ]
  },
  {
   "cell_type": "code",
   "execution_count": 33,
   "metadata": {},
   "outputs": [
    {
     "data": {
      "text/plain": [
       "(4, 5)"
      ]
     },
     "execution_count": 33,
     "metadata": {},
     "output_type": "execute_result"
    }
   ],
   "source": [
    "x = 4.7\n",
    "round(x)#math.ceil(x)\n",
    "math.floor(x),math.ceil(x)"
   ]
  },
  {
   "cell_type": "code",
   "execution_count": 26,
   "metadata": {},
   "outputs": [
    {
     "data": {
      "text/plain": [
       "2.0"
      ]
     },
     "execution_count": 26,
     "metadata": {},
     "output_type": "execute_result"
    }
   ],
   "source": [
    "x = 4\n",
    "math.sqrt(x)"
   ]
  },
  {
   "cell_type": "code",
   "execution_count": null,
   "metadata": {},
   "outputs": [],
   "source": [
    "write a code for having list [1,2,3,4,5,6]\n",
    "\n",
    "for even number to make it as pow 3\n",
    "\n",
    "odd number pow 5"
   ]
  },
  {
   "cell_type": "code",
   "execution_count": 45,
   "metadata": {},
   "outputs": [],
   "source": [
    "a = [1,2,3,4,5,6]"
   ]
  },
  {
   "cell_type": "code",
   "execution_count": 48,
   "metadata": {},
   "outputs": [
    {
     "data": {
      "text/plain": [
       "3.5"
      ]
     },
     "execution_count": 48,
     "metadata": {},
     "output_type": "execute_result"
    }
   ],
   "source": [
    "sum(a)/len(a)"
   ]
  },
  {
   "cell_type": "code",
   "execution_count": 52,
   "metadata": {},
   "outputs": [
    {
     "data": {
      "text/plain": [
       "([1, 2, 3, 4, 5, 6], 6)"
      ]
     },
     "execution_count": 52,
     "metadata": {},
     "output_type": "execute_result"
    }
   ],
   "source": [
    "8/2, 0\n",
    "9/2, 1,\n",
    "\n",
    "a,len(a)"
   ]
  },
  {
   "cell_type": "code",
   "execution_count": 57,
   "metadata": {},
   "outputs": [],
   "source": [
    "if i%2 ==0: i\n",
    "\n",
    "if i%2==0:\n",
    "    i"
   ]
  },
  {
   "cell_type": "code",
   "execution_count": 155,
   "metadata": {},
   "outputs": [
    {
     "data": {
      "text/plain": [
       "[3125, 8, 1, 243, 64]"
      ]
     },
     "execution_count": 155,
     "metadata": {},
     "output_type": "execute_result"
    }
   ],
   "source": [
    "result = []\n",
    "obtainer_power_value = 0\n",
    "for i in a:\n",
    "    if i%2 ==0: # even\n",
    "        obtainer_power_value =  pow(i,3)\n",
    "    if i%2 == 1: #odd\n",
    "        obtainer_power_value = pow(i,5)\n",
    "    result.append(obtainer_power_value)\n",
    "\n",
    "\n",
    "result"
   ]
  },
  {
   "cell_type": "code",
   "execution_count": 159,
   "metadata": {},
   "outputs": [
    {
     "data": {
      "text/plain": [
       "[3125, 8, 1, 243, 64]"
      ]
     },
     "execution_count": 159,
     "metadata": {},
     "output_type": "execute_result"
    }
   ],
   "source": [
    "[pow(i,3) if i%2==0   else pow(i,5) for i in a]"
   ]
  },
  {
   "cell_type": "markdown",
   "metadata": {},
   "source": [
    "### Trigonometric Functions"
   ]
  },
  {
   "cell_type": "code",
   "execution_count": 7,
   "metadata": {},
   "outputs": [
    {
     "data": {
      "text/plain": [
       "0"
      ]
     },
     "execution_count": 7,
     "metadata": {},
     "output_type": "execute_result"
    }
   ],
   "source": [
    "import math\n",
    "angle_degrees = 180\n",
    "angle_radians = math.radians(angle_degrees) # radians\n",
    "int(math.sin(angle_radians))"
   ]
  },
  {
   "cell_type": "code",
   "execution_count": null,
   "metadata": {},
   "outputs": [],
   "source": [
    "0.00000000000006"
   ]
  },
  {
   "cell_type": "code",
   "execution_count": 73,
   "metadata": {},
   "outputs": [
    {
     "data": {
      "text/plain": [
       "0.9033391107665127"
      ]
     },
     "execution_count": 73,
     "metadata": {},
     "output_type": "execute_result"
    }
   ],
   "source": [
    "import math\n",
    "math.asin(angle_radians)"
   ]
  },
  {
   "cell_type": "code",
   "execution_count": 8,
   "metadata": {},
   "outputs": [
    {
     "data": {
      "text/plain": [
       "1.57"
      ]
     },
     "execution_count": 8,
     "metadata": {},
     "output_type": "execute_result"
    }
   ],
   "source": [
    "3.14 /2"
   ]
  },
  {
   "cell_type": "code",
   "execution_count": 10,
   "metadata": {},
   "outputs": [],
   "source": [
    "import math as m"
   ]
  },
  {
   "cell_type": "code",
   "execution_count": 11,
   "metadata": {},
   "outputs": [
    {
     "data": {
      "text/plain": [
       "0.7853981633974483"
      ]
     },
     "execution_count": 11,
     "metadata": {},
     "output_type": "execute_result"
    }
   ],
   "source": [
    "m.radians(45)"
   ]
  },
  {
   "cell_type": "code",
   "execution_count": 13,
   "metadata": {},
   "outputs": [
    {
     "data": {
      "text/plain": [
       "0.5468509506959441"
      ]
     },
     "execution_count": 13,
     "metadata": {},
     "output_type": "execute_result"
    }
   ],
   "source": [
    "m.asin(0.52)"
   ]
  },
  {
   "cell_type": "code",
   "execution_count": 21,
   "metadata": {},
   "outputs": [
    {
     "data": {
      "text/plain": [
       "40.51423422706978"
      ]
     },
     "execution_count": 21,
     "metadata": {},
     "output_type": "execute_result"
    }
   ],
   "source": [
    "rads = m.radians(45)\n",
    "m.degrees(m.sin(m.pi/4))"
   ]
  },
  {
   "cell_type": "code",
   "execution_count": 22,
   "metadata": {},
   "outputs": [
    {
     "name": "stdout",
     "output_type": "stream",
     "text": [
      "Angle: 45 degrees = 0.7853981633974483 radians\n",
      "Sin(45°): 0.7071\n",
      "Cos(45°): 0.7071\n",
      "Tan(45°): 1.0000\n",
      "\n",
      "Inverse functions:\n",
      "Arcsin(0.5): 30.000000000000004 degrees\n",
      "Arccos(0.5): 60.00000000000001 degrees\n",
      "Arctan(1): 45.0 degrees\n"
     ]
    }
   ],
   "source": [
    "# Trigonometric functions (angles in radians)\n",
    "angle_degrees = 45\n",
    "angle_radians = math.radians(angle_degrees)\n",
    "\n",
    "print(f\"Angle: {angle_degrees} degrees = {angle_radians} radians\")\n",
    "print(f\"Sin({angle_degrees}°): {math.sin(angle_radians):.4f}\")\n",
    "print(f\"Cos({angle_degrees}°): {math.cos(angle_radians):.4f}\")\n",
    "print(f\"Tan({angle_degrees}°): {math.tan(angle_radians):.4f}\")\n",
    "\n",
    "# Inverse trigonometric functions\n",
    "print(f\"\\nInverse functions:\")\n",
    "print(f\"Arcsin(0.5): {math.degrees(math.asin(0.5))} degrees\")\n",
    "print(f\"Arccos(0.5): {math.degrees(math.acos(0.5))} degrees\")\n",
    "print(f\"Arctan(1): {math.degrees(math.atan(1))} degrees\")"
   ]
  },
  {
   "cell_type": "markdown",
   "metadata": {},
   "source": [
    "### Random Functions"
   ]
  },
  {
   "cell_type": "code",
   "execution_count": 23,
   "metadata": {},
   "outputs": [],
   "source": [
    "import random\n"
   ]
  },
  {
   "cell_type": "code",
   "execution_count": 24,
   "metadata": {},
   "outputs": [
    {
     "name": "stdout",
     "output_type": "stream",
     "text": [
      "Help on module random:\n",
      "\n",
      "NAME\n",
      "    random - Random variable generators.\n",
      "\n",
      "MODULE REFERENCE\n",
      "    https://docs.python.org/3.12/library/random.html\n",
      "\n",
      "    The following documentation is automatically generated from the Python\n",
      "    source files.  It may be incomplete, incorrect or include features that\n",
      "    are considered implementation detail and may vary between Python\n",
      "    implementations.  When in doubt, consult the module reference at the\n",
      "    location listed above.\n",
      "\n",
      "DESCRIPTION\n",
      "        bytes\n",
      "        -----\n",
      "               uniform bytes (values between 0 and 255)\n",
      "\n",
      "        integers\n",
      "        --------\n",
      "               uniform within range\n",
      "\n",
      "        sequences\n",
      "        ---------\n",
      "               pick random element\n",
      "               pick random sample\n",
      "               pick weighted random sample\n",
      "               generate random permutation\n",
      "\n",
      "        distributions on the real line:\n",
      "        ------------------------------\n",
      "               uniform\n",
      "               triangular\n",
      "               normal (Gaussian)\n",
      "               lognormal\n",
      "               negative exponential\n",
      "               gamma\n",
      "               beta\n",
      "               pareto\n",
      "               Weibull\n",
      "\n",
      "        distributions on the circle (angles 0 to 2pi)\n",
      "        ---------------------------------------------\n",
      "               circular uniform\n",
      "               von Mises\n",
      "\n",
      "        discrete distributions\n",
      "        ----------------------\n",
      "               binomial\n",
      "\n",
      "\n",
      "    General notes on the underlying Mersenne Twister core generator:\n",
      "\n",
      "    * The period is 2**19937-1.\n",
      "    * It is one of the most extensively tested generators in existence.\n",
      "    * The random() method is implemented in C, executes in a single Python step,\n",
      "      and is, therefore, threadsafe.\n",
      "\n",
      "CLASSES\n",
      "    _random.Random(builtins.object)\n",
      "        Random\n",
      "            SystemRandom\n",
      "\n",
      "    class Random(_random.Random)\n",
      "     |  Random(x=None)\n",
      "     |\n",
      "     |  Random number generator base class used by bound module functions.\n",
      "     |\n",
      "     |  Used to instantiate instances of Random to get generators that don't\n",
      "     |  share state.\n",
      "     |\n",
      "     |  Class Random can also be subclassed if you want to use a different basic\n",
      "     |  generator of your own devising: in that case, override the following\n",
      "     |  methods:  random(), seed(), getstate(), and setstate().\n",
      "     |  Optionally, implement a getrandbits() method so that randrange()\n",
      "     |  can cover arbitrarily large ranges.\n",
      "     |\n",
      "     |  Method resolution order:\n",
      "     |      Random\n",
      "     |      _random.Random\n",
      "     |      builtins.object\n",
      "     |\n",
      "     |  Methods defined here:\n",
      "     |\n",
      "     |  __getstate__(self)\n",
      "     |      Helper for pickle.\n",
      "     |\n",
      "     |  __init__(self, x=None)\n",
      "     |      Initialize an instance.\n",
      "     |\n",
      "     |      Optional argument x controls seeding, as for Random.seed().\n",
      "     |\n",
      "     |  __reduce__(self)\n",
      "     |      Helper for pickle.\n",
      "     |\n",
      "     |  __setstate__(self, state)\n",
      "     |\n",
      "     |  betavariate(self, alpha, beta)\n",
      "     |      Beta distribution.\n",
      "     |\n",
      "     |      Conditions on the parameters are alpha > 0 and beta > 0.\n",
      "     |      Returned values range between 0 and 1.\n",
      "     |\n",
      "     |      The mean (expected value) and variance of the random variable are:\n",
      "     |\n",
      "     |          E[X] = alpha / (alpha + beta)\n",
      "     |          Var[X] = alpha * beta / ((alpha + beta)**2 * (alpha + beta + 1))\n",
      "     |\n",
      "     |  binomialvariate(self, n=1, p=0.5)\n",
      "     |      Binomial random variable.\n",
      "     |\n",
      "     |      Gives the number of successes for *n* independent trials\n",
      "     |      with the probability of success in each trial being *p*:\n",
      "     |\n",
      "     |          sum(random() < p for i in range(n))\n",
      "     |\n",
      "     |      Returns an integer in the range:   0 <= X <= n\n",
      "     |\n",
      "     |      The mean (expected value) and variance of the random variable are:\n",
      "     |\n",
      "     |          E[X] = n * p\n",
      "     |          Var[x] = n * p * (1 - p)\n",
      "     |\n",
      "     |  choice(self, seq)\n",
      "     |      Choose a random element from a non-empty sequence.\n",
      "     |\n",
      "     |  choices(self, population, weights=None, *, cum_weights=None, k=1)\n",
      "     |      Return a k sized list of population elements chosen with replacement.\n",
      "     |\n",
      "     |      If the relative weights or cumulative weights are not specified,\n",
      "     |      the selections are made with equal probability.\n",
      "     |\n",
      "     |  expovariate(self, lambd=1.0)\n",
      "     |      Exponential distribution.\n",
      "     |\n",
      "     |      lambd is 1.0 divided by the desired mean.  It should be\n",
      "     |      nonzero.  (The parameter would be called \"lambda\", but that is\n",
      "     |      a reserved word in Python.)  Returned values range from 0 to\n",
      "     |      positive infinity if lambd is positive, and from negative\n",
      "     |      infinity to 0 if lambd is negative.\n",
      "     |\n",
      "     |      The mean (expected value) and variance of the random variable are:\n",
      "     |\n",
      "     |          E[X] = 1 / lambd\n",
      "     |          Var[X] = 1 / lambd ** 2\n",
      "     |\n",
      "     |  gammavariate(self, alpha, beta)\n",
      "     |      Gamma distribution.  Not the gamma function!\n",
      "     |\n",
      "     |      Conditions on the parameters are alpha > 0 and beta > 0.\n",
      "     |\n",
      "     |      The probability distribution function is:\n",
      "     |\n",
      "     |                  x ** (alpha - 1) * math.exp(-x / beta)\n",
      "     |        pdf(x) =  --------------------------------------\n",
      "     |                    math.gamma(alpha) * beta ** alpha\n",
      "     |\n",
      "     |      The mean (expected value) and variance of the random variable are:\n",
      "     |\n",
      "     |          E[X] = alpha * beta\n",
      "     |          Var[X] = alpha * beta ** 2\n",
      "     |\n",
      "     |  gauss(self, mu=0.0, sigma=1.0)\n",
      "     |      Gaussian distribution.\n",
      "     |\n",
      "     |      mu is the mean, and sigma is the standard deviation.  This is\n",
      "     |      slightly faster than the normalvariate() function.\n",
      "     |\n",
      "     |      Not thread-safe without a lock around calls.\n",
      "     |\n",
      "     |  getstate(self)\n",
      "     |      Return internal state; can be passed to setstate() later.\n",
      "     |\n",
      "     |  lognormvariate(self, mu, sigma)\n",
      "     |      Log normal distribution.\n",
      "     |\n",
      "     |      If you take the natural logarithm of this distribution, you'll get a\n",
      "     |      normal distribution with mean mu and standard deviation sigma.\n",
      "     |      mu can have any value, and sigma must be greater than zero.\n",
      "     |\n",
      "     |  normalvariate(self, mu=0.0, sigma=1.0)\n",
      "     |      Normal distribution.\n",
      "     |\n",
      "     |      mu is the mean, and sigma is the standard deviation.\n",
      "     |\n",
      "     |  paretovariate(self, alpha)\n",
      "     |      Pareto distribution.  alpha is the shape parameter.\n",
      "     |\n",
      "     |  randbytes(self, n)\n",
      "     |      Generate n random bytes.\n",
      "     |\n",
      "     |  randint(self, a, b)\n",
      "     |      Return random integer in range [a, b], including both end points.\n",
      "     |\n",
      "     |  randrange(self, start, stop=None, step=1)\n",
      "     |      Choose a random item from range(stop) or range(start, stop[, step]).\n",
      "     |\n",
      "     |      Roughly equivalent to ``choice(range(start, stop, step))`` but\n",
      "     |      supports arbitrarily large ranges and is optimized for common cases.\n",
      "     |\n",
      "     |  sample(self, population, k, *, counts=None)\n",
      "     |      Chooses k unique random elements from a population sequence.\n",
      "     |\n",
      "     |      Returns a new list containing elements from the population while\n",
      "     |      leaving the original population unchanged.  The resulting list is\n",
      "     |      in selection order so that all sub-slices will also be valid random\n",
      "     |      samples.  This allows raffle winners (the sample) to be partitioned\n",
      "     |      into grand prize and second place winners (the subslices).\n",
      "     |\n",
      "     |      Members of the population need not be hashable or unique.  If the\n",
      "     |      population contains repeats, then each occurrence is a possible\n",
      "     |      selection in the sample.\n",
      "     |\n",
      "     |      Repeated elements can be specified one at a time or with the optional\n",
      "     |      counts parameter.  For example:\n",
      "     |\n",
      "     |          sample(['red', 'blue'], counts=[4, 2], k=5)\n",
      "     |\n",
      "     |      is equivalent to:\n",
      "     |\n",
      "     |          sample(['red', 'red', 'red', 'red', 'blue', 'blue'], k=5)\n",
      "     |\n",
      "     |      To choose a sample from a range of integers, use range() for the\n",
      "     |      population argument.  This is especially fast and space efficient\n",
      "     |      for sampling from a large population:\n",
      "     |\n",
      "     |          sample(range(10000000), 60)\n",
      "     |\n",
      "     |  seed(self, a=None, version=2)\n",
      "     |      Initialize internal state from a seed.\n",
      "     |\n",
      "     |      The only supported seed types are None, int, float,\n",
      "     |      str, bytes, and bytearray.\n",
      "     |\n",
      "     |      None or no argument seeds from current time or from an operating\n",
      "     |      system specific randomness source if available.\n",
      "     |\n",
      "     |      If *a* is an int, all bits are used.\n",
      "     |\n",
      "     |      For version 2 (the default), all of the bits are used if *a* is a str,\n",
      "     |      bytes, or bytearray.  For version 1 (provided for reproducing random\n",
      "     |      sequences from older versions of Python), the algorithm for str and\n",
      "     |      bytes generates a narrower range of seeds.\n",
      "     |\n",
      "     |  setstate(self, state)\n",
      "     |      Restore internal state from object returned by getstate().\n",
      "     |\n",
      "     |  shuffle(self, x)\n",
      "     |      Shuffle list x in place, and return None.\n",
      "     |\n",
      "     |  triangular(self, low=0.0, high=1.0, mode=None)\n",
      "     |      Triangular distribution.\n",
      "     |\n",
      "     |      Continuous distribution bounded by given lower and upper limits,\n",
      "     |      and having a given mode value in-between.\n",
      "     |\n",
      "     |      http://en.wikipedia.org/wiki/Triangular_distribution\n",
      "     |\n",
      "     |      The mean (expected value) and variance of the random variable are:\n",
      "     |\n",
      "     |          E[X] = (low + high + mode) / 3\n",
      "     |          Var[X] = (low**2 + high**2 + mode**2 - low*high - low*mode - high*mode) / 18\n",
      "     |\n",
      "     |  uniform(self, a, b)\n",
      "     |      Get a random number in the range [a, b) or [a, b] depending on rounding.\n",
      "     |\n",
      "     |      The mean (expected value) and variance of the random variable are:\n",
      "     |\n",
      "     |          E[X] = (a + b) / 2\n",
      "     |          Var[X] = (b - a) ** 2 / 12\n",
      "     |\n",
      "     |  vonmisesvariate(self, mu, kappa)\n",
      "     |      Circular data distribution.\n",
      "     |\n",
      "     |      mu is the mean angle, expressed in radians between 0 and 2*pi, and\n",
      "     |      kappa is the concentration parameter, which must be greater than or\n",
      "     |      equal to zero.  If kappa is equal to zero, this distribution reduces\n",
      "     |      to a uniform random angle over the range 0 to 2*pi.\n",
      "     |\n",
      "     |  weibullvariate(self, alpha, beta)\n",
      "     |      Weibull distribution.\n",
      "     |\n",
      "     |      alpha is the scale parameter and beta is the shape parameter.\n",
      "     |\n",
      "     |  ----------------------------------------------------------------------\n",
      "     |  Class methods defined here:\n",
      "     |\n",
      "     |  __init_subclass__(**kwargs)\n",
      "     |      Control how subclasses generate random integers.\n",
      "     |\n",
      "     |      The algorithm a subclass can use depends on the random() and/or\n",
      "     |      getrandbits() implementation available to it and determines\n",
      "     |      whether it can generate random integers from arbitrarily large\n",
      "     |      ranges.\n",
      "     |\n",
      "     |  ----------------------------------------------------------------------\n",
      "     |  Data descriptors defined here:\n",
      "     |\n",
      "     |  __dict__\n",
      "     |      dictionary for instance variables\n",
      "     |\n",
      "     |  __weakref__\n",
      "     |      list of weak references to the object\n",
      "     |\n",
      "     |  ----------------------------------------------------------------------\n",
      "     |  Data and other attributes defined here:\n",
      "     |\n",
      "     |  VERSION = 3\n",
      "     |\n",
      "     |  ----------------------------------------------------------------------\n",
      "     |  Methods inherited from _random.Random:\n",
      "     |\n",
      "     |  getrandbits(self, k, /)\n",
      "     |      getrandbits(k) -> x.  Generates an int with k random bits.\n",
      "     |\n",
      "     |  random(self, /)\n",
      "     |      random() -> x in the interval [0, 1).\n",
      "     |\n",
      "     |  ----------------------------------------------------------------------\n",
      "     |  Static methods inherited from _random.Random:\n",
      "     |\n",
      "     |  __new__(*args, **kwargs) class method of _random.Random\n",
      "     |      Create and return a new object.  See help(type) for accurate signature.\n",
      "\n",
      "    class SystemRandom(Random)\n",
      "     |  SystemRandom(x=None)\n",
      "     |\n",
      "     |  Alternate random number generator using sources provided\n",
      "     |  by the operating system (such as /dev/urandom on Unix or\n",
      "     |  CryptGenRandom on Windows).\n",
      "     |\n",
      "     |   Not available on all systems (see os.urandom() for details).\n",
      "     |\n",
      "     |  Method resolution order:\n",
      "     |      SystemRandom\n",
      "     |      Random\n",
      "     |      _random.Random\n",
      "     |      builtins.object\n",
      "     |\n",
      "     |  Methods defined here:\n",
      "     |\n",
      "     |  getrandbits(self, k)\n",
      "     |      getrandbits(k) -> x.  Generates an int with k random bits.\n",
      "     |\n",
      "     |  getstate = _notimplemented(self, *args, **kwds)\n",
      "     |\n",
      "     |  randbytes(self, n)\n",
      "     |      Generate n random bytes.\n",
      "     |\n",
      "     |  random(self)\n",
      "     |      Get the next random number in the range 0.0 <= X < 1.0.\n",
      "     |\n",
      "     |  seed(self, *args, **kwds)\n",
      "     |      Stub method.  Not used for a system random number generator.\n",
      "     |\n",
      "     |  setstate = _notimplemented(self, *args, **kwds)\n",
      "     |\n",
      "     |  ----------------------------------------------------------------------\n",
      "     |  Methods inherited from Random:\n",
      "     |\n",
      "     |  __getstate__(self)\n",
      "     |      Helper for pickle.\n",
      "     |\n",
      "     |  __init__(self, x=None)\n",
      "     |      Initialize an instance.\n",
      "     |\n",
      "     |      Optional argument x controls seeding, as for Random.seed().\n",
      "     |\n",
      "     |  __reduce__(self)\n",
      "     |      Helper for pickle.\n",
      "     |\n",
      "     |  __setstate__(self, state)\n",
      "     |\n",
      "     |  betavariate(self, alpha, beta)\n",
      "     |      Beta distribution.\n",
      "     |\n",
      "     |      Conditions on the parameters are alpha > 0 and beta > 0.\n",
      "     |      Returned values range between 0 and 1.\n",
      "     |\n",
      "     |      The mean (expected value) and variance of the random variable are:\n",
      "     |\n",
      "     |          E[X] = alpha / (alpha + beta)\n",
      "     |          Var[X] = alpha * beta / ((alpha + beta)**2 * (alpha + beta + 1))\n",
      "     |\n",
      "     |  binomialvariate(self, n=1, p=0.5)\n",
      "     |      Binomial random variable.\n",
      "     |\n",
      "     |      Gives the number of successes for *n* independent trials\n",
      "     |      with the probability of success in each trial being *p*:\n",
      "     |\n",
      "     |          sum(random() < p for i in range(n))\n",
      "     |\n",
      "     |      Returns an integer in the range:   0 <= X <= n\n",
      "     |\n",
      "     |      The mean (expected value) and variance of the random variable are:\n",
      "     |\n",
      "     |          E[X] = n * p\n",
      "     |          Var[x] = n * p * (1 - p)\n",
      "     |\n",
      "     |  choice(self, seq)\n",
      "     |      Choose a random element from a non-empty sequence.\n",
      "     |\n",
      "     |  choices(self, population, weights=None, *, cum_weights=None, k=1)\n",
      "     |      Return a k sized list of population elements chosen with replacement.\n",
      "     |\n",
      "     |      If the relative weights or cumulative weights are not specified,\n",
      "     |      the selections are made with equal probability.\n",
      "     |\n",
      "     |  expovariate(self, lambd=1.0)\n",
      "     |      Exponential distribution.\n",
      "     |\n",
      "     |      lambd is 1.0 divided by the desired mean.  It should be\n",
      "     |      nonzero.  (The parameter would be called \"lambda\", but that is\n",
      "     |      a reserved word in Python.)  Returned values range from 0 to\n",
      "     |      positive infinity if lambd is positive, and from negative\n",
      "     |      infinity to 0 if lambd is negative.\n",
      "     |\n",
      "     |      The mean (expected value) and variance of the random variable are:\n",
      "     |\n",
      "     |          E[X] = 1 / lambd\n",
      "     |          Var[X] = 1 / lambd ** 2\n",
      "     |\n",
      "     |  gammavariate(self, alpha, beta)\n",
      "     |      Gamma distribution.  Not the gamma function!\n",
      "     |\n",
      "     |      Conditions on the parameters are alpha > 0 and beta > 0.\n",
      "     |\n",
      "     |      The probability distribution function is:\n",
      "     |\n",
      "     |                  x ** (alpha - 1) * math.exp(-x / beta)\n",
      "     |        pdf(x) =  --------------------------------------\n",
      "     |                    math.gamma(alpha) * beta ** alpha\n",
      "     |\n",
      "     |      The mean (expected value) and variance of the random variable are:\n",
      "     |\n",
      "     |          E[X] = alpha * beta\n",
      "     |          Var[X] = alpha * beta ** 2\n",
      "     |\n",
      "     |  gauss(self, mu=0.0, sigma=1.0)\n",
      "     |      Gaussian distribution.\n",
      "     |\n",
      "     |      mu is the mean, and sigma is the standard deviation.  This is\n",
      "     |      slightly faster than the normalvariate() function.\n",
      "     |\n",
      "     |      Not thread-safe without a lock around calls.\n",
      "     |\n",
      "     |  lognormvariate(self, mu, sigma)\n",
      "     |      Log normal distribution.\n",
      "     |\n",
      "     |      If you take the natural logarithm of this distribution, you'll get a\n",
      "     |      normal distribution with mean mu and standard deviation sigma.\n",
      "     |      mu can have any value, and sigma must be greater than zero.\n",
      "     |\n",
      "     |  normalvariate(self, mu=0.0, sigma=1.0)\n",
      "     |      Normal distribution.\n",
      "     |\n",
      "     |      mu is the mean, and sigma is the standard deviation.\n",
      "     |\n",
      "     |  paretovariate(self, alpha)\n",
      "     |      Pareto distribution.  alpha is the shape parameter.\n",
      "     |\n",
      "     |  randint(self, a, b)\n",
      "     |      Return random integer in range [a, b], including both end points.\n",
      "     |\n",
      "     |  randrange(self, start, stop=None, step=1)\n",
      "     |      Choose a random item from range(stop) or range(start, stop[, step]).\n",
      "     |\n",
      "     |      Roughly equivalent to ``choice(range(start, stop, step))`` but\n",
      "     |      supports arbitrarily large ranges and is optimized for common cases.\n",
      "     |\n",
      "     |  sample(self, population, k, *, counts=None)\n",
      "     |      Chooses k unique random elements from a population sequence.\n",
      "     |\n",
      "     |      Returns a new list containing elements from the population while\n",
      "     |      leaving the original population unchanged.  The resulting list is\n",
      "     |      in selection order so that all sub-slices will also be valid random\n",
      "     |      samples.  This allows raffle winners (the sample) to be partitioned\n",
      "     |      into grand prize and second place winners (the subslices).\n",
      "     |\n",
      "     |      Members of the population need not be hashable or unique.  If the\n",
      "     |      population contains repeats, then each occurrence is a possible\n",
      "     |      selection in the sample.\n",
      "     |\n",
      "     |      Repeated elements can be specified one at a time or with the optional\n",
      "     |      counts parameter.  For example:\n",
      "     |\n",
      "     |          sample(['red', 'blue'], counts=[4, 2], k=5)\n",
      "     |\n",
      "     |      is equivalent to:\n",
      "     |\n",
      "     |          sample(['red', 'red', 'red', 'red', 'blue', 'blue'], k=5)\n",
      "     |\n",
      "     |      To choose a sample from a range of integers, use range() for the\n",
      "     |      population argument.  This is especially fast and space efficient\n",
      "     |      for sampling from a large population:\n",
      "     |\n",
      "     |          sample(range(10000000), 60)\n",
      "     |\n",
      "     |  shuffle(self, x)\n",
      "     |      Shuffle list x in place, and return None.\n",
      "     |\n",
      "     |  triangular(self, low=0.0, high=1.0, mode=None)\n",
      "     |      Triangular distribution.\n",
      "     |\n",
      "     |      Continuous distribution bounded by given lower and upper limits,\n",
      "     |      and having a given mode value in-between.\n",
      "     |\n",
      "     |      http://en.wikipedia.org/wiki/Triangular_distribution\n",
      "     |\n",
      "     |      The mean (expected value) and variance of the random variable are:\n",
      "     |\n",
      "     |          E[X] = (low + high + mode) / 3\n",
      "     |          Var[X] = (low**2 + high**2 + mode**2 - low*high - low*mode - high*mode) / 18\n",
      "     |\n",
      "     |  uniform(self, a, b)\n",
      "     |      Get a random number in the range [a, b) or [a, b] depending on rounding.\n",
      "     |\n",
      "     |      The mean (expected value) and variance of the random variable are:\n",
      "     |\n",
      "     |          E[X] = (a + b) / 2\n",
      "     |          Var[X] = (b - a) ** 2 / 12\n",
      "     |\n",
      "     |  vonmisesvariate(self, mu, kappa)\n",
      "     |      Circular data distribution.\n",
      "     |\n",
      "     |      mu is the mean angle, expressed in radians between 0 and 2*pi, and\n",
      "     |      kappa is the concentration parameter, which must be greater than or\n",
      "     |      equal to zero.  If kappa is equal to zero, this distribution reduces\n",
      "     |      to a uniform random angle over the range 0 to 2*pi.\n",
      "     |\n",
      "     |  weibullvariate(self, alpha, beta)\n",
      "     |      Weibull distribution.\n",
      "     |\n",
      "     |      alpha is the scale parameter and beta is the shape parameter.\n",
      "     |\n",
      "     |  ----------------------------------------------------------------------\n",
      "     |  Class methods inherited from Random:\n",
      "     |\n",
      "     |  __init_subclass__(**kwargs)\n",
      "     |      Control how subclasses generate random integers.\n",
      "     |\n",
      "     |      The algorithm a subclass can use depends on the random() and/or\n",
      "     |      getrandbits() implementation available to it and determines\n",
      "     |      whether it can generate random integers from arbitrarily large\n",
      "     |      ranges.\n",
      "     |\n",
      "     |  ----------------------------------------------------------------------\n",
      "     |  Data descriptors inherited from Random:\n",
      "     |\n",
      "     |  __dict__\n",
      "     |      dictionary for instance variables\n",
      "     |\n",
      "     |  __weakref__\n",
      "     |      list of weak references to the object\n",
      "     |\n",
      "     |  ----------------------------------------------------------------------\n",
      "     |  Data and other attributes inherited from Random:\n",
      "     |\n",
      "     |  VERSION = 3\n",
      "     |\n",
      "     |  ----------------------------------------------------------------------\n",
      "     |  Static methods inherited from _random.Random:\n",
      "     |\n",
      "     |  __new__(*args, **kwargs) class method of _random.Random\n",
      "     |      Create and return a new object.  See help(type) for accurate signature.\n",
      "\n",
      "FUNCTIONS\n",
      "    betavariate(alpha, beta) method of Random instance\n",
      "        Beta distribution.\n",
      "\n",
      "        Conditions on the parameters are alpha > 0 and beta > 0.\n",
      "        Returned values range between 0 and 1.\n",
      "\n",
      "        The mean (expected value) and variance of the random variable are:\n",
      "\n",
      "            E[X] = alpha / (alpha + beta)\n",
      "            Var[X] = alpha * beta / ((alpha + beta)**2 * (alpha + beta + 1))\n",
      "\n",
      "    binomialvariate(n=1, p=0.5) method of Random instance\n",
      "        Binomial random variable.\n",
      "\n",
      "        Gives the number of successes for *n* independent trials\n",
      "        with the probability of success in each trial being *p*:\n",
      "\n",
      "            sum(random() < p for i in range(n))\n",
      "\n",
      "        Returns an integer in the range:   0 <= X <= n\n",
      "\n",
      "        The mean (expected value) and variance of the random variable are:\n",
      "\n",
      "            E[X] = n * p\n",
      "            Var[x] = n * p * (1 - p)\n",
      "\n",
      "    choice(seq) method of Random instance\n",
      "        Choose a random element from a non-empty sequence.\n",
      "\n",
      "    choices(population, weights=None, *, cum_weights=None, k=1) method of Random instance\n",
      "        Return a k sized list of population elements chosen with replacement.\n",
      "\n",
      "        If the relative weights or cumulative weights are not specified,\n",
      "        the selections are made with equal probability.\n",
      "\n",
      "    expovariate(lambd=1.0) method of Random instance\n",
      "        Exponential distribution.\n",
      "\n",
      "        lambd is 1.0 divided by the desired mean.  It should be\n",
      "        nonzero.  (The parameter would be called \"lambda\", but that is\n",
      "        a reserved word in Python.)  Returned values range from 0 to\n",
      "        positive infinity if lambd is positive, and from negative\n",
      "        infinity to 0 if lambd is negative.\n",
      "\n",
      "        The mean (expected value) and variance of the random variable are:\n",
      "\n",
      "            E[X] = 1 / lambd\n",
      "            Var[X] = 1 / lambd ** 2\n",
      "\n",
      "    gammavariate(alpha, beta) method of Random instance\n",
      "        Gamma distribution.  Not the gamma function!\n",
      "\n",
      "        Conditions on the parameters are alpha > 0 and beta > 0.\n",
      "\n",
      "        The probability distribution function is:\n",
      "\n",
      "                    x ** (alpha - 1) * math.exp(-x / beta)\n",
      "          pdf(x) =  --------------------------------------\n",
      "                      math.gamma(alpha) * beta ** alpha\n",
      "\n",
      "        The mean (expected value) and variance of the random variable are:\n",
      "\n",
      "            E[X] = alpha * beta\n",
      "            Var[X] = alpha * beta ** 2\n",
      "\n",
      "    gauss(mu=0.0, sigma=1.0) method of Random instance\n",
      "        Gaussian distribution.\n",
      "\n",
      "        mu is the mean, and sigma is the standard deviation.  This is\n",
      "        slightly faster than the normalvariate() function.\n",
      "\n",
      "        Not thread-safe without a lock around calls.\n",
      "\n",
      "    getrandbits(k, /) method of Random instance\n",
      "        getrandbits(k) -> x.  Generates an int with k random bits.\n",
      "\n",
      "    getstate() method of Random instance\n",
      "        Return internal state; can be passed to setstate() later.\n",
      "\n",
      "    lognormvariate(mu, sigma) method of Random instance\n",
      "        Log normal distribution.\n",
      "\n",
      "        If you take the natural logarithm of this distribution, you'll get a\n",
      "        normal distribution with mean mu and standard deviation sigma.\n",
      "        mu can have any value, and sigma must be greater than zero.\n",
      "\n",
      "    normalvariate(mu=0.0, sigma=1.0) method of Random instance\n",
      "        Normal distribution.\n",
      "\n",
      "        mu is the mean, and sigma is the standard deviation.\n",
      "\n",
      "    paretovariate(alpha) method of Random instance\n",
      "        Pareto distribution.  alpha is the shape parameter.\n",
      "\n",
      "    randbytes(n) method of Random instance\n",
      "        Generate n random bytes.\n",
      "\n",
      "    randint(a, b) method of Random instance\n",
      "        Return random integer in range [a, b], including both end points.\n",
      "\n",
      "    random() method of Random instance\n",
      "        random() -> x in the interval [0, 1).\n",
      "\n",
      "    randrange(start, stop=None, step=1) method of Random instance\n",
      "        Choose a random item from range(stop) or range(start, stop[, step]).\n",
      "\n",
      "        Roughly equivalent to ``choice(range(start, stop, step))`` but\n",
      "        supports arbitrarily large ranges and is optimized for common cases.\n",
      "\n",
      "    sample(population, k, *, counts=None) method of Random instance\n",
      "        Chooses k unique random elements from a population sequence.\n",
      "\n",
      "        Returns a new list containing elements from the population while\n",
      "        leaving the original population unchanged.  The resulting list is\n",
      "        in selection order so that all sub-slices will also be valid random\n",
      "        samples.  This allows raffle winners (the sample) to be partitioned\n",
      "        into grand prize and second place winners (the subslices).\n",
      "\n",
      "        Members of the population need not be hashable or unique.  If the\n",
      "        population contains repeats, then each occurrence is a possible\n",
      "        selection in the sample.\n",
      "\n",
      "        Repeated elements can be specified one at a time or with the optional\n",
      "        counts parameter.  For example:\n",
      "\n",
      "            sample(['red', 'blue'], counts=[4, 2], k=5)\n",
      "\n",
      "        is equivalent to:\n",
      "\n",
      "            sample(['red', 'red', 'red', 'red', 'blue', 'blue'], k=5)\n",
      "\n",
      "        To choose a sample from a range of integers, use range() for the\n",
      "        population argument.  This is especially fast and space efficient\n",
      "        for sampling from a large population:\n",
      "\n",
      "            sample(range(10000000), 60)\n",
      "\n",
      "    seed(a=None, version=2) method of Random instance\n",
      "        Initialize internal state from a seed.\n",
      "\n",
      "        The only supported seed types are None, int, float,\n",
      "        str, bytes, and bytearray.\n",
      "\n",
      "        None or no argument seeds from current time or from an operating\n",
      "        system specific randomness source if available.\n",
      "\n",
      "        If *a* is an int, all bits are used.\n",
      "\n",
      "        For version 2 (the default), all of the bits are used if *a* is a str,\n",
      "        bytes, or bytearray.  For version 1 (provided for reproducing random\n",
      "        sequences from older versions of Python), the algorithm for str and\n",
      "        bytes generates a narrower range of seeds.\n",
      "\n",
      "    setstate(state) method of Random instance\n",
      "        Restore internal state from object returned by getstate().\n",
      "\n",
      "    shuffle(x) method of Random instance\n",
      "        Shuffle list x in place, and return None.\n",
      "\n",
      "    triangular(low=0.0, high=1.0, mode=None) method of Random instance\n",
      "        Triangular distribution.\n",
      "\n",
      "        Continuous distribution bounded by given lower and upper limits,\n",
      "        and having a given mode value in-between.\n",
      "\n",
      "        http://en.wikipedia.org/wiki/Triangular_distribution\n",
      "\n",
      "        The mean (expected value) and variance of the random variable are:\n",
      "\n",
      "            E[X] = (low + high + mode) / 3\n",
      "            Var[X] = (low**2 + high**2 + mode**2 - low*high - low*mode - high*mode) / 18\n",
      "\n",
      "    uniform(a, b) method of Random instance\n",
      "        Get a random number in the range [a, b) or [a, b] depending on rounding.\n",
      "\n",
      "        The mean (expected value) and variance of the random variable are:\n",
      "\n",
      "            E[X] = (a + b) / 2\n",
      "            Var[X] = (b - a) ** 2 / 12\n",
      "\n",
      "    vonmisesvariate(mu, kappa) method of Random instance\n",
      "        Circular data distribution.\n",
      "\n",
      "        mu is the mean angle, expressed in radians between 0 and 2*pi, and\n",
      "        kappa is the concentration parameter, which must be greater than or\n",
      "        equal to zero.  If kappa is equal to zero, this distribution reduces\n",
      "        to a uniform random angle over the range 0 to 2*pi.\n",
      "\n",
      "    weibullvariate(alpha, beta) method of Random instance\n",
      "        Weibull distribution.\n",
      "\n",
      "        alpha is the scale parameter and beta is the shape parameter.\n",
      "\n",
      "DATA\n",
      "    __all__ = ['Random', 'SystemRandom', 'betavariate', 'binomialvariate',...\n",
      "\n",
      "FILE\n",
      "    c:\\programdata\\anaconda3\\lib\\random.py\n",
      "\n",
      "\n"
     ]
    }
   ],
   "source": [
    "help(random)"
   ]
  },
  {
   "cell_type": "code",
   "execution_count": 83,
   "metadata": {},
   "outputs": [
    {
     "data": {
      "text/plain": [
       "0.038919004207048635"
      ]
     },
     "execution_count": 83,
     "metadata": {},
     "output_type": "execute_result"
    }
   ],
   "source": [
    "random.random() #[0,1)"
   ]
  },
  {
   "cell_type": "code",
   "execution_count": 201,
   "metadata": {},
   "outputs": [
    {
     "data": {
      "text/plain": [
       "5.0"
      ]
     },
     "execution_count": 201,
     "metadata": {},
     "output_type": "execute_result"
    }
   ],
   "source": [
    "random.randint(a=1,b=10)  # [1, 100]"
   ]
  },
  {
   "cell_type": "code",
   "execution_count": 270,
   "metadata": {},
   "outputs": [
    {
     "data": {
      "text/plain": [
       "6.3639157283409835"
      ]
     },
     "execution_count": 270,
     "metadata": {},
     "output_type": "execute_result"
    }
   ],
   "source": [
    "random.uniform(a=1,b=10)"
   ]
  },
  {
   "cell_type": "code",
   "execution_count": 307,
   "metadata": {},
   "outputs": [],
   "source": [
    "colors.extend(paint)"
   ]
  },
  {
   "cell_type": "code",
   "execution_count": 324,
   "metadata": {},
   "outputs": [
    {
     "data": {
      "text/plain": [
       "['yellow', 'blue']"
      ]
     },
     "execution_count": 324,
     "metadata": {},
     "output_type": "execute_result"
    }
   ],
   "source": [
    "colors = [\"red\", \"green\", \"blue\", \"yellow\"] # sublist hvaing 1 or 2 values\n",
    "paint = ['A','B','C']\n",
    "random.choices(colors,k=2)"
   ]
  },
  {
   "cell_type": "code",
   "execution_count": 309,
   "metadata": {},
   "outputs": [],
   "source": [
    "from itertools import zip_longest"
   ]
  },
  {
   "cell_type": "code",
   "execution_count": 314,
   "metadata": {},
   "outputs": [],
   "source": [
    "comb = list(zip_longest(colors,paint,fillvalue=0))"
   ]
  },
  {
   "cell_type": "code",
   "execution_count": 326,
   "metadata": {},
   "outputs": [],
   "source": [
    "comb = []\n",
    "for i in colors:\n",
    "    for j in paint:\n",
    "        tupple_value =  (i,j)\n",
    "        comb.append(tupple_value)"
   ]
  },
  {
   "cell_type": "code",
   "execution_count": null,
   "metadata": {},
   "outputs": [],
   "source": []
  },
  {
   "cell_type": "code",
   "execution_count": 321,
   "metadata": {},
   "outputs": [
    {
     "data": {
      "text/plain": [
       "[('B', 0), ('green', 'B')]"
      ]
     },
     "execution_count": 321,
     "metadata": {},
     "output_type": "execute_result"
    }
   ],
   "source": [
    "random.choices(comb,k=2)"
   ]
  },
  {
   "cell_type": "code",
   "execution_count": 271,
   "metadata": {},
   "outputs": [
    {
     "name": "stdout",
     "output_type": "stream",
     "text": [
      "Random functions:\n",
      "Random float [0,1): 0.0811867698714358\n",
      "Random int [1,10]: 4\n",
      "Random float [1,10]: 9.411663815676073\n"
     ]
    }
   ],
   "source": [
    "print(\"Random functions:\")\n",
    "print(f\"Random float [0,1): {random.random()}\")\n",
    "print(f\"Random int [1,10]: {random.randint(1, 10)}\")\n",
    "print(f\"Random float [1,10]: {random.uniform(1, 10)}\")"
   ]
  },
  {
   "cell_type": "code",
   "execution_count": 110,
   "metadata": {},
   "outputs": [
    {
     "name": "stdout",
     "output_type": "stream",
     "text": [
      "Random functions:\n",
      "Random float [0,1): 0.7139311383000743\n",
      "Random int [1,10]: 2\n",
      "Random float [1,10]: 1.1819259105720734\n",
      "Random color: green\n",
      "Random sample of 3: [10, 1, 7]\n",
      "Shuffled deck: ['10', 'K', 'J', 'A', 'Q']\n"
     ]
    }
   ],
   "source": [
    "# Random number generation\n",
    "print(\"Random functions:\")\n",
    "print(f\"Random float [0,1): {random.random()}\")\n",
    "print(f\"Random int [1,10]: {random.randint(1, 10)}\")\n",
    "print(f\"Random float [1,10]: {random.uniform(1, 10)}\")\n",
    "\n",
    "# Random choice from sequence\n",
    "colors = [\"red\", \"green\", \"blue\", \"yellow\"]\n",
    "print(f\"Random color: {random.choice(colors)}\")\n",
    "\n",
    "# Random sample\n",
    "numbers = list(range(1, 11))\n",
    "print(f\"Random sample of 3: {random.sample(numbers, 3)}\")\n",
    "\n",
    "# Shuffle list\n",
    "deck = [\"A\", \"K\", \"Q\", \"J\", \"10\"]\n",
    "random.shuffle(deck)\n",
    "print(f\"Shuffled deck: {deck}\")"
   ]
  },
  {
   "cell_type": "code",
   "execution_count": 106,
   "metadata": {},
   "outputs": [
    {
     "data": {
      "text/plain": [
       "0.544040761552804"
      ]
     },
     "execution_count": 106,
     "metadata": {},
     "output_type": "execute_result"
    }
   ],
   "source": [
    "random.random()"
   ]
  },
  {
   "cell_type": "code",
   "execution_count": 126,
   "metadata": {},
   "outputs": [
    {
     "data": {
      "text/plain": [
       "154.01047667573016"
      ]
     },
     "execution_count": 126,
     "metadata": {},
     "output_type": "execute_result"
    }
   ],
   "source": [
    "random.uniform(1, 200)"
   ]
  },
  {
   "cell_type": "code",
   "execution_count": 143,
   "metadata": {},
   "outputs": [
    {
     "name": "stdout",
     "output_type": "stream",
     "text": [
      "Random color: blue\n"
     ]
    }
   ],
   "source": [
    "a = [1,2,3,4,5]\n",
    "random.choice(a)\n",
    "\n",
    "colors = [\"red\", \"green\", \"blue\", \"yellow\"]\n",
    "print(f\"Random color: {random.choice(colors)}\")"
   ]
  },
  {
   "cell_type": "code",
   "execution_count": 337,
   "metadata": {},
   "outputs": [
    {
     "data": {
      "text/plain": [
       "['red']"
      ]
     },
     "execution_count": 337,
     "metadata": {},
     "output_type": "execute_result"
    }
   ],
   "source": [
    "random.sample(colors,1)"
   ]
  },
  {
   "cell_type": "code",
   "execution_count": 338,
   "metadata": {},
   "outputs": [],
   "source": [
    "a = [1,2,3,4,5]"
   ]
  },
  {
   "cell_type": "code",
   "execution_count": 347,
   "metadata": {},
   "outputs": [
    {
     "data": {
      "text/plain": [
       "[3, 1, 2, 5, 4]"
      ]
     },
     "execution_count": 347,
     "metadata": {},
     "output_type": "execute_result"
    }
   ],
   "source": [
    "random.shuffle(a)\n",
    "a"
   ]
  },
  {
   "cell_type": "code",
   "execution_count": 346,
   "metadata": {},
   "outputs": [
    {
     "data": {
      "text/plain": [
       "[2, 3, 5, 1, 4]"
      ]
     },
     "execution_count": 346,
     "metadata": {},
     "output_type": "execute_result"
    }
   ],
   "source": [
    "a"
   ]
  },
  {
   "cell_type": "code",
   "execution_count": null,
   "metadata": {},
   "outputs": [],
   "source": []
  }
 ],
 "metadata": {
  "kernelspec": {
   "display_name": "Python [conda env:base] *",
   "language": "python",
   "name": "conda-base-py"
  },
  "language_info": {
   "codemirror_mode": {
    "name": "ipython",
    "version": 3
   },
   "file_extension": ".py",
   "mimetype": "text/x-python",
   "name": "python",
   "nbconvert_exporter": "python",
   "pygments_lexer": "ipython3",
   "version": "3.12.7"
  }
 },
 "nbformat": 4,
 "nbformat_minor": 4
}
