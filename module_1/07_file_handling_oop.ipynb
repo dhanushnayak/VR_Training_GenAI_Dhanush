{
 "cells": [
  {
   "cell_type": "markdown",
   "metadata": {},
   "source": [
    "# File Handling and Object-Oriented Programming"
   ]
  },
  {
   "cell_type": "markdown",
   "metadata": {},
   "source": [
    "### File Handling"
   ]
  },
  {
   "cell_type": "code",
   "execution_count": 22,
   "metadata": {},
   "outputs": [],
   "source": [
    "with open(\"new_file_in_class_1.txt\",'w+') as f:\n",
    "    f.write(\"Hey \")\n",
    "    f.write(\"people.... \")\n",
    "f.close()"
   ]
  },
  {
   "cell_type": "code",
   "execution_count": 23,
   "metadata": {},
   "outputs": [],
   "source": [
    "with open(\"new_file_in_class_1.txt\",\"w+\") as f:\n",
    "    file_content = f.read()\n",
    "f.close()"
   ]
  },
  {
   "cell_type": "code",
   "execution_count": 38,
   "metadata": {},
   "outputs": [
    {
     "data": {
      "text/plain": [
       "''"
      ]
     },
     "execution_count": 38,
     "metadata": {},
     "output_type": "execute_result"
    }
   ],
   "source": [
    "file_content"
   ]
  },
  {
   "cell_type": "code",
   "execution_count": 43,
   "metadata": {},
   "outputs": [
    {
     "name": "stdout",
     "output_type": "stream",
     "text": [
      "File created successfully!\n",
      "File content:\n",
      "Hello, World!\n",
      "This is a sample file.\n",
      "Python file handling is easy!\n"
     ]
    }
   ],
   "source": [
    "# Writing to a file\n",
    "with open('sample.txt', 'w') as file:\n",
    "    file.write(\"Hello, World!\\n\")\n",
    "    file.write(\"This is a sample file.\\n\")\n",
    "    file.write(\"Python file handling is easy!\")\n",
    "\n",
    "print(\"File created successfully!\")\n",
    "\n",
    "# Reading from a file\n",
    "with open('sample.txt', 'r') as file:\n",
    "    content = file.read()\n",
    "    print(\"File content:\")\n",
    "    print(content)"
   ]
  },
  {
   "cell_type": "code",
   "execution_count": 46,
   "metadata": {},
   "outputs": [
    {
     "data": {
      "text/plain": [
       "str"
      ]
     },
     "execution_count": 46,
     "metadata": {},
     "output_type": "execute_result"
    }
   ],
   "source": [
    "type(content)"
   ]
  },
  {
   "cell_type": "code",
   "execution_count": null,
   "metadata": {},
   "outputs": [],
   "source": [
    "save_data --- name, content "
   ]
  },
  {
   "cell_type": "code",
   "execution_count": 62,
   "metadata": {},
   "outputs": [],
   "source": [
    "def save_data(filename, content):\n",
    "    with open(filename,'w+') as f:\n",
    "        f.write(content)\n",
    "    print(\"Content written\")\n",
    "    f.close()\n",
    "    print(f\"File with name : {filename} is closed\")"
   ]
  },
  {
   "cell_type": "code",
   "execution_count": null,
   "metadata": {},
   "outputs": [],
   "source": [
    "1.txt, 2.txt, 3.txt --- data folder "
   ]
  },
  {
   "cell_type": "code",
   "execution_count": 71,
   "metadata": {},
   "outputs": [
    {
     "name": "stdout",
     "output_type": "stream",
     "text": [
      "Data folder is avalible\n",
      "Content written\n",
      "File with name : data/1.txt is closed\n",
      "Content written\n",
      "File with name : data/2.txt is closed\n",
      "Content written\n",
      "File with name : data/3.txt is closed\n",
      "Content written\n",
      "File with name : data/4.txt is closed\n",
      "Content written\n",
      "File with name : data/5.txt is closed\n",
      "Content written\n",
      "File with name : data/6.txt is closed\n",
      "Content written\n",
      "File with name : data/7.txt is closed\n",
      "Content written\n",
      "File with name : data/8.txt is closed\n",
      "Content written\n",
      "File with name : data/9.txt is closed\n",
      "Content written\n",
      "File with name : data/10.txt is closed\n"
     ]
    }
   ],
   "source": [
    "import os\n",
    "\n",
    "if os.path.exists(\"./data\"):\n",
    "    print(\"Data folder is avalible\")\n",
    "else:\n",
    "    print(\"Data folder is not avalible\")\n",
    "    os.mkdir('data')\n",
    "\n",
    "for i in range(1,11):\n",
    "        filename = fr\"data/{i}.txt\"\n",
    "        context = f\"Hello this is {filename}\"\n",
    "        save_data(filename,context)\n",
    "    "
   ]
  },
  {
   "cell_type": "code",
   "execution_count": null,
   "metadata": {},
   "outputs": [],
   "source": []
  },
  {
   "cell_type": "code",
   "execution_count": 58,
   "metadata": {},
   "outputs": [
    {
     "name": "stdout",
     "output_type": "stream",
     "text": [
      "\n",
      "Total lines: 3\n",
      "First line: Hello, World!\n"
     ]
    }
   ],
   "source": [
    "with open('sample.txt', 'r') as file:\n",
    "    lines = file.readlines()\n",
    "    print(f\"\\nTotal lines: {len(lines)}\")\n",
    "    print(f\"First line: {lines[0].strip()}\")"
   ]
  },
  {
   "cell_type": "code",
   "execution_count": 59,
   "metadata": {},
   "outputs": [],
   "source": [
    "with open(\"sample.txt\",\"a\") as f:\n",
    "    f.write(\"New line added/appended\")\n",
    "f.close()"
   ]
  },
  {
   "cell_type": "code",
   "execution_count": 52,
   "metadata": {},
   "outputs": [
    {
     "data": {
      "text/plain": [
       "'Hello, World!\\n'"
      ]
     },
     "execution_count": 52,
     "metadata": {},
     "output_type": "execute_result"
    }
   ],
   "source": [
    "lines[0]"
   ]
  },
  {
   "cell_type": "code",
   "execution_count": 42,
   "metadata": {},
   "outputs": [
    {
     "name": "stdout",
     "output_type": "stream",
     "text": [
      "File created successfully!\n"
     ]
    }
   ],
   "source": [
    "with open('sample+1.txt', 'w',encoding='CP1252') as file:\n",
    "    file.write(\"Hello, World!\\n\")\n",
    "    file.write(\"This is a sample file.\\n\")\n",
    "    file.write(\"Python file handling is easy!\")\n",
    "\n",
    "print(\"File created successfully!\")"
   ]
  },
  {
   "cell_type": "code",
   "execution_count": 57,
   "metadata": {},
   "outputs": [
    {
     "name": "stdout",
     "output_type": "stream",
     "text": [
      "Reading line by line:\n",
      "Line 1: Hello, World!\n",
      "Line 2: This is a sample file.\n",
      "Line 3: Python file handling is easy!\n",
      "\n",
      "Total lines: 3\n",
      "First line: Hello, World!\n"
     ]
    }
   ],
   "source": [
    "# Different ways to read files\n",
    "with open('sample.txt', 'r') as file:\n",
    "    # Read line by line\n",
    "    print(\"Reading line by line:\")\n",
    "    file.seek(0)  # Reset to beginning\n",
    "    for line_num, line in enumerate(file, 1):\n",
    "        print(f\"Line {line_num}: {line.strip()}\")\n",
    "\n",
    "# Read all lines into a list\n",
    "with open('sample.txt', 'r') as file:\n",
    "    lines = file.readlines()\n",
    "    print(f\"\\nTotal lines: {len(lines)}\")\n",
    "    print(f\"First line: {lines[0].strip()}\")"
   ]
  },
  {
   "cell_type": "code",
   "execution_count": 60,
   "metadata": {
    "scrolled": true
   },
   "outputs": [
    {
     "name": "stdout",
     "output_type": "stream",
     "text": [
      "CSV content:\n",
      "['Name', 'Age', 'City']\n",
      "['Alice', '30', 'New York']\n",
      "['Bob', '25', 'Los Angeles']\n",
      "['Charlie', '35', 'Chicago']\n"
     ]
    }
   ],
   "source": [
    "# Appending to a file\n",
    "with open('sample.txt', 'a') as file:\n",
    "    file.write(\"\\nThis line was appended.\")\n",
    "\n",
    "# Working with CSV files\n",
    "import csv\n",
    "\n",
    "# Writing CSV\n",
    "data = [\n",
    "    ['Name', 'Age', 'City'],\n",
    "    ['Alice', 30, 'New York'],\n",
    "    ['Bob', 25, 'Los Angeles'],\n",
    "    ['Charlie', 35, 'Chicago']\n",
    "]\n",
    "\n",
    "with open('people.csv', 'w', newline='') as file:\n",
    "    writer = csv.writer(file)\n",
    "    writer.writerows(data)\n",
    "\n",
    "# Reading CSV\n",
    "with open('people.csv', 'r') as file:\n",
    "    reader = csv.reader(file)\n",
    "    print(\"CSV content:\")\n",
    "    for row in reader:\n",
    "        print(row)"
   ]
  },
  {
   "cell_type": "code",
   "execution_count": null,
   "metadata": {},
   "outputs": [],
   "source": [
    "df.to_csv(\"filename.csv\")"
   ]
  },
  {
   "cell_type": "markdown",
   "metadata": {},
   "source": [
    "### Object-Oriented Programming (OOP)"
   ]
  },
  {
   "cell_type": "code",
   "execution_count": 7,
   "metadata": {},
   "outputs": [
    {
     "name": "stdout",
     "output_type": "stream",
     "text": [
      "Class_name\n",
      "Behave_1\n"
     ]
    }
   ],
   "source": [
    "class class_name:\n",
    "    def __init__(self):\n",
    "        print('Class_name')\n",
    "\n",
    "    def behave_1(self,a=0,b=1,c=2):\n",
    "        print(\"Behave_1\")\n",
    "        \n",
    "obj =  class_name()\n",
    "obj.behave_1()"
   ]
  },
  {
   "cell_type": "code",
   "execution_count": 31,
   "metadata": {},
   "outputs": [],
   "source": [
    "class names:\n",
    "    purpose = \"names_defination\" # class variable\n",
    "    \n",
    "    def __init__(self,first_name,middle_name,last_name):\n",
    "        self.first_name = first_name #public varible\n",
    "        self.__last_name = last_name  #private_varible self.__name\n",
    "        self._middle_name = middle_name # protecteed variable  self._name \n",
    "\n",
    "    def __doc__(self):\n",
    "        return \" IT is doc for names, which helps fo understand, public, private, protected instance or var \" \n",
    "\n",
    "\n",
    "    def get_first_name(self):\n",
    "        return \"First_name: \"+self.first_name\n",
    "\n",
    "    def get_last_name(self):\n",
    "        return \"Last_name: \"+self.__last_name\n",
    "\n",
    "name1 = names('dhanush','random','ok')\n",
    "name2 = names(\"ABC\",\"IJK\",\"XYZ\")\n",
    "name1.__doc__()\n",
    "\n",
    "name1.get_first_name()\n",
    "\n",
    "name2.get_first_name()\n",
    "name2.purpose = \" Overridden value\""
   ]
  },
  {
   "cell_type": "code",
   "execution_count": 39,
   "metadata": {},
   "outputs": [],
   "source": [
    "name2._middle_name = \"obj\""
   ]
  },
  {
   "cell_type": "code",
   "execution_count": 40,
   "metadata": {},
   "outputs": [
    {
     "data": {
      "text/plain": [
       "'obj'"
      ]
     },
     "execution_count": 40,
     "metadata": {},
     "output_type": "execute_result"
    }
   ],
   "source": [
    "name2._middle_name"
   ]
  },
  {
   "cell_type": "code",
   "execution_count": 41,
   "metadata": {},
   "outputs": [
    {
     "name": "stdout",
     "output_type": "stream",
     "text": [
      "Hi, I'm Alice and I'm 30 years old.\n",
      "Hi, I'm Bob and I'm 25 years old.\n",
      "Happy birthday! Alice is now 31.\n"
     ]
    }
   ],
   "source": [
    "# Basic class definition\n",
    "class Person:\n",
    "    # Class variable\n",
    "    species = \"Homo sapiens\"\n",
    "    \n",
    "    def __init__(self, name, age):\n",
    "        # Instance variables\n",
    "        self.name = name\n",
    "        self.age = age\n",
    "    \n",
    "    def introduce(self):\n",
    "        return f\"Hi, I'm {self.name} and I'm {self.age} years old.\"\n",
    "    \n",
    "    def have_birthday(self):\n",
    "        self.age += 1\n",
    "        return f\"Happy birthday! {self.name} is now {self.age}.\"\n",
    "\n",
    "# Creating objects\n",
    "person1 = Person(\"Alice\", 30)\n",
    "person2 = Person(\"Bob\", 25)\n",
    "\n",
    "print(person1.introduce())\n",
    "print(person2.introduce())\n",
    "print(person1.have_birthday())"
   ]
  },
  {
   "cell_type": "code",
   "execution_count": null,
   "metadata": {},
   "outputs": [],
   "source": [
    "class subclass_name(parent_class):\n",
    "    def __init__\n",
    "\n",
    "super().__init__()"
   ]
  },
  {
   "cell_type": "code",
   "execution_count": 45,
   "metadata": {},
   "outputs": [
    {
     "name": "stdout",
     "output_type": "stream",
     "text": [
      "Hi, I'm Charlie, a Computer Science student (ID: S12345).\n",
      "GPA: 85.00\n"
     ]
    }
   ],
   "source": [
    "# Inheritance\n",
    "class Student(Person):\n",
    "    def __init__(self, name, age, student_id, major):\n",
    "        super().__init__(name, age)  # Call parent constructor\n",
    "        self.student_id = student_id\n",
    "        self.major = major\n",
    "        self.grades = []\n",
    "    \n",
    "    def add_grade(self, grade):\n",
    "        self.grades.append(grade)\n",
    "    \n",
    "    def get_gpa(self):\n",
    "        if not self.grades:\n",
    "            return 0.0\n",
    "        return sum(self.grades) / len(self.grades)\n",
    "    \n",
    "    def introduce(self):  # Method overriding\n",
    "        return f\"Hi, I'm {self.name}, a {self.major} student (ID: {self.student_id}).\"\n",
    "\n",
    "# Using inheritance\n",
    "student = Student(\"Charlie\", 20, \"S12345\", \"Computer Science\")\n",
    "print(student.introduce())\n",
    "student.add_grade(85)\n",
    "student.add_grade(92)\n",
    "student.add_grade(78)\n",
    "print(f\"GPA: {student.get_gpa():.2f}\")"
   ]
  },
  {
   "cell_type": "code",
   "execution_count": 44,
   "metadata": {},
   "outputs": [
    {
     "data": {
      "text/plain": [
       "21"
      ]
     },
     "execution_count": 44,
     "metadata": {},
     "output_type": "execute_result"
    }
   ],
   "source": []
  },
  {
   "cell_type": "code",
   "execution_count": null,
   "metadata": {},
   "outputs": [],
   "source": [
    "# Encapsulation with private attributes\n",
    "class BankAccount:\n",
    "    def __init__(self, account_number, initial_balance=0):\n",
    "        self.account_number = account_number\n",
    "        self.__balance = initial_balance  # Private attribute\n",
    "    \n",
    "    def deposit(self, amount):\n",
    "        if amount > 0:\n",
    "            self.__balance += amount\n",
    "            return f\"Deposited ${amount}. New balance: ${self.__balance}\"\n",
    "        return \"Invalid deposit amount\"\n",
    "    \n",
    "    def withdraw(self, amount):\n",
    "        if 0 < amount <= self.__balance:\n",
    "            self.__balance -= amount\n",
    "            return f\"Withdrew ${amount}. New balance: ${self.__balance}\"\n",
    "        return \"Insufficient funds or invalid amount\"\n",
    "    \n",
    "    def get_balance(self):\n",
    "        return self.__balance\n",
    "    \n",
    "    def __str__(self):\n",
    "        return f\"Account {self.account_number}: ${self.__balance}\"\n",
    "\n",
    "# Using encapsulation\n",
    "account = BankAccount(\"12345\", 1000)\n",
    "print(account)\n",
    "print(account.deposit(500))\n",
    "print(account.withdraw(200))\n",
    "print(f\"Current balance: ${account.get_balance()}\")\n",
    "\n",
    "# This would cause an error (private attribute)\n",
    "# print(account.__balance)"
   ]
  },
  {
   "cell_type": "code",
   "execution_count": null,
   "metadata": {},
   "outputs": [],
   "source": [
    "# Polymorphism\n",
    "class Animal:\n",
    "    def make_sound(self):\n",
    "        pass\n",
    "\n",
    "class Dog(Animal):\n",
    "    def make_sound(self):\n",
    "        return \"Woof!\"\n",
    "\n",
    "class Cat(Animal):\n",
    "    def make_sound(self):\n",
    "        return \"Meow!\"\n",
    "\n",
    "class Cow(Animal):\n",
    "    def make_sound(self):\n",
    "        return \"Moo!\"\n",
    "\n",
    "# Polymorphism in action\n",
    "animals = [Dog(), Cat(), Cow()]\n",
    "\n",
    "for animal in animals:\n",
    "    print(f\"{animal.__class__.__name__} says: {animal.make_sound()}\")"
   ]
  },
  {
   "cell_type": "code",
   "execution_count": 106,
   "metadata": {},
   "outputs": [
    {
     "name": "stderr",
     "output_type": "stream",
     "text": [
      "'playwright' is not recognized as an internal or external command,\n",
      "operable program or batch file.\n"
     ]
    }
   ],
   "source": [
    "!playwright install chromium"
   ]
  },
  {
   "cell_type": "code",
   "execution_count": 46,
   "metadata": {},
   "outputs": [
    {
     "data": {
      "image/png": "[encoded data removed]",
      "text/plain": [
       "<IPython.core.display.Image object>"
      ]
     },
     "execution_count": 46,
     "metadata": {},
     "output_type": "execute_result"
    }
   ],
   "source": [
    "from IPython.display import Image\n",
    "Image(filename='Source/types-of-inheritance-in-python.png')"
   ]
  },
  {
   "cell_type": "code",
   "execution_count": 58,
   "metadata": {},
   "outputs": [
    {
     "name": "stdout",
     "output_type": "stream",
     "text": [
      "Init B\n",
      "Init A\n"
     ]
    },
    {
     "data": {
      "text/plain": [
       "'A'"
      ]
     },
     "execution_count": 58,
     "metadata": {},
     "output_type": "execute_result"
    }
   ],
   "source": [
    "# Single Inheritance\n",
    "class A:\n",
    "    def __init__(self):\n",
    "        print(\"Init A\")\n",
    "        self.a = \"A\"\n",
    "\n",
    "    def get_a(self):\n",
    "        return self.a\n",
    "\n",
    "\n",
    "class B(A):  # invoking class a \n",
    "    def __init__(self):\n",
    "        print(\"Init B\")\n",
    "        super().__init__()\n",
    "        self.b = \"B\" \n",
    "\n",
    "    def get_b(self):\n",
    "        return self.b\n",
    "\n",
    "\n",
    "obj_b = B()\n",
    "obj_b.get_a() ## calling method a from class a by b"
   ]
  },
  {
   "cell_type": "code",
   "execution_count": 59,
   "metadata": {},
   "outputs": [
    {
     "name": "stdout",
     "output_type": "stream",
     "text": [
      "Init A\n"
     ]
    },
    {
     "data": {
      "text/plain": [
       "'A'"
      ]
     },
     "execution_count": 59,
     "metadata": {},
     "output_type": "execute_result"
    }
   ],
   "source": [
    "obj_a = A()\n",
    "obj_a.get_a()"
   ]
  },
  {
   "cell_type": "code",
   "execution_count": null,
   "metadata": {},
   "outputs": [],
   "source": []
  },
  {
   "cell_type": "code",
   "execution_count": 68,
   "metadata": {},
   "outputs": [],
   "source": [
    "# multilevel inheritence\n",
    "class A:\n",
    "    def __init__(self):\n",
    "        print(\"Init A\")\n",
    "        self.a = \"A\"\n",
    "\n",
    "    def get_a(self):\n",
    "        return self.a\n",
    "\n",
    "\n",
    "class B(A):  # invoking class a \n",
    "    def __init__(self):\n",
    "        print(\"Init B\")\n",
    "        super().__init__()\n",
    "        self.b = \"B\" \n",
    "\n",
    "    def get_b(self):\n",
    "        return self.b\n",
    "\n",
    "class C(B): # invoking class B\n",
    "    def __init__(self):\n",
    "        print(\"Init C\")\n",
    "        super().__init__()\n",
    "        self.c = \"C\"\n",
    "\n",
    "    def get_c(self):\n",
    "        return self.c"
   ]
  },
  {
   "cell_type": "code",
   "execution_count": 67,
   "metadata": {},
   "outputs": [
    {
     "name": "stdout",
     "output_type": "stream",
     "text": [
      "Init C\n",
      "Init B\n",
      "Init A\n"
     ]
    },
    {
     "data": {
      "text/plain": [
       "'A'"
      ]
     },
     "execution_count": 67,
     "metadata": {},
     "output_type": "execute_result"
    }
   ],
   "source": [
    "obj_c = C()\n",
    "obj_c.get_a()\n"
   ]
  },
  {
   "cell_type": "code",
   "execution_count": null,
   "metadata": {},
   "outputs": [],
   "source": []
  },
  {
   "cell_type": "code",
   "execution_count": 88,
   "metadata": {},
   "outputs": [],
   "source": [
    "# multiple inheritence\n",
    "class A:\n",
    "    def __init__(self):\n",
    "        print(\"Init A\")\n",
    "        self.a = \"A\"\n",
    "\n",
    "    def get_a(self):\n",
    "        return self.a\n",
    "\n",
    "    def get_abc(self):\n",
    "        return \"AB\"\n",
    "\n",
    "\n",
    "class B:\n",
    "    def __init__(self):\n",
    "        print(\"Init B\")\n",
    "        self.b = \"B\" \n",
    "\n",
    "    def get_b(self):\n",
    "        return self.b\n",
    "\n",
    "    def get_abc(self):\n",
    "        return \"BA\"\n",
    "\n",
    "class C(B,A): # invoking class A, B\n",
    "    def __init__(self):\n",
    "        print(\"Init C\")\n",
    "        #super().__init__() # automated \n",
    "        A.__init__(self)\n",
    "        B.__init__(self) # manunal way\n",
    "        self.c = \"C\"\n",
    "\n",
    "    def get_c(self):\n",
    "        return self.c "
   ]
  },
  {
   "cell_type": "code",
   "execution_count": 89,
   "metadata": {},
   "outputs": [
    {
     "name": "stdout",
     "output_type": "stream",
     "text": [
      "Init C\n",
      "Init A\n",
      "Init B\n"
     ]
    }
   ],
   "source": [
    "obj_c = C()"
   ]
  },
  {
   "cell_type": "code",
   "execution_count": 90,
   "metadata": {},
   "outputs": [
    {
     "data": {
      "text/plain": [
       "'BA'"
      ]
     },
     "execution_count": 90,
     "metadata": {},
     "output_type": "execute_result"
    }
   ],
   "source": [
    "obj_c.get_abc()"
   ]
  },
  {
   "cell_type": "code",
   "execution_count": null,
   "metadata": {},
   "outputs": [],
   "source": []
  },
  {
   "cell_type": "code",
   "execution_count": 92,
   "metadata": {},
   "outputs": [],
   "source": [
    "# Hierarchical inheritence\n",
    "class A:\n",
    "    def __init__(self):\n",
    "        print(\"Init A\")\n",
    "        self.a = \"A\"\n",
    "\n",
    "    def get_a(self):\n",
    "        return self.a\n",
    "\n",
    "\n",
    "class B(A):  # invoking class a \n",
    "    def __init__(self):\n",
    "        print(\"Init B\")\n",
    "        super().__init__()\n",
    "        self.b = \"B\" \n",
    "\n",
    "    def get_b(self):\n",
    "        return self.b\n",
    "\n",
    "class C(A): # invoking class A\n",
    "    def __init__(self):\n",
    "        print(\"Init C\")\n",
    "        super().__init__()\n",
    "        self.c = \"C\"\n",
    "\n",
    "    def get_c(self):\n",
    "        return self.c"
   ]
  },
  {
   "cell_type": "code",
   "execution_count": 96,
   "metadata": {},
   "outputs": [
    {
     "name": "stdout",
     "output_type": "stream",
     "text": [
      "Init C\n",
      "Init A\n",
      "Init B\n",
      "Init A\n"
     ]
    }
   ],
   "source": [
    "obj_c =  C()\n",
    "\n",
    "obj_b = B()\n",
    "\n"
   ]
  },
  {
   "cell_type": "code",
   "execution_count": 98,
   "metadata": {},
   "outputs": [
    {
     "data": {
      "text/plain": [
       "'A'"
      ]
     },
     "execution_count": 98,
     "metadata": {},
     "output_type": "execute_result"
    }
   ],
   "source": [
    "obj_c.get_a()"
   ]
  },
  {
   "cell_type": "code",
   "execution_count": 97,
   "metadata": {},
   "outputs": [
    {
     "data": {
      "text/plain": [
       "'A'"
      ]
     },
     "execution_count": 97,
     "metadata": {},
     "output_type": "execute_result"
    }
   ],
   "source": [
    "obj_b.get_a()"
   ]
  },
  {
   "cell_type": "code",
   "execution_count": null,
   "metadata": {},
   "outputs": [],
   "source": []
  },
  {
   "cell_type": "code",
   "execution_count": 100,
   "metadata": {},
   "outputs": [],
   "source": [
    "# Hybrid  inheritence\n",
    "class A:\n",
    "    def __init__(self):\n",
    "        print(\"Init A\")\n",
    "        self.a = \"A\"\n",
    "\n",
    "    def get_a(self):\n",
    "        return self.a\n",
    "\n",
    "\n",
    "class B(A):  # invoking class A\n",
    "    def __init__(self):\n",
    "        print(\"Init B\")\n",
    "        super().__init__()\n",
    "        self.b = \"B\" \n",
    "\n",
    "    def get_b(self):\n",
    "        return self.b\n",
    "\n",
    "class C(A): # invoking class A\n",
    "    def __init__(self):\n",
    "        print(\"Init C\")\n",
    "        super().__init__()\n",
    "        self.c = \"C\"\n",
    "\n",
    "    def get_c(self):\n",
    "        return self.c\n",
    "\n",
    "\n",
    "class D(B,C):\n",
    "    def __init__(self):\n",
    "        print(\"Init D\")\n",
    "        B.__init__(self)\n",
    "        C.__init__(self)\n",
    "        self.d = \"D\"\n",
    "\n",
    "    def get_d(self):\n",
    "        return self.d"
   ]
  },
  {
   "cell_type": "code",
   "execution_count": 101,
   "metadata": {},
   "outputs": [
    {
     "name": "stdout",
     "output_type": "stream",
     "text": [
      "Init D\n",
      "Init B\n",
      "Init C\n",
      "Init A\n",
      "Init C\n",
      "Init A\n"
     ]
    }
   ],
   "source": [
    "obj_d = D()"
   ]
  },
  {
   "cell_type": "code",
   "execution_count": 103,
   "metadata": {},
   "outputs": [
    {
     "name": "stdout",
     "output_type": "stream",
     "text": [
      "Init C\n",
      "Init A\n"
     ]
    },
    {
     "data": {
      "text/plain": [
       "'A'"
      ]
     },
     "execution_count": 103,
     "metadata": {},
     "output_type": "execute_result"
    }
   ],
   "source": [
    "obj_c = C()\n",
    "obj_c.get_a()"
   ]
  },
  {
   "cell_type": "code",
   "execution_count": 104,
   "metadata": {},
   "outputs": [
    {
     "data": {
      "text/plain": [
       "'A'"
      ]
     },
     "execution_count": 104,
     "metadata": {},
     "output_type": "execute_result"
    }
   ],
   "source": [
    "obj_d.get_a()"
   ]
  }
 ],
 "metadata": {
  "kernelspec": {
   "display_name": "Python [conda env:base] *",
   "language": "python",
   "name": "conda-base-py"
  },
  "language_info": {
   "codemirror_mode": {
    "name": "ipython",
    "version": 3
   },
   "file_extension": ".py",
   "mimetype": "text/x-python",
   "name": "python",
   "nbconvert_exporter": "python",
   "pygments_lexer": "ipython3",
   "version": "3.12.7"
  }
 },
 "nbformat": 4,
 "nbformat_minor": 4
}
