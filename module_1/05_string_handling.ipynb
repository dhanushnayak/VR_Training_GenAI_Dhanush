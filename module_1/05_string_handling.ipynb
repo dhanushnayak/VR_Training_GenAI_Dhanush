{
 "cells": [
  {
   "cell_type": "markdown",
   "metadata": {},
   "source": [
    "# String Handling in Python"
   ]
  },
  {
   "cell_type": "markdown",
   "metadata": {},
   "source": [
    "### String Creation and Basic Operations"
   ]
  },
  {
   "cell_type": "code",
   "execution_count": 8,
   "metadata": {},
   "outputs": [
    {
     "data": {
      "text/plain": [
       "'a*b*c'"
      ]
     },
     "execution_count": 8,
     "metadata": {},
     "output_type": "execute_result"
    }
   ],
   "source": [
    "a = 'abc'\n",
    "'*'.join(list(a)) # list joining for char to string"
   ]
  },
  {
   "cell_type": "code",
   "execution_count": 16,
   "metadata": {},
   "outputs": [
    {
     "data": {
      "text/plain": [
       "'this is my notebook\\n    the code writen is in python'"
      ]
     },
     "execution_count": 16,
     "metadata": {},
     "output_type": "execute_result"
    }
   ],
   "source": [
    "'a' , \"abc\"\n",
    "\"\"\"this is my notebook\n",
    "    the code writen is in python\"\"\""
   ]
  },
  {
   "cell_type": "code",
   "execution_count": 24,
   "metadata": {},
   "outputs": [
    {
     "name": "stdout",
     "output_type": "stream",
     "text": [
      "Hello : ramesh\n",
      "Name: %s ramesh\n"
     ]
    }
   ],
   "source": [
    "name = 'ramesh'\n",
    "\n",
    "print(fr\"Hello : {name}\")\n",
    "print(\"Name: %s\",name) # c, c++"
   ]
  },
  {
   "cell_type": "code",
   "execution_count": 30,
   "metadata": {},
   "outputs": [
    {
     "name": "stdout",
     "output_type": "stream",
     "text": [
      "Dhanush       nayak\n"
     ]
    }
   ],
   "source": [
    "firstname = \"Dhanush\"\n",
    "lastname = \"nayak\"\n",
    "spacer = \"       \"\n",
    "print(firstname+spacer+lastname)"
   ]
  },
  {
   "cell_type": "code",
   "execution_count": 31,
   "metadata": {},
   "outputs": [
    {
     "name": "stdout",
     "output_type": "stream",
     "text": [
      "Single quote: Hello World-22\n",
      "Double quote: Hello World\n",
      "Triple quote:\n",
      "This is a\n",
      "multi-line string\n",
      "Full name: John Doe\n"
     ]
    }
   ],
   "source": [
    "# Different ways to create strings\n",
    "single_quote = 'Hello World-22'\n",
    "double_quote = \"Hello World\"\n",
    "triple_quote = \"\"\"This is a\n",
    "multi-line string\"\"\"\n",
    "\n",
    "print(f\"Single quote: {single_quote}\") ## imp - prompt \n",
    "print(f\"Double quote: {double_quote}\")\n",
    "print(f\"Triple quote:\\n{triple_quote}\")\n",
    "\n",
    "# String concatenation\n",
    "first_name = \"John\"\n",
    "last_name = \"Doe\"\n",
    "full_name = first_name + \" \" + last_name\n",
    "print(f\"Full name: {full_name}\")"
   ]
  },
  {
   "cell_type": "code",
   "execution_count": 34,
   "metadata": {},
   "outputs": [
    {
     "data": {
      "text/plain": [
       "'Your bot help to understand AMRZ stocks for today\\nobserve all the pattern and buy the stocks when it is low'"
      ]
     },
     "execution_count": 34,
     "metadata": {},
     "output_type": "execute_result"
    }
   ],
   "source": [
    "prompt_wrong=\"Your bot help me to under stock of this company\" # *\n",
    "\n",
    "company =  \"AMRZ\"\n",
    "prompt_correct = f\"\"\"Your bot help to understand {company} stocks for today\n",
    "observe all the pattern and buy the stocks when it is low\"\"\"\n",
    "prompt_correct\n",
    "\n"
   ]
  },
  {
   "cell_type": "code",
   "execution_count": 36,
   "metadata": {},
   "outputs": [
    {
     "name": "stdout",
     "output_type": "stream",
     "text": [
      " Joined list: apple.banana.cherry\n"
     ]
    }
   ],
   "source": [
    "a = \"Apple\"\n",
    "b = \"Banana\"\n",
    "a+\" \"+b\n",
    "\n",
    "l = ['apple','banana','cherry']\n",
    "k = '.'.join(l)   # way you need .join(list)\n",
    "\n",
    "print(f\" Joined list: {k}\")"
   ]
  },
  {
   "cell_type": "markdown",
   "metadata": {},
   "source": [
    "### String Indexing and Slicing"
   ]
  },
  {
   "cell_type": "code",
   "execution_count": 80,
   "metadata": {},
   "outputs": [
    {
     "data": {
      "text/plain": [
       "['P', 'y', 't', 'h', 'o', 'n']"
      ]
     },
     "execution_count": 80,
     "metadata": {},
     "output_type": "execute_result"
    }
   ],
   "source": [
    "text = \"Python\"\n",
    "list(text)"
   ]
  },
  {
   "cell_type": "code",
   "execution_count": 25,
   "metadata": {},
   "outputs": [
    {
     "name": "stdout",
     "output_type": "stream",
     "text": [
      "First character: P\n",
      "Last character: g\n",
      "Character at index 7: P\n",
      "First 6 characters: Python\n",
      "Last 11 characters: Programming\n",
      "Characters 2-5: thon\n",
      "Every 2nd character: Pto\n",
      "Reverse string: gnimmargorP nohtyP\n"
     ]
    }
   ],
   "source": [
    "text = \"Python Programming\"\n",
    "\n",
    "# Indexing\n",
    "print(f\"First character: {text[0]}\")\n",
    "print(f\"Last character: {text[-1]}\")\n",
    "print(f\"Character at index 7: {text[7]}\")\n",
    "\n",
    "# Slicing\n",
    "print(f\"First 6 characters: {text[:6]}\")\n",
    "print(f\"Last 11 characters: {text[7:]}\")  # [start:end:skip]\n",
    "print(f\"Characters 2-5: {text[2:6]}\")\n",
    "print(f\"Every 2nd character: {text[::2]}\")\n",
    "print(f\"Reverse string: {text[::-1]}\")"
   ]
  },
  {
   "cell_type": "markdown",
   "metadata": {},
   "source": [
    "### String Methods"
   ]
  },
  {
   "cell_type": "code",
   "execution_count": 30,
   "metadata": {},
   "outputs": [],
   "source": [
    "i=0\n",
    "if i == \" \": pass"
   ]
  },
  {
   "cell_type": "code",
   "execution_count": 49,
   "metadata": {},
   "outputs": [],
   "source": [
    "sample_text = \"     Hello World Python Programming    \""
   ]
  },
  {
   "cell_type": "code",
   "execution_count": null,
   "metadata": {},
   "outputs": [],
   "source": []
  },
  {
   "cell_type": "code",
   "execution_count": 58,
   "metadata": {},
   "outputs": [],
   "source": [
    "sample_text = sample_text.strip()"
   ]
  },
  {
   "cell_type": "code",
   "execution_count": 66,
   "metadata": {},
   "outputs": [],
   "source": [
    "sample_text = sample_text.upper()"
   ]
  },
  {
   "cell_type": "code",
   "execution_count": 74,
   "metadata": {},
   "outputs": [
    {
     "data": {
      "text/plain": [
       "'hello world python programming'"
      ]
     },
     "execution_count": 74,
     "metadata": {},
     "output_type": "execute_result"
    }
   ],
   "source": [
    "sample_text.swapcase()"
   ]
  },
  {
   "cell_type": "code",
   "execution_count": 67,
   "metadata": {},
   "outputs": [
    {
     "name": "stdout",
     "output_type": "stream",
     "text": [
      "Starting from h\n"
     ]
    }
   ],
   "source": [
    "if sample_text[0] in ['h','H']:\n",
    "    print('Starting from h')\n",
    "\n",
    "\n"
   ]
  },
  {
   "cell_type": "code",
   "execution_count": 75,
   "metadata": {},
   "outputs": [
    {
     "name": "stdout",
     "output_type": "stream",
     "text": [
      "Upper:  HELLO WORLD PYTHON PROGRAMMING  \n",
      "Lower:  hello world python programming  \n",
      "Title:  Hello World Python Programming  \n",
      "Capitalize:  hello world python programming  \n",
      "Swap case:  hELLO wORLD pYTHON pROGRAMMING  \n",
      "Strip: 'Hello World Python Programming'\n",
      "Left strip: 'Hello World Python Programming  '\n",
      "Right strip: ' Hello World Python Programming'\n"
     ]
    }
   ],
   "source": [
    "sample_text = \" Hello World Python Programming  \"\n",
    "\n",
    "# Case methods\n",
    "print(f\"Upper: {sample_text.upper()}\")\n",
    "print(f\"Lower: {sample_text.lower()}\")\n",
    "print(f\"Title: {sample_text.title()}\")\n",
    "print(f\"Capitalize: {sample_text.capitalize()}\")\n",
    "print(f\"Swap case: {sample_text.swapcase()}\")\n",
    "\n",
    "# Whitespace methods\n",
    "print(f\"Strip: '{sample_text.strip()}'\")\n",
    "print(f\"Left strip: '{sample_text.lstrip()}'\")\n",
    "print(f\"Right strip: '{sample_text.rstrip()}'\")"
   ]
  },
  {
   "cell_type": "code",
   "execution_count": 81,
   "metadata": {},
   "outputs": [
    {
     "data": {
      "text/plain": [
       "['Hello', 'World', 'Python', 'Programming']"
      ]
     },
     "execution_count": 81,
     "metadata": {},
     "output_type": "execute_result"
    }
   ],
   "source": [
    "sample_text.split()"
   ]
  },
  {
   "cell_type": "code",
   "execution_count": 57,
   "metadata": {},
   "outputs": [
    {
     "data": {
      "text/plain": [
       "'This is an example of text to create a word cloud. Word clouds are useful for visualizing word frequencies.'"
      ]
     },
     "execution_count": 57,
     "metadata": {},
     "output_type": "execute_result"
    }
   ],
   "source": [
    "text.strip()\n",
    "\n",
    "' '.join(text.split())"
   ]
  },
  {
   "cell_type": "code",
   "execution_count": 99,
   "metadata": {},
   "outputs": [
    {
     "data": {
      "text/plain": [
       "2"
      ]
     },
     "execution_count": 99,
     "metadata": {},
     "output_type": "execute_result"
    }
   ],
   "source": [
    "text = \"Python is great. Python is powerful?\"\n",
    "\n",
    "text.count('Python')"
   ]
  },
  {
   "cell_type": "code",
   "execution_count": 95,
   "metadata": {},
   "outputs": [
    {
     "data": {
      "text/plain": [
       "False"
      ]
     },
     "execution_count": 95,
     "metadata": {},
     "output_type": "execute_result"
    }
   ],
   "source": [
    "text.startswith('greet')"
   ]
  },
  {
   "cell_type": "code",
   "execution_count": 100,
   "metadata": {},
   "outputs": [
    {
     "data": {
      "text/plain": [
       "True"
      ]
     },
     "execution_count": 100,
     "metadata": {},
     "output_type": "execute_result"
    }
   ],
   "source": [
    "text.endswith(\"?\")"
   ]
  },
  {
   "cell_type": "code",
   "execution_count": 102,
   "metadata": {},
   "outputs": [
    {
     "name": "stdin",
     "output_type": "stream",
     "text": [
      "Enter the query:  ?\n"
     ]
    },
    {
     "data": {
      "text/plain": [
       "True"
      ]
     },
     "execution_count": 102,
     "metadata": {},
     "output_type": "execute_result"
    }
   ],
   "source": [
    "text = \"Python is great. Python is powerful?\"\n",
    "inp = input(\"Enter the query: \")\n",
    "\n",
    "text.endswith(inp)"
   ]
  },
  {
   "cell_type": "code",
   "execution_count": 49,
   "metadata": {},
   "outputs": [
    {
     "name": "stdout",
     "output_type": "stream",
     "text": [
      "Find 'Python': 0\n",
      "Count 'Python': 2\n",
      "Replace 'Python' with 'Java': Java is great. Java is powerful.\n",
      "Starts with 'Python1': False\n",
      "Ends with '?': False\n",
      "Split into words: ['Python', 'is', 'great.', 'Python', 'is', 'powerful.']\n",
      "Joined with '-': Python-is-great.-Python-is-powerful.\n"
     ]
    }
   ],
   "source": [
    "# Search and replace methods\n",
    "text = \"Python is great. Python is powerful.\"\n",
    "\n",
    "print(f\"Find 'Python': {text.find('Python')}\")\n",
    "print(f\"Count 'Python': {text.count('Python')}\")\n",
    "print(f\"Replace 'Python' with 'Java': {text.replace('Python', 'Java')}\")\n",
    "print(f\"Starts with 'Python1': {text.startswith('Python1')}\")\n",
    "print(f\"Ends with '?': {text.endswith('?')}\")\n",
    "\n",
    "# Split and join\n",
    "words = text.split()\n",
    "print(f\"Split into words: {words}\")\n",
    "joined = \"-\".join(words)\n",
    "print(f\"Joined with '-': {joined}\")"
   ]
  },
  {
   "cell_type": "code",
   "execution_count": null,
   "metadata": {},
   "outputs": [],
   "source": [
    "!pip install wordcloud"
   ]
  },
  {
   "cell_type": "code",
   "execution_count": 105,
   "metadata": {},
   "outputs": [
    {
     "data": {
      "image/png": "[encoded data removed]",
      "text/plain": [
       "<Figure size 1000x500 with 1 Axes>"
      ]
     },
     "metadata": {},
     "output_type": "display_data"
    }
   ],
   "source": [
    "from wordcloud import WordCloud\n",
    "import matplotlib.pyplot as plt\n",
    "\n",
    "text = \"This is an example of text to create a word cloud. Word clouds are useful for visualizing word frequencies. Python is great. Python is powerful?\"\n",
    "\n",
    "wordcloud = WordCloud(width=800, height=400, background_color=\"white\").generate(text)\n",
    "\n",
    "plt.figure(figsize=(10, 5))\n",
    "plt.imshow(wordcloud, interpolation=\"bilinear\")\n",
    "plt.axis(\"off\")\n",
    "plt.show()"
   ]
  },
  {
   "cell_type": "code",
   "execution_count": 43,
   "metadata": {},
   "outputs": [
    {
     "data": {
      "text/plain": [
       "'Python is great. Python is powerful.'"
      ]
     },
     "execution_count": 43,
     "metadata": {},
     "output_type": "execute_result"
    }
   ],
   "source": [
    "word = 'great1'\n",
    "\n",
    "if text.find(word) > 0:\n",
    "    text = text.replace(word,'good')\n",
    "text\n"
   ]
  },
  {
   "cell_type": "code",
   "execution_count": 44,
   "metadata": {},
   "outputs": [
    {
     "data": {
      "text/plain": [
       "'Python is great. Python is powerful.'"
      ]
     },
     "execution_count": 44,
     "metadata": {},
     "output_type": "execute_result"
    }
   ],
   "source": [
    "text.replace(word,'good')"
   ]
  },
  {
   "cell_type": "markdown",
   "metadata": {},
   "source": [
    "### String Formatting"
   ]
  },
  {
   "cell_type": "code",
   "execution_count": 106,
   "metadata": {},
   "outputs": [
    {
     "name": "stdout",
     "output_type": "stream",
     "text": [
      "Old style: Name: Alice, Age: 30, Salary: 50000.75\n",
      "Format method: Name: Alice, Age: 30, Salary: 50000.75\n",
      "F-string: Name: Alice, Age: 30, Salary: 50000.75\n",
      "Salary with commas: 50,000.75\n",
      "Age padded: 0000000000000000000000000000000000000000000000000000000000000000000000000000000000000000000000000030\n",
      "Name centered: '  Alice   '\n"
     ]
    }
   ],
   "source": [
    "name = \"Alice\"\n",
    "age = 30\n",
    "salary = 50000.75\n",
    "\n",
    "# Old style formatting\n",
    "old_style = \"Name: %s, Age: %d, Salary: %.2f\" % (name, age, salary)\n",
    "print(f\"Old style: {old_style}\")\n",
    "\n",
    "# .format() method\n",
    "format_method = \"Name: {}, Age: {}, Salary: {:.2f}\".format(name, age, salary)\n",
    "print(f\"Format method: {format_method}\")\n",
    "\n",
    "# f-strings (Python 3.6+)\n",
    "f_string = f\"Name: {name}, Age: {age}, Salary: {salary:.2f}\"\n",
    "print(f\"F-string: {f_string}\")\n",
    "\n",
    "# Advanced f-string formatting\n",
    "print(f\"Salary with commas: {salary:,.2f}\")\n",
    "print(f\"Age padded: {age:0100d}\")\n",
    "print(f\"Name centered: '{name:^10}'\")"
   ]
  },
  {
   "cell_type": "markdown",
   "metadata": {},
   "source": [
    "### String Validation Methods"
   ]
  },
  {
   "cell_type": "code",
   "execution_count": 107,
   "metadata": {},
   "outputs": [
    {
     "name": "stdout",
     "output_type": "stream",
     "text": [
      "String: '123'\n",
      "  isdigit(): True\n",
      "  isalpha(): False\n",
      "  isalnum(): True\n",
      "  islower(): False\n",
      "  isupper(): False\n",
      "  isspace(): False\n",
      "\n",
      "String: 'abc'\n",
      "  isdigit(): False\n",
      "  isalpha(): True\n",
      "  isalnum(): True\n",
      "  islower(): True\n",
      "  isupper(): False\n",
      "  isspace(): False\n",
      "\n",
      "String: 'ABC'\n",
      "  isdigit(): False\n",
      "  isalpha(): True\n",
      "  isalnum(): True\n",
      "  islower(): False\n",
      "  isupper(): True\n",
      "  isspace(): False\n",
      "\n",
      "String: 'Hello123'\n",
      "  isdigit(): False\n",
      "  isalpha(): False\n",
      "  isalnum(): True\n",
      "  islower(): False\n",
      "  isupper(): False\n",
      "  isspace(): False\n",
      "\n",
      "String: ' '\n",
      "  isdigit(): False\n",
      "  isalpha(): False\n",
      "  isalnum(): False\n",
      "  islower(): False\n",
      "  isupper(): False\n",
      "  isspace(): True\n",
      "\n",
      "String: ''\n",
      "  isdigit(): False\n",
      "  isalpha(): False\n",
      "  isalnum(): False\n",
      "  islower(): False\n",
      "  isupper(): False\n",
      "  isspace(): False\n",
      "\n"
     ]
    }
   ],
   "source": [
    "# Testing different string types\n",
    "test_strings = [\"123\", \"abc\", \"ABC\", \"Hello123\", \" \", \"\"]\n",
    "\n",
    "for s in test_strings:\n",
    "    print(f\"String: '{s}'\")\n",
    "    print(f\"  isdigit(): {s.isdigit()}\")\n",
    "    print(f\"  isalpha(): {s.isalpha()}\")\n",
    "    print(f\"  isalnum(): {s.isalnum()}\")\n",
    "    print(f\"  islower(): {s.islower()}\")\n",
    "    print(f\"  isupper(): {s.isupper()}\")\n",
    "    print(f\"  isspace(): {s.isspace()}\")\n",
    "    print()"
   ]
  },
  {
   "cell_type": "code",
   "execution_count": 1,
   "metadata": {},
   "outputs": [
    {
     "ename": "NameError",
     "evalue": "name 'textblob' is not defined",
     "output_type": "error",
     "traceback": [
      "\u001b[1;31m---------------------------------------------------------------------------\u001b[0m",
      "\u001b[1;31mNameError\u001b[0m                                 Traceback (most recent call last)",
      "Cell \u001b[1;32mIn[1], line 1\u001b[0m\n\u001b[1;32m----> 1\u001b[0m textblob, neattext\n",
      "\u001b[1;31mNameError\u001b[0m: name 'textblob' is not defined"
     ]
    }
   ],
   "source": [
    "textblob, neattext"
   ]
  }
 ],
 "metadata": {
  "kernelspec": {
   "display_name": "Python [conda env:base] *",
   "language": "python",
   "name": "conda-base-py"
  },
  "language_info": {
   "codemirror_mode": {
    "name": "ipython",
    "version": 3
   },
   "file_extension": ".py",
   "mimetype": "text/x-python",
   "name": "python",
   "nbconvert_exporter": "python",
   "pygments_lexer": "ipython3",
   "version": "3.12.7"
  }
 },
 "nbformat": 4,
 "nbformat_minor": 4
}
