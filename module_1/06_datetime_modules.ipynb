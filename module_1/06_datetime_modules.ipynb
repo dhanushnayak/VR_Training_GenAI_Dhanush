{
 "cells": [
  {
   "cell_type": "markdown",
   "metadata": {},
   "source": [
    "# Date & Time, Modules, and Packages"
   ]
  },
  {
   "cell_type": "markdown",
   "metadata": {},
   "source": [
    "### Date and Time Handling"
   ]
  },
  {
   "cell_type": "code",
   "execution_count": 1,
   "metadata": {},
   "outputs": [],
   "source": [
    "from datetime import *"
   ]
  },
  {
   "cell_type": "code",
   "execution_count": 3,
   "metadata": {},
   "outputs": [
    {
     "name": "stdout",
     "output_type": "stream",
     "text": [
      "Help on class datetime in module datetime:\n",
      "\n",
      "class datetime(date)\n",
      " |  datetime(year, month, day[, hour[, minute[, second[, microsecond[,tzinfo]]]]])\n",
      " |\n",
      " |  The year, month and day arguments are required. tzinfo may be None, or an\n",
      " |  instance of a tzinfo subclass. The remaining arguments may be ints.\n",
      " |\n",
      " |  Method resolution order:\n",
      " |      datetime\n",
      " |      date\n",
      " |      builtins.object\n",
      " |\n",
      " |  Methods defined here:\n",
      " |\n",
      " |  __add__(self, value, /)\n",
      " |      Return self+value.\n",
      " |\n",
      " |  __eq__(self, value, /)\n",
      " |      Return self==value.\n",
      " |\n",
      " |  __ge__(self, value, /)\n",
      " |      Return self>=value.\n",
      " |\n",
      " |  __getattribute__(self, name, /)\n",
      " |      Return getattr(self, name).\n",
      " |\n",
      " |  __gt__(self, value, /)\n",
      " |      Return self>value.\n",
      " |\n",
      " |  __hash__(self, /)\n",
      " |      Return hash(self).\n",
      " |\n",
      " |  __le__(self, value, /)\n",
      " |      Return self<=value.\n",
      " |\n",
      " |  __lt__(self, value, /)\n",
      " |      Return self<value.\n",
      " |\n",
      " |  __ne__(self, value, /)\n",
      " |      Return self!=value.\n",
      " |\n",
      " |  __radd__(self, value, /)\n",
      " |      Return value+self.\n",
      " |\n",
      " |  __reduce__(...)\n",
      " |      __reduce__() -> (cls, state)\n",
      " |\n",
      " |  __reduce_ex__(...)\n",
      " |      __reduce_ex__(proto) -> (cls, state)\n",
      " |\n",
      " |  __repr__(self, /)\n",
      " |      Return repr(self).\n",
      " |\n",
      " |  __rsub__(self, value, /)\n",
      " |      Return value-self.\n",
      " |\n",
      " |  __str__(self, /)\n",
      " |      Return str(self).\n",
      " |\n",
      " |  __sub__(self, value, /)\n",
      " |      Return self-value.\n",
      " |\n",
      " |  astimezone(...)\n",
      " |      tz -> convert to local time in new timezone tz\n",
      " |\n",
      " |  ctime(...)\n",
      " |      Return ctime() style string.\n",
      " |\n",
      " |  date(...)\n",
      " |      Return date object with same year, month and day.\n",
      " |\n",
      " |  dst(...)\n",
      " |      Return self.tzinfo.dst(self).\n",
      " |\n",
      " |  isoformat(...)\n",
      " |      [sep] -> string in ISO 8601 format, YYYY-MM-DDT[HH[:MM[:SS[.mmm[uuu]]]]][+HH:MM].\n",
      " |      sep is used to separate the year from the time, and defaults to 'T'.\n",
      " |      The optional argument timespec specifies the number of additional terms\n",
      " |      of the time to include. Valid options are 'auto', 'hours', 'minutes',\n",
      " |      'seconds', 'milliseconds' and 'microseconds'.\n",
      " |\n",
      " |  replace(...)\n",
      " |      Return datetime with new specified fields.\n",
      " |\n",
      " |  time(...)\n",
      " |      Return time object with same time but with tzinfo=None.\n",
      " |\n",
      " |  timestamp(...)\n",
      " |      Return POSIX timestamp as float.\n",
      " |\n",
      " |  timetuple(...)\n",
      " |      Return time tuple, compatible with time.localtime().\n",
      " |\n",
      " |  timetz(...)\n",
      " |      Return time object with same time and tzinfo.\n",
      " |\n",
      " |  tzname(...)\n",
      " |      Return self.tzinfo.tzname(self).\n",
      " |\n",
      " |  utcoffset(...)\n",
      " |      Return self.tzinfo.utcoffset(self).\n",
      " |\n",
      " |  utctimetuple(...)\n",
      " |      Return UTC time tuple, compatible with time.localtime().\n",
      " |\n",
      " |  ----------------------------------------------------------------------\n",
      " |  Class methods defined here:\n",
      " |\n",
      " |  combine(...)\n",
      " |      date, time -> datetime with same date and time fields\n",
      " |\n",
      " |  fromisoformat(...)\n",
      " |      string -> datetime from a string in most ISO 8601 formats\n",
      " |\n",
      " |  fromtimestamp(...)\n",
      " |      timestamp[, tz] -> tz's local time from POSIX timestamp.\n",
      " |\n",
      " |  now(tz=None)\n",
      " |      Returns new datetime object representing current time local to tz.\n",
      " |\n",
      " |        tz\n",
      " |          Timezone object.\n",
      " |\n",
      " |      If no tz is specified, uses local timezone.\n",
      " |\n",
      " |  strptime(...)\n",
      " |      string, format -> new datetime parsed from a string (like time.strptime()).\n",
      " |\n",
      " |  utcfromtimestamp(...)\n",
      " |      Construct a naive UTC datetime from a POSIX timestamp.\n",
      " |\n",
      " |  utcnow(...)\n",
      " |      Return a new datetime representing UTC day and time.\n",
      " |\n",
      " |  ----------------------------------------------------------------------\n",
      " |  Static methods defined here:\n",
      " |\n",
      " |  __new__(*args, **kwargs)\n",
      " |      Create and return a new object.  See help(type) for accurate signature.\n",
      " |\n",
      " |  ----------------------------------------------------------------------\n",
      " |  Data descriptors defined here:\n",
      " |\n",
      " |  fold\n",
      " |\n",
      " |  hour\n",
      " |\n",
      " |  microsecond\n",
      " |\n",
      " |  minute\n",
      " |\n",
      " |  second\n",
      " |\n",
      " |  tzinfo\n",
      " |\n",
      " |  ----------------------------------------------------------------------\n",
      " |  Data and other attributes defined here:\n",
      " |\n",
      " |  max = datetime.datetime(9999, 12, 31, 23, 59, 59, 999999)\n",
      " |\n",
      " |  min = datetime.datetime(1, 1, 1, 0, 0)\n",
      " |\n",
      " |  resolution = datetime.timedelta(microseconds=1)\n",
      " |\n",
      " |  ----------------------------------------------------------------------\n",
      " |  Methods inherited from date:\n",
      " |\n",
      " |  __format__(...)\n",
      " |      Formats self with strftime.\n",
      " |\n",
      " |  isocalendar(...)\n",
      " |      Return a named tuple containing ISO year, week number, and weekday.\n",
      " |\n",
      " |  isoweekday(...)\n",
      " |      Return the day of the week represented by the date.\n",
      " |      Monday == 1 ... Sunday == 7\n",
      " |\n",
      " |  strftime(...)\n",
      " |      format -> strftime() style string.\n",
      " |\n",
      " |  toordinal(...)\n",
      " |      Return proleptic Gregorian ordinal.  January 1 of year 1 is day 1.\n",
      " |\n",
      " |  weekday(...)\n",
      " |      Return the day of the week represented by the date.\n",
      " |      Monday == 0 ... Sunday == 6\n",
      " |\n",
      " |  ----------------------------------------------------------------------\n",
      " |  Class methods inherited from date:\n",
      " |\n",
      " |  fromisocalendar(...)\n",
      " |      int, int, int -> Construct a date from the ISO year, week number and weekday.\n",
      " |\n",
      " |      This is the inverse of the date.isocalendar() function\n",
      " |\n",
      " |  fromordinal(...)\n",
      " |      int -> date corresponding to a proleptic Gregorian ordinal.\n",
      " |\n",
      " |  today(...)\n",
      " |      Current date or datetime:  same as self.__class__.fromtimestamp(time.time()).\n",
      " |\n",
      " |  ----------------------------------------------------------------------\n",
      " |  Data descriptors inherited from date:\n",
      " |\n",
      " |  day\n",
      " |\n",
      " |  month\n",
      " |\n",
      " |  year\n",
      "\n"
     ]
    }
   ],
   "source": [
    "help(datetime)"
   ]
  },
  {
   "cell_type": "code",
   "execution_count": 9,
   "metadata": {},
   "outputs": [
    {
     "data": {
      "text/plain": [
       "datetime.date(1947, 8, 15)"
      ]
     },
     "execution_count": 9,
     "metadata": {},
     "output_type": "execute_result"
    }
   ],
   "source": [
    "time("
   ]
  },
  {
   "cell_type": "code",
   "execution_count": 10,
   "metadata": {
    "scrolled": true
   },
   "outputs": [
    {
     "name": "stdout",
     "output_type": "stream",
     "text": [
      "Current datetime: 2025-08-25 08:16:27.980230\n",
      "Today's date: 2025-08-25\n",
      "Current time: 08:16:27.980230\n",
      "Birthday: 1990-05-15\n",
      "Meeting time: 14:30:00\n",
      "Appointment: 2024-12-25 10:30:00\n"
     ]
    }
   ],
   "source": [
    "import datetime\n",
    "from datetime import date, time, datetime, timedelta # submodules\n",
    "\n",
    "# from mainmodule import submodule ### \n",
    "\n",
    "# Current date and time\n",
    "now = datetime.now() # function\n",
    "today = date.today()\n",
    "current_time = datetime.now().time()\n",
    "\n",
    "print(f\"Current datetime: {now}\")\n",
    "print(f\"Today's date: {today}\")\n",
    "print(f\"Current time: {current_time}\")\n",
    "\n",
    "# Creating specific dates\n",
    "birthday = date(1990, 5, 15)\n",
    "meeting_time = time(14, 30, 0)\n",
    "appointment = datetime(2024, 12, 25, 10, 30, 0)\n",
    "\n",
    "print(f\"Birthday: {birthday}\")\n",
    "print(f\"Meeting time: {meeting_time}\")\n",
    "print(f\"Appointment: {appointment}\")\n",
    "\n"
   ]
  },
  {
   "cell_type": "code",
   "execution_count": 13,
   "metadata": {},
   "outputs": [
    {
     "data": {
      "text/plain": [
       "'1990-05-15'"
      ]
     },
     "execution_count": 13,
     "metadata": {},
     "output_type": "execute_result"
    }
   ],
   "source": [
    "str(birthday)"
   ]
  },
  {
   "cell_type": "code",
   "execution_count": 17,
   "metadata": {},
   "outputs": [
    {
     "data": {
      "text/plain": [
       "'00:26:32'"
      ]
     },
     "execution_count": 17,
     "metadata": {},
     "output_type": "execute_result"
    }
   ],
   "source": [
    "str(time(0,26,32))"
   ]
  },
  {
   "cell_type": "code",
   "execution_count": 25,
   "metadata": {},
   "outputs": [
    {
     "name": "stdout",
     "output_type": "stream",
     "text": [
      "0 0 0\n"
     ]
    }
   ],
   "source": [
    "a = 0 \n",
    "def func(a=0,b=0,c=0):\n",
    "    print(a,b,c)\n",
    "\n",
    "#func(b=1,a=2,c=1)\n",
    "func()  ## Define a function that helps to calculate speed based on distance and time "
   ]
  },
  {
   "cell_type": "code",
   "execution_count": 10,
   "metadata": {},
   "outputs": [
    {
     "data": {
      "text/plain": [
       "'2025-07-29'"
      ]
     },
     "execution_count": 10,
     "metadata": {},
     "output_type": "execute_result"
    }
   ],
   "source": [
    "str(date(2025,7,29))"
   ]
  },
  {
   "cell_type": "code",
   "execution_count": 5,
   "metadata": {},
   "outputs": [
    {
     "data": {
      "text/plain": [
       "datetime.datetime(2025, 7, 29, 8, 11, 9, 732170)"
      ]
     },
     "execution_count": 5,
     "metadata": {},
     "output_type": "execute_result"
    }
   ],
   "source": [
    "datetime.today()"
   ]
  },
  {
   "cell_type": "code",
   "execution_count": 27,
   "metadata": {},
   "outputs": [
    {
     "name": "stdout",
     "output_type": "stream",
     "text": [
      "Difference between two datetime values.\n",
      "\n",
      "timedelta(days=0, seconds=0, microseconds=0, milliseconds=0, minutes=0, hours=0, weeks=0)\n",
      "\n",
      "All arguments are optional and default to 0.\n",
      "Arguments may be integers or floats, and may be positive or negative.\n"
     ]
    }
   ],
   "source": [
    "print(timedelta.__doc__)"
   ]
  },
  {
   "cell_type": "code",
   "execution_count": 17,
   "metadata": {},
   "outputs": [
    {
     "name": "stdout",
     "output_type": "stream",
     "text": [
      "2025-08-24\n",
      "2025-08-26\n"
     ]
    }
   ],
   "source": [
    "today = date.today()\n",
    "time_delta = timedelta(days=1)\n",
    "yest = today - time_delta\n",
    "next_day = today + time_delta\n",
    "print(yest)\n",
    "print(next_day)"
   ]
  },
  {
   "cell_type": "code",
   "execution_count": 41,
   "metadata": {},
   "outputs": [
    {
     "data": {
      "text/plain": [
       "('2025-07-14', '2025-07-29', '2025-08-13')"
      ]
     },
     "execution_count": 41,
     "metadata": {},
     "output_type": "execute_result"
    }
   ],
   "source": [
    "today = date.today()\n",
    "one_week = timedelta(days=15)\n",
    "next_week = today + one_week\n",
    "last_week  = today  - one_week\n",
    "\n",
    "str(last_week),str(today), str(next_week)"
   ]
  },
  {
   "cell_type": "code",
   "execution_count": 33,
   "metadata": {},
   "outputs": [
    {
     "data": {
      "text/plain": [
       "5"
      ]
     },
     "execution_count": 33,
     "metadata": {},
     "output_type": "execute_result"
    }
   ],
   "source": [
    "today = datetime.now()\n",
    "time_delta = timedelta(days=365*2)\n",
    "last_year = today-time_delta\n",
    "last_year.weekday()"
   ]
  },
  {
   "cell_type": "code",
   "execution_count": 52,
   "metadata": {},
   "outputs": [
    {
     "name": "stdout",
     "output_type": "stream",
     "text": [
      "                                  2025\n",
      "\n",
      "      January                   February                   March\n",
      "Mo Tu We Th Fr Sa Su      Mo Tu We Th Fr Sa Su      Mo Tu We Th Fr Sa Su\n",
      "       1  2  3  4  5                      1  2                      1  2\n",
      " 6  7  8  9 10 11 12       3  4  5  6  7  8  9       3  4  5  6  7  8  9\n",
      "13 14 15 16 17 18 19      10 11 12 13 14 15 16      10 11 12 13 14 15 16\n",
      "20 21 22 23 24 25 26      17 18 19 20 21 22 23      17 18 19 20 21 22 23\n",
      "27 28 29 30 31            24 25 26 27 28            24 25 26 27 28 29 30\n",
      "                                                    31\n",
      "\n",
      "       April                      May                       June\n",
      "Mo Tu We Th Fr Sa Su      Mo Tu We Th Fr Sa Su      Mo Tu We Th Fr Sa Su\n",
      "    1  2  3  4  5  6                1  2  3  4                         1\n",
      " 7  8  9 10 11 12 13       5  6  7  8  9 10 11       2  3  4  5  6  7  8\n",
      "14 15 16 17 18 19 20      12 13 14 15 16 17 18       9 10 11 12 13 14 15\n",
      "21 22 23 24 25 26 27      19 20 21 22 23 24 25      16 17 18 19 20 21 22\n",
      "28 29 30                  26 27 28 29 30 31         23 24 25 26 27 28 29\n",
      "                                                    30\n",
      "\n",
      "        July                     August                  September\n",
      "Mo Tu We Th Fr Sa Su      Mo Tu We Th Fr Sa Su      Mo Tu We Th Fr Sa Su\n",
      "    1  2  3  4  5  6                   1  2  3       1  2  3  4  5  6  7\n",
      " 7  8  9 10 11 12 13       4  5  6  7  8  9 10       8  9 10 11 12 13 14\n",
      "14 15 16 17 18 19 20      11 12 13 14 15 16 17      15 16 17 18 19 20 21\n",
      "21 22 23 24 25 26 27      18 19 20 21 22 23 24      22 23 24 25 26 27 28\n",
      "28 29 30 31               25 26 27 28 29 30 31      29 30\n",
      "\n",
      "      October                   November                  December\n",
      "Mo Tu We Th Fr Sa Su      Mo Tu We Th Fr Sa Su      Mo Tu We Th Fr Sa Su\n",
      "       1  2  3  4  5                      1  2       1  2  3  4  5  6  7\n",
      " 6  7  8  9 10 11 12       3  4  5  6  7  8  9       8  9 10 11 12 13 14\n",
      "13 14 15 16 17 18 19      10 11 12 13 14 15 16      15 16 17 18 19 20 21\n",
      "20 21 22 23 24 25 26      17 18 19 20 21 22 23      22 23 24 25 26 27 28\n",
      "27 28 29 30 31            24 25 26 27 28 29 30      29 30 31\n"
     ]
    }
   ],
   "source": [
    "calendar.TextCalendar().pryear(2025)"
   ]
  },
  {
   "cell_type": "code",
   "execution_count": 56,
   "metadata": {},
   "outputs": [
    {
     "data": {
      "text/plain": [
       "False"
      ]
     },
     "execution_count": 56,
     "metadata": {},
     "output_type": "execute_result"
    }
   ],
   "source": [
    "calendar.isleap(2027)"
   ]
  },
  {
   "cell_type": "code",
   "execution_count": 32,
   "metadata": {},
   "outputs": [
    {
     "data": {
      "text/plain": [
       "'Sunday'"
      ]
     },
     "execution_count": 32,
     "metadata": {},
     "output_type": "execute_result"
    }
   ],
   "source": [
    "import calendar\n",
    "calendar.day_name[last_year.weekday()]"
   ]
  },
  {
   "cell_type": "code",
   "execution_count": 65,
   "metadata": {},
   "outputs": [
    {
     "data": {
      "text/plain": [
       "'25/08/2025 08:34:44 AM August'"
      ]
     },
     "execution_count": 65,
     "metadata": {},
     "output_type": "execute_result"
    }
   ],
   "source": [
    "now.strftime(\"%d/%m/%Y %H:%M:%S %p %B\")"
   ]
  },
  {
   "cell_type": "code",
   "execution_count": 66,
   "metadata": {},
   "outputs": [
    {
     "name": "stdout",
     "output_type": "stream",
     "text": [
      "Formatted date: 2025-08-25 08:38:12\n",
      "Readable format: August 25, 2025 at 08:38 AM\n"
     ]
    }
   ],
   "source": [
    "now = datetime.now()\n",
    "\n",
    "print(f\"Formatted date: {now.strftime('%Y-%m-%d %H:%M:%S')}\")\n",
    "print(f\"Readable format: {now.strftime('%B %d, %Y at %I:%M %p')}\")"
   ]
  },
  {
   "cell_type": "code",
   "execution_count": 70,
   "metadata": {},
   "outputs": [
    {
     "data": {
      "text/plain": [
       "datetime.datetime(2024, 12, 25, 0, 0)"
      ]
     },
     "execution_count": 70,
     "metadata": {},
     "output_type": "execute_result"
    }
   ],
   "source": [
    "date_string = \"2024/12/25\"\n",
    "datetime.strptime(date_string,\"%Y/%m/%d\")"
   ]
  },
  {
   "cell_type": "code",
   "execution_count": 59,
   "metadata": {},
   "outputs": [
    {
     "name": "stdout",
     "output_type": "stream",
     "text": [
      "Today: 2025-07-29\n",
      "Next week: 2025-08-05\n",
      "Last month: 2025-06-29\n",
      "Formatted date: 2025-07-29 08:45:53\n",
      "Readable format: July 29, 2025 at 08:45 AM\n",
      "Parsed date: 2024-12-25 00:00:00\n"
     ]
    }
   ],
   "source": [
    "# Date arithmetic\n",
    "today = date.today()\n",
    "one_week = timedelta(weeks=1)\n",
    "one_month = timedelta(days=30)\n",
    "\n",
    "next_week = today + one_week\n",
    "last_month = today - one_month\n",
    "\n",
    "print(f\"Today: {today}\")\n",
    "print(f\"Next week: {next_week}\")\n",
    "print(f\"Last month: {last_month}\")\n",
    "\n",
    "# Date formatting\n",
    "now = datetime.now()\n",
    "print(f\"Formatted date: {now.strftime('%Y-%m-%d %H:%M:%S')}\")\n",
    "print(f\"Readable format: {now.strftime('%B %d, %Y at %I:%M %p')}\")\n",
    "\n",
    "# Parsing strings to dates\n",
    "date_string = \"2024-12-25\"\n",
    "parsed_date = datetime.strptime(date_string, '%Y-%m-%d')\n",
    "print(f\"Parsed date: {parsed_date}\")"
   ]
  },
  {
   "cell_type": "code",
   "execution_count": 61,
   "metadata": {},
   "outputs": [],
   "source": [
    "now = datetime.now()\n",
    "\n",
    "#%dd-%m-%y  29/07/2025 \n",
    "\n",
    "now.strftime(\"%d/%m/%Y -- %H:%M -- %B\")\n",
    "\n",
    "db = \"29-07-2025\"  # July 29, 2025"
   ]
  },
  {
   "cell_type": "code",
   "execution_count": 66,
   "metadata": {},
   "outputs": [
    {
     "data": {
      "text/plain": [
       "'July 29, 2025'"
      ]
     },
     "execution_count": 66,
     "metadata": {},
     "output_type": "execute_result"
    }
   ],
   "source": [
    "datetime.strptime(db, \"%d-%m-%Y\").strftime(\"%B %d, %Y\")"
   ]
  },
  {
   "cell_type": "code",
   "execution_count": null,
   "metadata": {},
   "outputs": [],
   "source": []
  },
  {
   "cell_type": "markdown",
   "metadata": {},
   "source": [
    "### Modules and Packages"
   ]
  },
  {
   "cell_type": "code",
   "execution_count": 71,
   "metadata": {},
   "outputs": [
    {
     "name": "stdout",
     "output_type": "stream",
     "text": [
      "Pi from math: 3.141592653589793\n",
      "Pi directly imported: 3.141592653589793\n",
      "Square root of 16: 4.0\n",
      "Random number: 7\n"
     ]
    }
   ],
   "source": [
    "# Different ways to import modules\n",
    "import math\n",
    "import random as rnd\n",
    "from datetime import datetime, timedelta\n",
    "from math import pi, sqrt\n",
    "\n",
    "# Using imported modules\n",
    "print(f\"Pi from math: {math.pi}\")\n",
    "print(f\"Pi directly imported: {pi}\")\n",
    "print(f\"Square root of 16: {sqrt(16)}\")\n",
    "print(f\"Random number: {rnd.randint(1, 10)}\")\n",
    "\n"
   ]
  },
  {
   "cell_type": "markdown",
   "metadata": {},
   "source": [
    "### Creating Custom Modules"
   ]
  },
  {
   "cell_type": "code",
   "execution_count": null,
   "metadata": {},
   "outputs": [],
   "source": []
  },
  {
   "cell_type": "raw",
   "metadata": {},
   "source": [
    "def name(du):\n",
    "    a = logic\n",
    "    return a\n",
    "\n",
    "(a+b)^2 = a^2 + 2ab + b^2\n"
   ]
  },
  {
   "cell_type": "code",
   "execution_count": 87,
   "metadata": {},
   "outputs": [
    {
     "name": "stdout",
     "output_type": "stream",
     "text": [
      "A =  4, B = 5\n"
     ]
    },
    {
     "data": {
      "text/plain": [
       "\"int([x]) -> integer\\nint(x, base=10) -> integer\\n\\nConvert a number or string to an integer, or return 0 if no arguments\\nare given.  If x is a number, return x.__int__().  For floating-point\\nnumbers, this truncates towards zero.\\n\\nIf x is not a number or if base is given, then x must be a string,\\nbytes, or bytearray instance representing an integer literal in the\\ngiven base.  The literal can be preceded by '+' or '-' and be surrounded\\nby whitespace.  The base defaults to 10.  Valid bases are 0 and 2-36.\\nBase 0 means to interpret the base from the string as an integer literal.\\n>>> int('0b100', base=0)\\n4\""
      ]
     },
     "execution_count": 87,
     "metadata": {},
     "output_type": "execute_result"
    }
   ],
   "source": [
    "def func_name(a,b=1):\n",
    "    pass\n",
    "\n",
    "def abpluswholesquare(a: int = 1,b: int =1 ) -> float:\n",
    "    \"\"\"\n",
    "        The function that helps to find (a+b)2 \n",
    "    \"\"\"\n",
    "    print(f\"A =  {a}, B = {b}\")\n",
    "    res = (a**2) + (2*a*b)  + (b**2)\n",
    "    return res\n",
    "\n",
    "abpluswholesquare(4,5)"
   ]
  },
  {
   "cell_type": "code",
   "execution_count": null,
   "metadata": {},
   "outputs": [],
   "source": [
    "OOPS:\n",
    "    Private:  __a \n",
    "    protected: _a\n",
    "    public: a"
   ]
  },
  {
   "cell_type": "code",
   "execution_count": 87,
   "metadata": {},
   "outputs": [
    {
     "data": {
      "text/plain": [
       "_frozen_importlib.BuiltinImporter"
      ]
     },
     "execution_count": 87,
     "metadata": {},
     "output_type": "execute_result"
    }
   ],
   "source": [
    "def __name__():\n",
    "    return \"name\"\n",
    "\n",
    "import math\n",
    "dir(math)\n",
    "math.__loader__"
   ]
  },
  {
   "cell_type": "code",
   "execution_count": 92,
   "metadata": {},
   "outputs": [
    {
     "data": {
      "text/plain": [
       "8"
      ]
     },
     "execution_count": 92,
     "metadata": {},
     "output_type": "execute_result"
    }
   ],
   "source": [
    "import random\n",
    "def calculate_area_circle(radius):\n",
    "    \"\"\"Calculate area of a circle\"\"\"\n",
    "    import random\n",
    "    import math\n",
    "    return math.pi * radius ** 2\n",
    "\n",
    "random.randint(0,10)"
   ]
  },
  {
   "cell_type": "code",
   "execution_count": 96,
   "metadata": {},
   "outputs": [
    {
     "name": "stdout",
     "output_type": "stream",
     "text": [
      "Buy Gums\n",
      "Unwrap Gums\n",
      "Eat Gums\n"
     ]
    }
   ],
   "source": [
    "def template_eat(parameter):\n",
    "    print(f\"Buy {parameter}\")\n",
    "    print(f\"Unwrap {parameter}\")\n",
    "    print(f\"Eat {parameter}\")\n",
    "\n",
    "\n",
    "buyed = 'Gums'\n",
    "if buyed=='Chips':\n",
    "    print('buy chips')\n",
    "if buyed=='Choco':\n",
    "    print('buy Choco')\n",
    "\n",
    "template_eat(buyed)"
   ]
  },
  {
   "cell_type": "code",
   "execution_count": 100,
   "metadata": {},
   "outputs": [
    {
     "data": {
      "text/plain": [
       "2000"
      ]
     },
     "execution_count": 100,
     "metadata": {},
     "output_type": "execute_result"
    }
   ],
   "source": [
    "l = 100\n",
    "b =20 \n",
    "calculate_area_rectangle(l,b)"
   ]
  },
  {
   "cell_type": "code",
   "execution_count": 102,
   "metadata": {},
   "outputs": [
    {
     "name": "stdout",
     "output_type": "stream",
     "text": [
      "Circle area (r=5): 78.53981633974483\n",
      "Rectangle area (4x6): 24\n",
      "Hello, Dhanush!\n"
     ]
    }
   ],
   "source": [
    "# Let's create a simple utility module\n",
    "# This would typically be in a separate .py file\n",
    "\n",
    "def calculate_area_circle(radius):\n",
    "    \"\"\"Calculate area of a circle\"\"\"\n",
    "    import math\n",
    "    return math.pi * radius ** 2\n",
    "\n",
    "def calculate_area_rectangle(length, width):\n",
    "    \"\"\"Calculate area of a rectangle\"\"\"\n",
    "    return length * width\n",
    "\n",
    "def greet(name):\n",
    "    \"\"\"Simple greeting function\"\"\"\n",
    "    return f\"Hello, {name}!\"\n",
    "\n",
    "# Using our custom functions\n",
    "print(f\"Circle area (r=5): {calculate_area_circle(5)}\")\n",
    "print(f\"Rectangle area (4x6): {calculate_area_rectangle(4, 6)}\")\n",
    "print(greet(\"Dhanush\"))"
   ]
  },
  {
   "cell_type": "code",
   "execution_count": 74,
   "metadata": {},
   "outputs": [],
   "source": [
    "#speed = distance / time\n",
    "\n",
    "\n",
    "def compute_speed(distance='120km',time='30hrs'):\n",
    "    if str(distance).endswith(\"km\"): \n",
    "        distance = int(distance[:-2])\n",
    "    if str(time).endswith('hrs'):\n",
    "        time = float(time[:-3])\n",
    "\n",
    "    speed = distance/time\n",
    "    return speed,distance,time\n",
    "\n",
    "\n",
    "speed,distance,time = compute_speed(distance=120,time=2)"
   ]
  },
  {
   "cell_type": "code",
   "execution_count": 75,
   "metadata": {},
   "outputs": [
    {
     "data": {
      "text/plain": [
       "60.0"
      ]
     },
     "execution_count": 75,
     "metadata": {},
     "output_type": "execute_result"
    }
   ],
   "source": [
    "speed"
   ]
  },
  {
   "cell_type": "code",
   "execution_count": null,
   "metadata": {},
   "outputs": [],
   "source": []
  },
  {
   "cell_type": "code",
   "execution_count": 123,
   "metadata": {},
   "outputs": [
    {
     "name": "stdout",
     "output_type": "stream",
     "text": [
      "Defaulting to user installation because normal site-packages is not writeable\n",
      "Collecting pytz\n",
      "  Obtaining dependency information for pytz from https://files.pythonhosted.org/packages/81/c4/34e93fe5f5429d7570ec1fa436f1986fb1f00c3e0f43a589fe2bbcd22c3f/pytz-2025.2-py2.py3-none-any.whl.metadata\n",
      "  Downloading pytz-2025.2-py2.py3-none-any.whl.metadata (22 kB)\n",
      "Downloading pytz-2025.2-py2.py3-none-any.whl (509 kB)\n",
      "   ---------------------------------------- 0.0/509.2 kB ? eta -:--:--\n",
      "   ---------------------------------------- 0.0/509.2 kB ? eta -:--:--\n",
      "    --------------------------------------- 10.2/509.2 kB ? eta -:--:--\n",
      "   -- ------------------------------------ 30.7/509.2 kB 325.1 kB/s eta 0:00:02\n",
      "   ---- ---------------------------------- 61.4/509.2 kB 409.6 kB/s eta 0:00:02\n",
      "   ----------- -------------------------- 153.6/509.2 kB 762.6 kB/s eta 0:00:01\n",
      "   ---------------------------------------  501.8/509.2 kB 2.1 MB/s eta 0:00:01\n",
      "   ---------------------------------------- 509.2/509.2 kB 2.0 MB/s eta 0:00:00\n",
      "Installing collected packages: pytz\n",
      "Successfully installed pytz-2025.2\n"
     ]
    },
    {
     "name": "stderr",
     "output_type": "stream",
     "text": [
      "\n",
      "[notice] A new release of pip is available: 23.2.1 -> 25.1.1\n",
      "[notice] To update, run: python.exe -m pip install --upgrade pip\n"
     ]
    }
   ],
   "source": [
    "!pip install pytz"
   ]
  },
  {
   "cell_type": "code",
   "execution_count": 124,
   "metadata": {},
   "outputs": [
    {
     "name": "stdout",
     "output_type": "stream",
     "text": [
      "Eastern Time: 2025-07-30 22:38:38\n",
      "Central Time: 2025-07-30 21:38:38\n",
      "Mountain Time: 2025-07-30 20:38:38\n",
      "Pacific Time: 2025-07-30 19:38:38\n",
      "Alaska Time: 2025-07-30 18:38:38\n",
      "Hawaii Time: 2025-07-30 16:38:38\n"
     ]
    }
   ],
   "source": [
    "from datetime import datetime\n",
    "import pytz\n",
    "\n",
    "us_timezones = {\n",
    "    \"Eastern\": \"US/Eastern\",\n",
    "    \"Central\": \"US/Central\",\n",
    "    \"Mountain\": \"US/Mountain\",\n",
    "    \"Pacific\": \"US/Pacific\",\n",
    "    \"Alaska\": \"US/Alaska\",\n",
    "    \"Hawaii\": \"US/Hawaii\"\n",
    "}\n",
    "\n",
    "for name, tz in us_timezones.items():\n",
    "    timezone = pytz.timezone(tz)\n",
    "    time_now = datetime.now(timezone)\n",
    "    print(f\"{name} Time: {time_now.strftime('%Y-%m-%d %H:%M:%S')}\")\n"
   ]
  },
  {
   "cell_type": "code",
   "execution_count": 127,
   "metadata": {},
   "outputs": [
    {
     "data": {
      "text/plain": [
       "datetime.datetime(2025, 7, 30, 16, 39, 31, 71029, tzinfo=<DstTzInfo 'US/Hawaii' HST-1 day, 14:00:00 STD>)"
      ]
     },
     "execution_count": 127,
     "metadata": {},
     "output_type": "execute_result"
    }
   ],
   "source": [
    "timezone = pytz.timezone(tz)\n",
    "datetime.now(timezone)"
   ]
  },
  {
   "cell_type": "markdown",
   "metadata": {},
   "source": [
    "### Standard Library Modules"
   ]
  },
  {
   "cell_type": "code",
   "execution_count": 107,
   "metadata": {},
   "outputs": [
    {
     "data": {
      "text/plain": [
       "False"
      ]
     },
     "execution_count": 107,
     "metadata": {},
     "output_type": "execute_result"
    }
   ],
   "source": [
    "import os\n",
    "os.getcwd()\n",
    "\n",
    "os.path.exists(r'C:\\\\Users\\\\dhanu\\\\OneDrive\\\\Desktop\\\\Repo\\\\VR_Training\\\\module 1\\\\07_datetime_modules.ipynb')"
   ]
  },
  {
   "cell_type": "code",
   "execution_count": 108,
   "metadata": {},
   "outputs": [
    {
     "data": {
      "text/plain": [
       "'C:\\\\Users\\\\dhanu\\\\OneDrive\\\\Desktop\\\\Repo\\\\VR_Training\\\\module 1'"
      ]
     },
     "execution_count": 108,
     "metadata": {},
     "output_type": "execute_result"
    }
   ],
   "source": [
    "os.getcwd()"
   ]
  },
  {
   "cell_type": "code",
   "execution_count": 120,
   "metadata": {},
   "outputs": [],
   "source": [
    "os.putenv(\"DEMO\",\"2\")"
   ]
  },
  {
   "cell_type": "code",
   "execution_count": 121,
   "metadata": {},
   "outputs": [],
   "source": [
    "os.environ.get(\"DEMO\")"
   ]
  },
  {
   "cell_type": "code",
   "execution_count": 122,
   "metadata": {},
   "outputs": [
    {
     "name": "stdout",
     "output_type": "stream",
     "text": [
      "Current directory: C:\\Users\\dhanu\\OneDrive\\Desktop\\Repo\\VR_Training\\module 1\n",
      "Environment PATH: C:\\ProgramData\\anaconda3\\condabin;C:\\Program Files...\n",
      "Python version: 3.12.7 | packaged by Anaconda, Inc. | (main, Oct  4 2024, 13:17:27) [MSC v.1929 64 bit (AMD64)]\n",
      "Platform: win32\n",
      "Word count: Counter({'apple': 3, 'banana': 2, 'cherry': 1})\n",
      "Default dict: {'fruits': ['apple', 'banana']}\n"
     ]
    }
   ],
   "source": [
    "# OS module for system operations\n",
    "import os\n",
    "print(f\"Current directory: {os.getcwd()}\")\n",
    "print(f\"Environment PATH: {os.environ.get('PATH', 'Not found')[:50]}...\")\n",
    "\n",
    "# sys module for system-specific parameters\n",
    "import sys\n",
    "print(f\"Python version: {sys.version}\")\n",
    "print(f\"Platform: {sys.platform}\")\n",
    "\n",
    "# collections module for specialized data structures\n",
    "from collections import Counter, defaultdict\n",
    "words = ['apple', 'banana', 'apple', 'cherry', 'banana', 'apple']\n",
    "word_count = Counter(words)\n",
    "print(f\"Word count: {word_count}\")\n",
    "\n",
    "# defaultdict example\n",
    "dd = defaultdict(list)\n",
    "dd['fruits'].append('apple')\n",
    "dd['fruits'].append('banana')\n",
    "print(f\"Default dict: {dict(dd)}\")"
   ]
  }
 ],
 "metadata": {
  "kernelspec": {
   "display_name": "Python [conda env:base] *",
   "language": "python",
   "name": "conda-base-py"
  },
  "language_info": {
   "codemirror_mode": {
    "name": "ipython",
    "version": 3
   },
   "file_extension": ".py",
   "mimetype": "text/x-python",
   "name": "python",
   "nbconvert_exporter": "python",
   "pygments_lexer": "ipython3",
   "version": "3.12.7"
  }
 },
 "nbformat": 4,
 "nbformat_minor": 4
}
