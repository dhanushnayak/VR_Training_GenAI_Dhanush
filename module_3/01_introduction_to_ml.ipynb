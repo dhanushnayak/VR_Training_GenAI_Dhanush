{
 "cells": [
  {
   "cell_type": "markdown",
   "metadata": {},
   "source": [
    "# Introduction to Machine Learning\n",
    "\n",
    "## Learning Objectives\n",
    "- Understand what Machine Learning is\n",
    "- Learn the three main types of ML\n",
    "- Explore real-world applications across various domains"
   ]
  },
  {
   "cell_type": "markdown",
   "metadata": {},
   "source": [
    "## What is Machine Learning?\n",
    "\n",
    "Machine Learning is a subset of artificial intelligence that enables computers to learn and make decisions from data without being explicitly programmed for every task.\n",
    "\n",
    "### Key Characteristics:\n",
    "- **Data-driven**: Learns patterns from data\n",
    "- **Adaptive**: Improves performance with more data\n",
    "- **Automated**: Makes predictions without manual intervention"
   ]
  },
  {
   "cell_type": "code",
   "execution_count": null,
   "metadata": {},
   "outputs": [],
   "source": [
    "# Simple example: Traditional programming vs ML\n",
    "import numpy as np\n",
    "import matplotlib.pyplot as plt\n",
    "\n",
    "# Traditional approach: explicit rules\n",
    "def traditional_spam_filter(email):\n",
    "    spam_words = ['free', 'win', 'money', 'urgent']\n",
    "    return any(word in email.lower() for word in spam_words)\n",
    "\n",
    "# ML approach: learn from data\n",
    "print(\"Traditional approach relies on predefined rules\")\n",
    "print(\"ML approach learns patterns from training data\")"
   ]
  },
  {
   "cell_type": "markdown",
   "metadata": {},
   "source": [
    "## Types of Machine Learning\n",
    "\n",
    "### 1. Supervised Learning\n",
    "- **Definition**: Learning with labeled examples\n",
    "- **Goal**: Predict outcomes for new data\n",
    "- **Examples**: Email classification, price prediction\n",
    "\n",
    "### 2. Unsupervised Learning\n",
    "- **Definition**: Finding patterns in unlabeled data\n",
    "- **Goal**: Discover hidden structures\n",
    "- **Examples**: Customer segmentation, anomaly detection\n",
    "\n",
    "### 3. Reinforcement Learning\n",
    "- **Definition**: Learning through interaction and feedback\n",
    "- **Goal**: Maximize cumulative reward\n",
    "- **Examples**: Game playing, robotics, autonomous vehicles"
   ]
  },
  {
   "cell_type": "code",
   "execution_count": null,
   "metadata": {},
   "outputs": [],
   "source": [
    "# Visualization of ML types\n",
    "fig, axes = plt.subplots(1, 3, figsize=(15, 4))\n",
    "\n",
    "# Supervised Learning\n",
    "x_sup = np.random.randn(50)\n",
    "y_sup = 2 * x_sup + np.random.randn(50) * 0.5\n",
    "axes[0].scatter(x_sup, y_sup, alpha=0.7)\n",
    "axes[0].set_title('Supervised Learning\\n(Input-Output Pairs)')\n",
    "axes[0].set_xlabel('Input (X)')\n",
    "axes[0].set_ylabel('Output (Y)')\n",
    "\n",
    "# Unsupervised Learning\n",
    "x_unsup = np.random.multivariate_normal([0, 0], [[1, 0.5], [0.5, 1]], 50)\n",
    "axes[1].scatter(x_unsup[:, 0], x_unsup[:, 1], alpha=0.7)\n",
    "axes[1].set_title('Unsupervised Learning\\n(Find Patterns)')\n",
    "axes[1].set_xlabel('Feature 1')\n",
    "axes[1].set_ylabel('Feature 2')\n",
    "\n",
    "# Reinforcement Learning\n",
    "states = np.arange(10)\n",
    "rewards = np.random.randn(10).cumsum()\n",
    "axes[2].plot(states, rewards, 'o-')\n",
    "axes[2].set_title('Reinforcement Learning\\n(Actions & Rewards)')\n",
    "axes[2].set_xlabel('Time Steps')\n",
    "axes[2].set_ylabel('Cumulative Reward')\n",
    "\n",
    "plt.tight_layout()\n",
    "plt.show()"
   ]
  },
  {
   "cell_type": "markdown",
   "metadata": {},
   "source": [
    "## Real-World Applications\n",
    "\n",
    "### Healthcare\n",
    "- **Medical Imaging**: Cancer detection in X-rays, MRIs\n",
    "- **Drug Discovery**: Predicting molecular behavior\n",
    "- **Personalized Medicine**: Treatment recommendations\n",
    "\n",
    "### Finance\n",
    "- **Fraud Detection**: Identifying suspicious transactions\n",
    "- **Algorithmic Trading**: Automated investment decisions\n",
    "- **Credit Scoring**: Loan approval predictions\n",
    "\n",
    "### Retail & E-commerce\n",
    "- **Recommendation Systems**: Product suggestions\n",
    "- **Price Optimization**: Dynamic pricing strategies\n",
    "- **Inventory Management**: Demand forecasting\n",
    "\n",
    "### Natural Language Processing\n",
    "- **Machine Translation**: Google Translate\n",
    "- **Chatbots**: Customer service automation\n",
    "- **Sentiment Analysis**: Social media monitoring\n",
    "\n",
    "### Computer Vision\n",
    "- **Autonomous Vehicles**: Object detection and navigation\n",
    "- **Facial Recognition**: Security systems\n",
    "- **Quality Control**: Manufacturing defect detection"
   ]
  },
  {
   "cell_type": "code",
   "execution_count": null,
   "metadata": {},
   "outputs": [],
   "source": [
    "# Exercise: Identify ML type for different applications\n",
    "applications = {\n",
    "    \"Email spam detection\": \"Supervised (Classification)\",\n",
    "    \"Customer segmentation\": \"Unsupervised (Clustering)\", \n",
    "    \"Stock price prediction\": \"Supervised (Regression)\",\n",
    "    \"Game playing AI\": \"Reinforcement Learning\",\n",
    "    \"Anomaly detection\": \"Unsupervised\",\n",
    "    \"Medical diagnosis\": \"Supervised (Classification)\"\n",
    "}\n",
    "\n",
    "print(\"Application -> ML Type\")\n",
    "print(\"-\" * 40)\n",
    "for app, ml_type in applications.items():\n",
    "    print(f\"{app:<25} -> {ml_type}\")"
   ]
  },
  {
   "cell_type": "markdown",
   "metadata": {},
   "source": [
    "## Summary\n",
    "\n",
    "Machine Learning is transforming industries by enabling computers to learn from data and make intelligent decisions. The three main types - supervised, unsupervised, and reinforcement learning - each serve different purposes and have unique applications across various domains.\n",
    "\n",
    "## Next Steps\n",
    "- Understand ML fundamentals (bias, variance, overfitting)\n",
    "- Learn about data preparation and validation techniques\n",
    "- Explore specific algorithms and their implementations"
   ]
  }
 ],
 "metadata": {
  "kernelspec": {
   "display_name": "Python 3",
   "language": "python",
   "name": "python3"
  },
  "language_info": {
   "codemirror_mode": {
    "name": "ipython",
    "version": 3
   },
   "file_extension": ".py",
   "mimetype": "text/x-python",
   "name": "python",
   "nbconvert_exporter": "python",
   "pygments_lexer": "ipython3",
   "version": "3.8.5"
  }
 },
 "nbformat": 4,
 "nbformat_minor": 4
}