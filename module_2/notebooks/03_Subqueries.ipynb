{
 "cells": [
  {
   "cell_type": "code",
   "execution_count": null,
   "id": "571f753f",
   "metadata": {},
   "outputs": [],
   "source": [
    "#!pip install pandas\n",
    "\n",
    "import sqlite3\n",
    "import pandas as pd\n",
    "from sqlalchemy import create_engine, text\n",
    "import os"
   ]
  },
  {
   "cell_type": "code",
   "execution_count": null,
   "id": "6bc28d4e",
   "metadata": {},
   "outputs": [],
   "source": [
    "conn = sqlite3.connect(r\"C:\\Users\\dhanu\\OneDrive\\Desktop\\Repo\\VR_Training\\module_2\\database\\VR.db\")"
   ]
  },
  {
   "cell_type": "code",
   "execution_count": null,
   "id": "970ff5e2",
   "metadata": {},
   "outputs": [],
   "source": [
    "employees_df = pd.read_sql(\"SELECT * FROM employees\", conn)\n",
    "departments_df = pd.read_sql(\"SELECT * FROM departments\", conn)\n",
    "projects_df = pd.read_sql(\"SELECT * FROM projects\", conn)\n",
    "employee_projects_df = pd.read_sql(\"SELECT * FROM employee_projects\", conn)"
   ]
  },
  {
   "cell_type": "code",
   "execution_count": null,
   "id": "603d1629",
   "metadata": {},
   "outputs": [],
   "source": []
  }
 ],
 "metadata": {
  "kernelspec": {
   "display_name": "Python 3",
   "language": "python",
   "name": "python3"
  },
  "language_info": {
   "name": "python",
   "version": "3.12.0"
  }
 },
 "nbformat": 4,
 "nbformat_minor": 5
}
