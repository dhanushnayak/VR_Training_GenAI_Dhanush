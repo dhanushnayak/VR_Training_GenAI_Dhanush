{
 "cells": [
  {
   "cell_type": "code",
   "execution_count": 1,
   "id": "afcd9033",
   "metadata": {},
   "outputs": [],
   "source": [
    "#!pip install pandas\n",
    "\n",
    "import sqlite3\n",
    "import pandas as pd\n",
    "from sqlalchemy import create_engine, text\n",
    "import os\n",
    "\n",
    "conn = sqlite3.connect(r\"C:\\Users\\dhanu\\OneDrive\\Desktop\\Repo\\VR_Training\\module_2\\database\\VR.db\")"
   ]
  },
  {
   "cell_type": "code",
   "execution_count": 14,
   "id": "6b597408",
   "metadata": {},
   "outputs": [],
   "source": [
    "df = pd.read_sql(\"SELECT * FROM messy_customer_data;\",conn)"
   ]
  },
  {
   "cell_type": "code",
   "execution_count": 15,
   "id": "78fe4ca4",
   "metadata": {},
   "outputs": [],
   "source": [
    "df['cleaned_full_name'] = df['full_name'].str.strip()"
   ]
  },
  {
   "cell_type": "code",
   "execution_count": 18,
   "id": "e5af1157",
   "metadata": {},
   "outputs": [
    {
     "data": {
      "text/html": [
       "<div>\n",
       "<style scoped>\n",
       "    .dataframe tbody tr th:only-of-type {\n",
       "        vertical-align: middle;\n",
       "    }\n",
       "\n",
       "    .dataframe tbody tr th {\n",
       "        vertical-align: top;\n",
       "    }\n",
       "\n",
       "    .dataframe thead th {\n",
       "        text-align: right;\n",
       "    }\n",
       "</style>\n",
       "<table border=\"1\" class=\"dataframe\">\n",
       "  <thead>\n",
       "    <tr style=\"text-align: right;\">\n",
       "      <th></th>\n",
       "      <th>id</th>\n",
       "      <th>full_name</th>\n",
       "      <th>email</th>\n",
       "      <th>phone</th>\n",
       "      <th>address</th>\n",
       "      <th>registration_date</th>\n",
       "      <th>status</th>\n",
       "      <th>cleaned_full_name</th>\n",
       "    </tr>\n",
       "  </thead>\n",
       "  <tbody>\n",
       "    <tr>\n",
       "      <th>0</th>\n",
       "      <td>1</td>\n",
       "      <td>John   Smith</td>\n",
       "      <td>JOHN.SMITH@EMAIL.COM</td>\n",
       "      <td>(555) 123-4567</td>\n",
       "      <td>123 Main St, New York, NY</td>\n",
       "      <td>2023-01-15</td>\n",
       "      <td>active</td>\n",
       "      <td>John   Smith</td>\n",
       "    </tr>\n",
       "  </tbody>\n",
       "</table>\n",
       "</div>"
      ],
      "text/plain": [
       "   id         full_name                 email           phone  \\\n",
       "0   1    John   Smith    JOHN.SMITH@EMAIL.COM  (555) 123-4567   \n",
       "\n",
       "                     address registration_date  status cleaned_full_name  \n",
       "0  123 Main St, New York, NY        2023-01-15  active      John   Smith  "
      ]
     },
     "execution_count": 18,
     "metadata": {},
     "output_type": "execute_result"
    }
   ],
   "source": [
    "df[df['cleaned_full_name'].str.startswith(\"J\")]"
   ]
  },
  {
   "cell_type": "code",
   "execution_count": 20,
   "id": "1a668234",
   "metadata": {},
   "outputs": [
    {
     "data": {
      "text/html": [
       "<div>\n",
       "<style scoped>\n",
       "    .dataframe tbody tr th:only-of-type {\n",
       "        vertical-align: middle;\n",
       "    }\n",
       "\n",
       "    .dataframe tbody tr th {\n",
       "        vertical-align: top;\n",
       "    }\n",
       "\n",
       "    .dataframe thead th {\n",
       "        text-align: right;\n",
       "    }\n",
       "</style>\n",
       "<table border=\"1\" class=\"dataframe\">\n",
       "  <thead>\n",
       "    <tr style=\"text-align: right;\">\n",
       "      <th></th>\n",
       "      <th>id</th>\n",
       "      <th>full_name</th>\n",
       "      <th>email</th>\n",
       "      <th>phone</th>\n",
       "      <th>address</th>\n",
       "      <th>registration_date</th>\n",
       "      <th>status</th>\n",
       "      <th>cleaned_full_name</th>\n",
       "    </tr>\n",
       "  </thead>\n",
       "  <tbody>\n",
       "    <tr>\n",
       "      <th>0</th>\n",
       "      <td>1</td>\n",
       "      <td>John   Smith</td>\n",
       "      <td>JOHN.SMITH@EMAIL.COM</td>\n",
       "      <td>(555) 123-4567</td>\n",
       "      <td>123 Main St, New York, NY</td>\n",
       "      <td>2023-01-15</td>\n",
       "      <td>active</td>\n",
       "      <td>John   Smith</td>\n",
       "    </tr>\n",
       "    <tr>\n",
       "      <th>1</th>\n",
       "      <td>2</td>\n",
       "      <td>sarah johnson</td>\n",
       "      <td>sarah@email.com</td>\n",
       "      <td>555.234.5678</td>\n",
       "      <td>456 Oak Ave, Los Angeles, CA</td>\n",
       "      <td>01/20/2023</td>\n",
       "      <td>INACTIVE</td>\n",
       "      <td>sarah johnson</td>\n",
       "    </tr>\n",
       "    <tr>\n",
       "      <th>2</th>\n",
       "      <td>3</td>\n",
       "      <td>Mike Brown Jr.</td>\n",
       "      <td>mike.brown@email.com</td>\n",
       "      <td>555-345-6789</td>\n",
       "      <td>789 Pine Rd, Chicago, IL</td>\n",
       "      <td>2023-02-28</td>\n",
       "      <td>Active</td>\n",
       "      <td>Mike Brown Jr.</td>\n",
       "    </tr>\n",
       "    <tr>\n",
       "      <th>3</th>\n",
       "      <td>4</td>\n",
       "      <td>EMILY DAVIS</td>\n",
       "      <td>emily.davis@email.com</td>\n",
       "      <td>(555)456-7890</td>\n",
       "      <td>321 Elm St, Houston, TX</td>\n",
       "      <td>03/15/2023</td>\n",
       "      <td>pending</td>\n",
       "      <td>EMILY DAVIS</td>\n",
       "    </tr>\n",
       "    <tr>\n",
       "      <th>4</th>\n",
       "      <td>5</td>\n",
       "      <td>David Wilson</td>\n",
       "      <td>david@email.com</td>\n",
       "      <td>555 567 8901</td>\n",
       "      <td>654 Maple Dr, Phoenix, AZ</td>\n",
       "      <td>2023-04-10</td>\n",
       "      <td>active</td>\n",
       "      <td>David Wilson</td>\n",
       "    </tr>\n",
       "    <tr>\n",
       "      <th>5</th>\n",
       "      <td>6</td>\n",
       "      <td></td>\n",
       "      <td>invalid-email</td>\n",
       "      <td>123</td>\n",
       "      <td>Incomplete Address</td>\n",
       "      <td>2023-13-45</td>\n",
       "      <td>unknown</td>\n",
       "      <td></td>\n",
       "    </tr>\n",
       "  </tbody>\n",
       "</table>\n",
       "</div>"
      ],
      "text/plain": [
       "   id         full_name                  email           phone  \\\n",
       "0   1    John   Smith     JOHN.SMITH@EMAIL.COM  (555) 123-4567   \n",
       "1   2     sarah johnson        sarah@email.com    555.234.5678   \n",
       "2   3    Mike Brown Jr.   mike.brown@email.com    555-345-6789   \n",
       "3   4       EMILY DAVIS  emily.davis@email.com   (555)456-7890   \n",
       "4   5      David Wilson        david@email.com    555 567 8901   \n",
       "5   6                            invalid-email             123   \n",
       "\n",
       "                        address registration_date    status cleaned_full_name  \n",
       "0     123 Main St, New York, NY        2023-01-15    active      John   Smith  \n",
       "1  456 Oak Ave, Los Angeles, CA        01/20/2023  INACTIVE     sarah johnson  \n",
       "2      789 Pine Rd, Chicago, IL        2023-02-28    Active    Mike Brown Jr.  \n",
       "3       321 Elm St, Houston, TX        03/15/2023   pending       EMILY DAVIS  \n",
       "4     654 Maple Dr, Phoenix, AZ        2023-04-10    active      David Wilson  \n",
       "5            Incomplete Address        2023-13-45   unknown                    "
      ]
     },
     "execution_count": 20,
     "metadata": {},
     "output_type": "execute_result"
    }
   ],
   "source": [
    "df"
   ]
  },
  {
   "cell_type": "code",
   "execution_count": 25,
   "id": "591846e2",
   "metadata": {},
   "outputs": [
    {
     "data": {
      "text/plain": [
       "0       John.smith\n",
       "1            Sarah\n",
       "2       Mike.brown\n",
       "3      Emily.davis\n",
       "4            David\n",
       "5    Invalid-email\n",
       "Name: email, dtype: object"
      ]
     },
     "execution_count": 25,
     "metadata": {},
     "output_type": "execute_result"
    }
   ],
   "source": [
    "df['email'].str.split(\"@\").apply(lambda x:x[0] ).str.capitalize()"
   ]
  },
  {
   "cell_type": "code",
   "execution_count": 46,
   "id": "c3172e5a",
   "metadata": {},
   "outputs": [
    {
     "name": "stdout",
     "output_type": "stream",
     "text": [
      "Help on package neattext:\n",
      "\n",
      "NAME\n",
      "    neattext\n",
      "\n",
      "PACKAGE CONTENTS\n",
      "    explainer (package)\n",
      "    functions (package)\n",
      "    neattext\n",
      "    pattern_data (package)\n",
      "    pipeline (package)\n",
      "\n",
      "DATA\n",
      "    AUTOMATED_READ_INDEX = {'1': '5-6 years (Kindergarten)', '10': '15-16 ...\n",
      "    BTC_ADDRESS_REGEX = re.compile('[13][a-km-zA-HJ-NP-Z1-9]{25,34}')\n",
      "    CONTRACTIONS_DICT = {\"'cause\": 'because', \"I'd\": 'I would', \"I'd've\": ...\n",
      "    CURRENCY_REGEX = re.compile('[$¢£¤¥ƒ֏؋৲৳૱௹฿៛ℳ元円圆圓﷼\\\\u20A0-\\\\u20C0]\\\\d+...\n",
      "    CURRENCY_SYMB_REGEX = re.compile('[$¢£¤¥ƒ֏؋৲৳૱௹฿៛ℳ元円圆圓﷼\\\\u20A0-\\\\u20C0...\n",
      "    Callable = typing.Callable\n",
      "        Deprecated alias to collections.abc.Callable.\n",
      "\n",
      "        Callable[[int], str] signifies a function that takes a single\n",
      "        parameter of type int and returns a str.\n",
      "\n",
      "        The subscription syntax must always be used with exactly two\n",
      "        values: the argument list and the return type.\n",
      "        The argument list must be a list of types, a ParamSpec,\n",
      "        Concatenate or ellipsis. The return type must be a single type.\n",
      "\n",
      "        There is no syntax to indicate optional or keyword arguments;\n",
      "        such function types are rarely used as callback types.\n",
      "\n",
      "    CreditCard_REGEX = re.compile('(?:(?:(?:\\\\d{4}[- ]?){3}\\\\d{4}|\\\\d{15,1...\n",
      "    DATE_REGEX = re.compile('([0-9]{2}\\\\/[0-9]{2}\\\\/[0-9]{4})|([0-9]{4}\\\\/...\n",
      "    EMAIL_REGEX = re.compile('[\\\\w\\\\.-]+@[\\\\w\\\\.-]+')\n",
      "    EMOJI_REGEX = re.compile('[😀-🙏🌀-🗿🚀-\\U0001f6ff\\U0001f1e0-🇿✂-➰Ⓜ-🉑]+')\n",
      "    FUNCTORS_WORDLIST = ['a', 'about', 'above', 'across', 'after', 'afterw...\n",
      "    HASTAG_REGEX = re.compile('#\\\\S+')\n",
      "    HTML_TAGS_REGEX = re.compile('<[^<]+?>')\n",
      "    List = typing.List\n",
      "        A generic version of list.\n",
      "\n",
      "    MASTERCard_REGEX = re.compile('5[1-5]\\\\d{2}[\\\\s-]?\\\\d{4}[\\\\s-]?\\\\d{4}[...\n",
      "    MD5_SHA_REGEX = re.compile('([0-9a-fA-F]{32})|([0-9a-fA-F]{40})|([0-9a...\n",
      "    MOST_COMMON_PUNCT_REGEX = re.compile('[!\"&\\',-.;?_`]')\n",
      "    NUMBERS_REGEX = re.compile('\\\\d+')\n",
      "    PHONE_REGEX = re.compile('[\\\\+\\\\(]?[1-9][0-9 .\\\\-\\\\(\\\\)]{8,}[0-9]')\n",
      "    PUNCT_REGEX = re.compile('[!\"&\\'()*,-./:;?@[\\\\\\\\]^_`{|}]')\n",
      "    PoBOX_REGEX = re.compile('(?i)P\\\\.? ?O\\\\.? Box \\\\d+', re.IGNORECASE)\n",
      "    SPECIAL_CHARACTERS_REGEX = re.compile('[^A-Za-z0-9 ]+')\n",
      "    STOPWORDS = ['i', 'me', 'my', 'myself', 'we', 'our', 'ours', 'ourselve...\n",
      "    STOPWORDS_de = {'a', 'ab', 'aber', 'ach', 'acht', 'achte', ...}\n",
      "    STOPWORDS_en = {'a', 'about', 'above', 'across', 'after', 'afterwards'...\n",
      "    STOPWORDS_es = {'actualmente', 'acuerdo', 'adelante', 'ademas', 'ademá...\n",
      "    STOPWORDS_fr = {'a', 'abord', 'absolument', 'afin', 'ah', 'ai', ...}\n",
      "    STOPWORDS_ru = {'а', 'будем', 'будет', 'будете', 'будешь', 'буду', ......\n",
      "    STOPWORDS_yo = {'a', 'an', 'b', 'bá', 'bí', 'bẹ̀rẹ̀', ...}\n",
      "    STREET_ADDRESS_REGEX = re.compile('\\\\d{1,4} [\\\\w\\\\s]{1,20}(?:street|st...\n",
      "    Tuple = typing.Tuple\n",
      "        Deprecated alias to builtins.tuple.\n",
      "\n",
      "        Tuple[X, Y] is the cross-product type of X and Y.\n",
      "\n",
      "        Example: Tuple[T1, T2] is a tuple of two elements corresponding\n",
      "        to type variables T1 and T2.  Tuple[int, float, str] is a tuple\n",
      "        of an int, a float and a string.\n",
      "\n",
      "        To specify a variable-length tuple of homogeneous type, use Tuple[T, ...].\n",
      "\n",
      "    URL_PATTERN = re.compile('(?:^|(?<![\\\\w\\\\/\\\\.]))(?:(?:https?:\\...2})(?...\n",
      "    USER_HANDLES_REGEX = re.compile('@\\\\S+')\n",
      "    VISACard_REGEX = re.compile('4\\\\d{3}[\\\\s-]?\\\\d{4}[\\\\s-]?\\\\d{4}[\\\\s-]?\\...\n",
      "    ZIP_REGEX = re.compile('\\\\b\\\\d{5}(?:[-\\\\s]\\\\d{4})?\\\\b')\n",
      "\n",
      "VERSION\n",
      "    0.1.3\n",
      "\n",
      "FILE\n",
      "    c:\\users\\dhanu\\appdata\\roaming\\python\\python312\\site-packages\\neattext\\__init__.py\n",
      "\n",
      "\n"
     ]
    }
   ],
   "source": [
    "import neattext as nt\n",
    "from neattext import clean_text\n",
    "help(nt)\n"
   ]
  },
  {
   "cell_type": "code",
   "execution_count": null,
   "id": "1e87998f",
   "metadata": {},
   "outputs": [],
   "source": [
    "def custom_data_clean(x):\n",
    "    index_year = 0\n",
    "    values =  x.split('-')\n",
    "    if len(values[0])<3:\n",
    "        for i, j in enumerate(values): \n",
    "            if len(j)==4: index_year =  i\n",
    "        new_value = '-'.join([index_year,values[0],values[1]])\n",
    "    return new_value\n",
    "\n",
    "        \n",
    "        "
   ]
  },
  {
   "cell_type": "code",
   "execution_count": 54,
   "id": "ee6acac9",
   "metadata": {},
   "outputs": [
    {
     "data": {
      "text/plain": [
       "0    2023-01-15\n",
       "1    01-20-2023\n",
       "2    2023-02-28\n",
       "3    03-15-2023\n",
       "4    2023-04-10\n",
       "5    2023-13-45\n",
       "Name: registration_date, dtype: object"
      ]
     },
     "execution_count": 54,
     "metadata": {},
     "output_type": "execute_result"
    }
   ],
   "source": [
    "df['registration_date'].str.replace('/','-')"
   ]
  },
  {
   "cell_type": "code",
   "execution_count": 48,
   "id": "ea252948",
   "metadata": {},
   "outputs": [
    {
     "data": {
      "text/plain": [
       "0    []\n",
       "1    []\n",
       "2    []\n",
       "3    []\n",
       "4    []\n",
       "5    []\n",
       "Name: phone, dtype: object"
      ]
     },
     "execution_count": 48,
     "metadata": {},
     "output_type": "execute_result"
    }
   ],
   "source": [
    "df['phone'].apply(nt.extract_dates)"
   ]
  },
  {
   "cell_type": "code",
   "execution_count": 45,
   "id": "9fcbde69",
   "metadata": {},
   "outputs": [
    {
     "data": {
      "text/plain": [
       "0     555 1234567\n",
       "1      5552345678\n",
       "2      5553456789\n",
       "3      5554567890\n",
       "4    555 567 8901\n",
       "5             123\n",
       "Name: phone, dtype: object"
      ]
     },
     "execution_count": 45,
     "metadata": {},
     "output_type": "execute_result"
    }
   ],
   "source": [
    "df['phone'].apply(lambda x: clean_text(x,puncts=True,special_char=True,contractions=True))"
   ]
  },
  {
   "cell_type": "code",
   "execution_count": 36,
   "id": "007dd4d1",
   "metadata": {},
   "outputs": [
    {
     "data": {
      "text/plain": [
       "0    5551234567\n",
       "1    5552345678\n",
       "2    5553456789\n",
       "3    5554567890\n",
       "4    5555678901\n",
       "5           123\n",
       "Name: phone, dtype: object"
      ]
     },
     "execution_count": 36,
     "metadata": {},
     "output_type": "execute_result"
    }
   ],
   "source": [
    "df['phone'].str.replace(\"(\",'').str.replace(\")\",'').str.replace('.','').str.replace('-','').str.replace(\" \",'')"
   ]
  }
 ],
 "metadata": {
  "kernelspec": {
   "display_name": "Python 3",
   "language": "python",
   "name": "python3"
  },
  "language_info": {
   "codemirror_mode": {
    "name": "ipython",
    "version": 3
   },
   "file_extension": ".py",
   "mimetype": "text/x-python",
   "name": "python",
   "nbconvert_exporter": "python",
   "pygments_lexer": "ipython3",
   "version": "3.12.0"
  }
 },
 "nbformat": 4,
 "nbformat_minor": 5
}
