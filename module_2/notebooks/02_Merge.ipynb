{
 "cells": [
  {
   "cell_type": "code",
   "execution_count": null,
   "id": "5ff0da6e",
   "metadata": {},
   "outputs": [],
   "source": []
  },
  {
   "cell_type": "code",
   "execution_count": 1,
   "id": "79d6e6ca",
   "metadata": {},
   "outputs": [],
   "source": [
    "import sqlite3\n",
    "import pandas as pd\n",
    "from sqlalchemy import create_engine, text\n",
    "import os"
   ]
  },
  {
   "cell_type": "code",
   "execution_count": 2,
   "id": "01b25b89",
   "metadata": {},
   "outputs": [],
   "source": [
    "conn = sqlite3.connect(r\"C:\\Users\\dhanu\\OneDrive\\Desktop\\Repo\\VR_Training\\module_2\\database\\VR.db\")"
   ]
  },
  {
   "cell_type": "code",
   "execution_count": 4,
   "id": "4922c624",
   "metadata": {},
   "outputs": [],
   "source": [
    "employees_df = pd.read_sql(\"SELECT * FROM employees\", conn)\n",
    "departments_df = pd.read_sql(\"SELECT * FROM departments\", conn)\n",
    "projects_df = pd.read_sql(\"SELECT * FROM projects\", conn)\n",
    "employee_projects_df = pd.read_sql(\"SELECT * FROM employee_projects\", conn)"
   ]
  },
  {
   "cell_type": "code",
   "execution_count": 5,
   "id": "217a64da",
   "metadata": {},
   "outputs": [],
   "source": [
    "query1 = (employees_df\n",
    "    .merge(departments_df, on=\"department_id\", how=\"inner\")\n",
    ")[[\"first_name\",\"last_name\",\"salary\",\"department_name\",\"location\"]]\n"
   ]
  },
  {
   "cell_type": "code",
   "execution_count": 6,
   "id": "65434d90",
   "metadata": {},
   "outputs": [],
   "source": [
    "query2 = (employees_df\n",
    "    .merge(departments_df, on=\"department_id\", how=\"inner\")\n",
    "    .merge(employee_projects_df, on=\"employee_id\", how=\"inner\")\n",
    "    .merge(projects_df, on=\"project_id\", how=\"inner\")\n",
    ")\n",
    "\n",
    "query2[\"budget_utilization\"] = (query2[\"budget_y\"] / query2[\"budget_x\"]) * 100\n",
    "\n",
    "final = query2.rename(columns={\"budget_y\":\"project_budget\", \"budget_x\":\"depart_budget\"})[\n",
    "    [\"first_name\",\"last_name\",\"department_name\",\"project_name\",\n",
    "     \"role\",\"hours_allocated\",\"project_budget\",\"depart_budget\",\"budget_utilization\"]\n",
    "]\n"
   ]
  },
  {
   "cell_type": "code",
   "execution_count": 7,
   "id": "2ac445af",
   "metadata": {},
   "outputs": [],
   "source": [
    "result = (employees_df\n",
    "    .merge(departments_df, on=\"department_id\", how=\"inner\")\n",
    "    .loc[lambda df: df[\"salary\"] > 75000]\n",
    "    .sort_values(\"salary\", ascending=False)\n",
    ")[[\"first_name\", \"last_name\", \"salary\", \"department_name\"]]\n"
   ]
  },
  {
   "cell_type": "code",
   "execution_count": 8,
   "id": "06a01ca7",
   "metadata": {},
   "outputs": [],
   "source": [
    "result = employees_df.merge(\n",
    "    departments_df,\n",
    "    on=\"department_id\",\n",
    "    how=\"left\"\n",
    ")[[\"first_name\", \"last_name\", \"salary\", \"department_name\", \"location\"]]\n"
   ]
  },
  {
   "cell_type": "code",
   "execution_count": 9,
   "id": "f69005f0",
   "metadata": {},
   "outputs": [],
   "source": [
    "result = (employees_df\n",
    "    .merge(employee_projects_df, on=\"employee_id\", how=\"left\")\n",
    "    .loc[lambda df: df[\"project_id\"].isna()]\n",
    ")[[\"first_name\", \"last_name\", \"department_id\", \"project_id\"]]\n"
   ]
  },
  {
   "cell_type": "code",
   "execution_count": 10,
   "id": "6715223f",
   "metadata": {},
   "outputs": [],
   "source": [
    "result = (departments_df\n",
    "    .merge(employees_df, on=\"department_id\", how=\"left\")\n",
    "    .groupby([\"department_id\", \"department_name\"], as_index=False)\n",
    "    .agg(employee_count=(\"employee_id\",\"count\"),\n",
    "         avg_salary=(\"salary\",\"mean\"))\n",
    ")\n"
   ]
  },
  {
   "cell_type": "code",
   "execution_count": 11,
   "id": "16969309",
   "metadata": {},
   "outputs": [],
   "source": [
    "result = departments_df.merge(\n",
    "    employees_df,\n",
    "    on=\"department_id\",\n",
    "    how=\"left\"\n",
    ")[[\"first_name\", \"last_name\", \"department_name\"]]\n"
   ]
  },
  {
   "cell_type": "code",
   "execution_count": 12,
   "id": "8670b854",
   "metadata": {},
   "outputs": [],
   "source": [
    "result = employees_df.merge(\n",
    "    departments_df,\n",
    "    on=\"department_id\",\n",
    "    how=\"outer\"\n",
    ")[[\"first_name\", \"last_name\", \"department_name\"]]\n"
   ]
  },
  {
   "cell_type": "code",
   "execution_count": 13,
   "id": "6db9571f",
   "metadata": {},
   "outputs": [],
   "source": [
    "result = employees_df.merge(departments_df, how=\"cross\")[[\"first_name\",\"last_name\",\"department_name\"]].head(20)\n"
   ]
  },
  {
   "cell_type": "code",
   "execution_count": 14,
   "id": "1c865378",
   "metadata": {},
   "outputs": [],
   "source": [
    "result = employees_df.merge(\n",
    "    employees_df,\n",
    "    left_on=\"manager_id\",\n",
    "    right_on=\"employee_id\",\n",
    "    suffixes=(\"_emp\", \"_mgr\"),\n",
    "    how=\"left\"\n",
    ")\n",
    "\n",
    "final = result.assign(\n",
    "    employee_name = result[\"first_name_emp\"] + \" \" + result[\"last_name_emp\"],\n",
    "    manager_name  = result[\"first_name_mgr\"].fillna(\"\") + \" \" + result[\"last_name_mgr\"].fillna(\"\")\n",
    ")[[\"employee_name\",\"salary_emp\",\"manager_name\",\"salary_mgr\"]]\n"
   ]
  },
  {
   "cell_type": "code",
   "execution_count": null,
   "id": "94a56fb5",
   "metadata": {},
   "outputs": [],
   "source": []
  },
  {
   "cell_type": "code",
   "execution_count": null,
   "id": "a3de8762",
   "metadata": {},
   "outputs": [],
   "source": []
  },
  {
   "cell_type": "code",
   "execution_count": null,
   "id": "58eda7ac",
   "metadata": {},
   "outputs": [],
   "source": []
  }
 ],
 "metadata": {
  "kernelspec": {
   "display_name": "Python 3",
   "language": "python",
   "name": "python3"
  },
  "language_info": {
   "codemirror_mode": {
    "name": "ipython",
    "version": 3
   },
   "file_extension": ".py",
   "mimetype": "text/x-python",
   "name": "python",
   "nbconvert_exporter": "python",
   "pygments_lexer": "ipython3",
   "version": "3.12.0"
  }
 },
 "nbformat": 4,
 "nbformat_minor": 5
}
