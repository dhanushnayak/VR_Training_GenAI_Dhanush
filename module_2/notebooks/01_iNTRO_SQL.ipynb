{
 "cells": [
  {
   "cell_type": "code",
   "execution_count": 1,
   "id": "862aac8e",
   "metadata": {},
   "outputs": [],
   "source": [
    "#!pip install pandas\n",
    "\n",
    "import sqlite3\n",
    "import pandas as pd\n",
    "from sqlalchemy import create_engine, text\n",
    "import os"
   ]
  },
  {
   "cell_type": "code",
   "execution_count": 3,
   "id": "38ac8eb7",
   "metadata": {},
   "outputs": [],
   "source": [
    "conn = sqlite3.connect(r\"C:\\Users\\dhanu\\OneDrive\\Desktop\\Repo\\VR_Training\\module_2\\database\\VR.db\")"
   ]
  },
  {
   "cell_type": "code",
   "execution_count": 16,
   "id": "4cf765d7",
   "metadata": {},
   "outputs": [],
   "source": [
    "cursor =  conn.cursor()\n"
   ]
  },
  {
   "cell_type": "code",
   "execution_count": 10,
   "id": "3c5c7420",
   "metadata": {},
   "outputs": [
    {
     "data": {
      "text/plain": [
       "<sqlite3.Cursor at 0x27041f2be40>"
      ]
     },
     "execution_count": 10,
     "metadata": {},
     "output_type": "execute_result"
    }
   ],
   "source": [
    "cursor.execute(\"SELECT * FROM employees\")"
   ]
  },
  {
   "cell_type": "code",
   "execution_count": 11,
   "id": "dac3eb0c",
   "metadata": {},
   "outputs": [
    {
     "name": "stdout",
     "output_type": "stream",
     "text": [
      "(1, 'John', 'Smith', 'john.smith@company.com', '2020-01-15', 95000, 1, None)\n",
      "(2, 'Sarah', 'Johnson', 'sarah.johnson@company.com', '2019-03-22', 87000, 1, 1)\n",
      "(3, 'Mike', 'Brown', 'mike.brown@company.com', '2021-06-10', 72000, 1, 1)\n",
      "(4, 'Emily', 'Davis', 'emily.davis@company.com', '2020-09-05', 68000, 2, None)\n",
      "(5, 'David', 'Wilson', 'david.wilson@company.com', '2018-11-30', 78000, 2, 4)\n",
      "(6, 'Lisa', 'Anderson', 'lisa.anderson@company.com', '2022-02-14', 85000, 3, None)\n",
      "(7, 'Tom', 'Taylor', 'tom.taylor@company.com', '2021-08-20', 65000, 3, 6)\n",
      "(8, 'Anna', 'Martinez', 'anna.martinez@company.com', '2020-04-12', 62000, 4, None)\n",
      "(9, 'Chris', 'Garcia', 'chris.garcia@company.com', '2019-07-08', 89000, 5, None)\n",
      "(10, 'Jessica', 'Lee', 'jessica.lee@company.com', '2021-12-03', 71000, 1, 1)\n"
     ]
    }
   ],
   "source": [
    "for i in cursor.fetchall():\n",
    "    print(i)"
   ]
  },
  {
   "cell_type": "code",
   "execution_count": 12,
   "id": "d183b97f",
   "metadata": {},
   "outputs": [
    {
     "data": {
      "text/plain": [
       "[]"
      ]
     },
     "execution_count": 12,
     "metadata": {},
     "output_type": "execute_result"
    }
   ],
   "source": [
    "cursor.fetchall()"
   ]
  },
  {
   "cell_type": "code",
   "execution_count": 13,
   "id": "b88309dd",
   "metadata": {},
   "outputs": [],
   "source": [
    "cursor.close()"
   ]
  },
  {
   "cell_type": "code",
   "execution_count": 19,
   "id": "88617978",
   "metadata": {},
   "outputs": [
    {
     "data": {
      "text/plain": [
       "<sqlite3.Cursor at 0x27042286040>"
      ]
     },
     "execution_count": 19,
     "metadata": {},
     "output_type": "execute_result"
    }
   ],
   "source": [
    "cursor.execute(\"SELECT * from employees where salary > 70000\")"
   ]
  },
  {
   "cell_type": "code",
   "execution_count": 20,
   "id": "e5c9b1c7",
   "metadata": {},
   "outputs": [
    {
     "name": "stdout",
     "output_type": "stream",
     "text": [
      "(1, 'John', 'Smith', 'john.smith@company.com', '2020-01-15', 95000, 1, None)\n",
      "(2, 'Sarah', 'Johnson', 'sarah.johnson@company.com', '2019-03-22', 87000, 1, 1)\n",
      "(3, 'Mike', 'Brown', 'mike.brown@company.com', '2021-06-10', 72000, 1, 1)\n",
      "(5, 'David', 'Wilson', 'david.wilson@company.com', '2018-11-30', 78000, 2, 4)\n",
      "(6, 'Lisa', 'Anderson', 'lisa.anderson@company.com', '2022-02-14', 85000, 3, None)\n",
      "(9, 'Chris', 'Garcia', 'chris.garcia@company.com', '2019-07-08', 89000, 5, None)\n",
      "(10, 'Jessica', 'Lee', 'jessica.lee@company.com', '2021-12-03', 71000, 1, 1)\n"
     ]
    }
   ],
   "source": [
    "for i in cursor.fetchall():\n",
    "    print(i)"
   ]
  },
  {
   "cell_type": "code",
   "execution_count": 23,
   "id": "d950a374",
   "metadata": {},
   "outputs": [],
   "source": [
    "import pandas as pd\n",
    "\n",
    "sql_statement = \"SELECT * from employees where salary > 70000\""
   ]
  },
  {
   "cell_type": "code",
   "execution_count": 25,
   "id": "3e6cae76",
   "metadata": {},
   "outputs": [],
   "source": [
    "df = pd.read_sql(sql=sql_statement,con=conn)"
   ]
  },
  {
   "cell_type": "code",
   "execution_count": null,
   "id": "e5db84ec",
   "metadata": {},
   "outputs": [],
   "source": [
    "SELECT * FROM employees WHERE first_name LIKE 'J%';"
   ]
  },
  {
   "cell_type": "markdown",
   "id": "319fe975",
   "metadata": {},
   "source": [
    "SELECT first_name as Fname FROM employees WHERE first_name='John';\n",
    "\n",
    "select Fname from (Select first_name as fname from  employees) where fname='John';"
   ]
  },
  {
   "cell_type": "code",
   "execution_count": null,
   "id": "3ca79a00",
   "metadata": {},
   "outputs": [],
   "source": []
  },
  {
   "cell_type": "code",
   "execution_count": 29,
   "id": "c608fed3",
   "metadata": {},
   "outputs": [
    {
     "data": {
      "text/html": [
       "<div>\n",
       "<style scoped>\n",
       "    .dataframe tbody tr th:only-of-type {\n",
       "        vertical-align: middle;\n",
       "    }\n",
       "\n",
       "    .dataframe tbody tr th {\n",
       "        vertical-align: top;\n",
       "    }\n",
       "\n",
       "    .dataframe thead th {\n",
       "        text-align: right;\n",
       "    }\n",
       "</style>\n",
       "<table border=\"1\" class=\"dataframe\">\n",
       "  <thead>\n",
       "    <tr style=\"text-align: right;\">\n",
       "      <th></th>\n",
       "      <th>employee_id</th>\n",
       "      <th>first_name</th>\n",
       "      <th>last_name</th>\n",
       "      <th>email</th>\n",
       "      <th>hire_date</th>\n",
       "      <th>salary</th>\n",
       "      <th>department_id</th>\n",
       "      <th>manager_id</th>\n",
       "    </tr>\n",
       "  </thead>\n",
       "  <tbody>\n",
       "    <tr>\n",
       "      <th>0</th>\n",
       "      <td>1</td>\n",
       "      <td>John</td>\n",
       "      <td>Smith</td>\n",
       "      <td>john.smith@company.com</td>\n",
       "      <td>2020-01-15</td>\n",
       "      <td>95000</td>\n",
       "      <td>1</td>\n",
       "      <td>NaN</td>\n",
       "    </tr>\n",
       "    <tr>\n",
       "      <th>6</th>\n",
       "      <td>10</td>\n",
       "      <td>Jessica</td>\n",
       "      <td>Lee</td>\n",
       "      <td>jessica.lee@company.com</td>\n",
       "      <td>2021-12-03</td>\n",
       "      <td>71000</td>\n",
       "      <td>1</td>\n",
       "      <td>1.0</td>\n",
       "    </tr>\n",
       "  </tbody>\n",
       "</table>\n",
       "</div>"
      ],
      "text/plain": [
       "   employee_id first_name last_name                    email   hire_date  \\\n",
       "0            1       John     Smith   john.smith@company.com  2020-01-15   \n",
       "6           10    Jessica       Lee  jessica.lee@company.com  2021-12-03   \n",
       "\n",
       "   salary  department_id  manager_id  \n",
       "0   95000              1         NaN  \n",
       "6   71000              1         1.0  "
      ]
     },
     "execution_count": 29,
     "metadata": {},
     "output_type": "execute_result"
    }
   ],
   "source": [
    "df.loc[df['first_name'].str.startswith(\"J\")]"
   ]
  },
  {
   "cell_type": "markdown",
   "id": "fe1bdf1c",
   "metadata": {},
   "source": [
    "SELECT first_name from employees;"
   ]
  },
  {
   "cell_type": "markdown",
   "id": "d915d7d8",
   "metadata": {},
   "source": []
  },
  {
   "cell_type": "code",
   "execution_count": 34,
   "id": "b0ff0606",
   "metadata": {},
   "outputs": [
    {
     "data": {
      "text/html": [
       "<div>\n",
       "<style scoped>\n",
       "    .dataframe tbody tr th:only-of-type {\n",
       "        vertical-align: middle;\n",
       "    }\n",
       "\n",
       "    .dataframe tbody tr th {\n",
       "        vertical-align: top;\n",
       "    }\n",
       "\n",
       "    .dataframe thead th {\n",
       "        text-align: right;\n",
       "    }\n",
       "</style>\n",
       "<table border=\"1\" class=\"dataframe\">\n",
       "  <thead>\n",
       "    <tr style=\"text-align: right;\">\n",
       "      <th></th>\n",
       "      <th>employee_id</th>\n",
       "      <th>first_name</th>\n",
       "      <th>last_name</th>\n",
       "      <th>email</th>\n",
       "      <th>hire_date</th>\n",
       "      <th>salary</th>\n",
       "      <th>department_id</th>\n",
       "      <th>manager_id</th>\n",
       "    </tr>\n",
       "  </thead>\n",
       "  <tbody>\n",
       "    <tr>\n",
       "      <th>0</th>\n",
       "      <td>1</td>\n",
       "      <td>John</td>\n",
       "      <td>Smith</td>\n",
       "      <td>john.smith@company.com</td>\n",
       "      <td>2020-01-15</td>\n",
       "      <td>95000</td>\n",
       "      <td>1</td>\n",
       "      <td>NaN</td>\n",
       "    </tr>\n",
       "  </tbody>\n",
       "</table>\n",
       "</div>"
      ],
      "text/plain": [
       "   employee_id first_name last_name                   email   hire_date  \\\n",
       "0            1       John     Smith  john.smith@company.com  2020-01-15   \n",
       "\n",
       "   salary  department_id  manager_id  \n",
       "0   95000              1         NaN  "
      ]
     },
     "execution_count": 34,
     "metadata": {},
     "output_type": "execute_result"
    }
   ],
   "source": [
    "df.loc[df['first_name']=='John']"
   ]
  }
 ],
 "metadata": {
  "kernelspec": {
   "display_name": "Python 3",
   "language": "python",
   "name": "python3"
  },
  "language_info": {
   "codemirror_mode": {
    "name": "ipython",
    "version": 3
   },
   "file_extension": ".py",
   "mimetype": "text/x-python",
   "name": "python",
   "nbconvert_exporter": "python",
   "pygments_lexer": "ipython3",
   "version": "3.12.0"
  }
 },
 "nbformat": 4,
 "nbformat_minor": 5
}
